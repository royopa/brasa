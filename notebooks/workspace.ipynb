{
 "cells": [
  {
   "cell_type": "code",
   "execution_count": 1,
   "metadata": {},
   "outputs": [],
   "source": [
    "%reload_ext autoreload\n",
    "%autoreload 2"
   ]
  },
  {
   "cell_type": "code",
   "execution_count": 2,
   "metadata": {},
   "outputs": [],
   "source": [
    "# import os\n",
    "\n",
    "# os.environ[\"BRASA_DATA_PATH\"] = \"D:\\\\brasa\""
   ]
  },
  {
   "cell_type": "code",
   "execution_count": 3,
   "metadata": {},
   "outputs": [],
   "source": [
    "import sys\n",
    "sys.path.append('..')\n",
    "\n",
    "from datetime import datetime\n",
    "\n",
    "import pandas as pd\n",
    "\n",
    "import brasa\n",
    "\n",
    "import gc"
   ]
  },
  {
   "cell_type": "code",
   "execution_count": 6,
   "metadata": {},
   "outputs": [
    {
     "name": "stdout",
     "output_type": "stream",
     "text": [
      "2023-01-02 00:00:00\n",
      "2023-01-03 00:00:00\n",
      "2023-01-04 00:00:00\n",
      "2023-01-05 00:00:00\n",
      "2023-01-06 00:00:00\n",
      "2023-01-09 00:00:00\n",
      "2023-01-10 00:00:00\n",
      "2023-01-11 00:00:00\n",
      "2023-01-12 00:00:00\n",
      "2023-01-13 00:00:00\n",
      "2023-01-16 00:00:00\n",
      "2023-01-17 00:00:00\n",
      "2023-01-18 00:00:00\n",
      "2023-01-19 00:00:00\n",
      "2023-01-20 00:00:00\n",
      "2023-01-23 00:00:00\n",
      "2023-01-24 00:00:00\n",
      "2023-01-25 00:00:00\n",
      "2023-01-26 00:00:00\n",
      "2023-01-27 00:00:00\n",
      "2023-01-30 00:00:00\n",
      "2023-01-31 00:00:00\n"
     ]
    }
   ],
   "source": [
    "brasa.mget_marketdata(\"b3-futures-settlement-prices\", dict(start=datetime(2023, 1, 1), end=datetime(2023, 1, 31), calendar=\"B3\"), reprocess=\"all\")"
   ]
  },
  {
   "cell_type": "code",
   "execution_count": 4,
   "metadata": {},
   "outputs": [],
   "source": [
    "from brasa.queries import get_timeseries"
   ]
  },
  {
   "cell_type": "code",
   "execution_count": 8,
   "metadata": {},
   "outputs": [
    {
     "data": {
      "application/vnd.jupyter.widget-view+json": {
       "model_id": "9ec7e46ae7e449068cc2bcd142727629",
       "version_major": 2,
       "version_minor": 0
      },
      "text/plain": [
       "FloatProgress(value=0.0, layout=Layout(width='auto'), style=ProgressStyle(bar_color='black'))"
      ]
     },
     "metadata": {},
     "output_type": "display_data"
    },
    {
     "data": {
      "text/html": [
       "<div>\n",
       "<style scoped>\n",
       "    .dataframe tbody tr th:only-of-type {\n",
       "        vertical-align: middle;\n",
       "    }\n",
       "\n",
       "    .dataframe tbody tr th {\n",
       "        vertical-align: top;\n",
       "    }\n",
       "\n",
       "    .dataframe thead th {\n",
       "        text-align: right;\n",
       "    }\n",
       "</style>\n",
       "<table border=\"1\" class=\"dataframe\">\n",
       "  <thead>\n",
       "    <tr style=\"text-align: right;\">\n",
       "      <th>symbol</th>\n",
       "      <th>PETR4</th>\n",
       "    </tr>\n",
       "    <tr>\n",
       "      <th>refdate</th>\n",
       "      <th></th>\n",
       "    </tr>\n",
       "  </thead>\n",
       "  <tbody>\n",
       "    <tr>\n",
       "      <th>2020-01-02</th>\n",
       "      <td>30.70</td>\n",
       "    </tr>\n",
       "    <tr>\n",
       "      <th>2020-01-03</th>\n",
       "      <td>30.45</td>\n",
       "    </tr>\n",
       "    <tr>\n",
       "      <th>2020-01-06</th>\n",
       "      <td>30.81</td>\n",
       "    </tr>\n",
       "    <tr>\n",
       "      <th>2020-01-07</th>\n",
       "      <td>30.69</td>\n",
       "    </tr>\n",
       "    <tr>\n",
       "      <th>2020-01-08</th>\n",
       "      <td>30.50</td>\n",
       "    </tr>\n",
       "    <tr>\n",
       "      <th>...</th>\n",
       "      <td>...</td>\n",
       "    </tr>\n",
       "    <tr>\n",
       "      <th>2020-12-22</th>\n",
       "      <td>27.28</td>\n",
       "    </tr>\n",
       "    <tr>\n",
       "      <th>2020-12-23</th>\n",
       "      <td>27.95</td>\n",
       "    </tr>\n",
       "    <tr>\n",
       "      <th>2020-12-28</th>\n",
       "      <td>28.18</td>\n",
       "    </tr>\n",
       "    <tr>\n",
       "      <th>2020-12-29</th>\n",
       "      <td>28.27</td>\n",
       "    </tr>\n",
       "    <tr>\n",
       "      <th>2020-12-30</th>\n",
       "      <td>28.34</td>\n",
       "    </tr>\n",
       "  </tbody>\n",
       "</table>\n",
       "<p>249 rows × 1 columns</p>\n",
       "</div>"
      ],
      "text/plain": [
       "symbol      PETR4\n",
       "refdate          \n",
       "2020-01-02  30.70\n",
       "2020-01-03  30.45\n",
       "2020-01-06  30.81\n",
       "2020-01-07  30.69\n",
       "2020-01-08  30.50\n",
       "...           ...\n",
       "2020-12-22  27.28\n",
       "2020-12-23  27.95\n",
       "2020-12-28  28.18\n",
       "2020-12-29  28.27\n",
       "2020-12-30  28.34\n",
       "\n",
       "[249 rows x 1 columns]"
      ]
     },
     "execution_count": 8,
     "metadata": {},
     "output_type": "execute_result"
    }
   ],
   "source": [
    "get_timeseries(\"PETR4\", datetime(2020, 1, 1), datetime(2020, 12, 31))"
   ]
  },
  {
   "cell_type": "code",
   "execution_count": 11,
   "metadata": {},
   "outputs": [],
   "source": [
    "import pandas as pd"
   ]
  },
  {
   "cell_type": "code",
   "execution_count": 13,
   "metadata": {},
   "outputs": [],
   "source": [
    "df[\"trade_time\"] = pd.to_datetime(df[\"trade_time\"], format=\"%H%M%S%f\")"
   ]
  },
  {
   "cell_type": "code",
   "execution_count": 1,
   "metadata": {},
   "outputs": [
    {
     "data": {
      "text/plain": [
       "'c:\\\\Users\\\\wilso\\\\anaconda3\\\\envs\\\\w310;C:\\\\Users\\\\wilso\\\\anaconda3\\\\envs\\\\w310;C:\\\\Users\\\\wilso\\\\anaconda3\\\\envs\\\\w310\\\\Library\\\\mingw-w64\\\\bin;C:\\\\Users\\\\wilso\\\\anaconda3\\\\envs\\\\w310\\\\Library\\\\usr\\\\bin;C:\\\\Users\\\\wilso\\\\anaconda3\\\\envs\\\\w310\\\\Library\\\\bin;C:\\\\Users\\\\wilso\\\\anaconda3\\\\envs\\\\w310\\\\Scripts;C:\\\\Users\\\\wilso\\\\anaconda3\\\\envs\\\\w310\\\\bin;C:\\\\Users\\\\wilso\\\\anaconda3\\\\condabin;C:\\\\Windows\\\\system32;C:\\\\Windows;C:\\\\Windows\\\\System32\\\\Wbem;C:\\\\Windows\\\\System32\\\\WindowsPowerShell\\\\v1.0;C:\\\\Windows\\\\System32\\\\OpenSSH;C:\\\\Program Files (x86)\\\\NVIDIA Corporation\\\\PhysX\\\\Common;C:\\\\Program Files\\\\NVIDIA Corporation\\\\NVIDIA NvDLISR;C:\\\\Program Files\\\\Git\\\\cmd;C:\\\\WINDOWS\\\\system32;C:\\\\WINDOWS;C:\\\\WINDOWS\\\\System32\\\\Wbem;C:\\\\WINDOWS\\\\System32\\\\WindowsPowerShell\\\\v1.0;C:\\\\WINDOWS\\\\System32\\\\OpenSSH;C:\\\\ProgramData\\\\chocolatey\\\\bin;C:\\\\Program Files\\\\dotnet;C:\\\\Program Files\\\\PowerShell\\\\7;C:\\\\Users\\\\wilso\\\\AppData\\\\Local\\\\Programs\\\\Quarto\\\\bin;C:\\\\Users\\\\wilso\\\\anaconda3;C:\\\\Users\\\\wilso\\\\anaconda3\\\\Scripts;C:\\\\Users\\\\wilso\\\\anaconda3\\\\Library\\\\bin;C:\\\\Users\\\\wilso\\\\AppData\\\\Local\\\\Microsoft\\\\WindowsApps;C:\\\\Users\\\\wilso\\\\AppData\\\\Local\\\\Programs\\\\Microsoft VS Code\\\\bin;C:\\\\Users\\\\wilso\\\\AppData\\\\Local\\\\Google\\\\Cloud SDK\\\\google-cloud-sdk\\\\bin;C:\\\\Program Files\\\\Java\\\\jdk1.8.0_251\\\\bin;C:\\\\rtools40\\\\qpdf-10.3.1\\\\bin;C:\\\\Users\\\\wilso\\\\AppData\\\\Roaming\\\\Python\\\\Scripts;C:\\\\Users\\\\wilso\\\\AppData\\\\Local\\\\RStudio-2021.09.2-382\\\\bin\\\\pandoc;C:\\\\Users\\\\wilso\\\\AppData\\\\Local\\\\Pandoc;C:\\\\Users\\\\wilso\\\\AppData\\\\Roaming\\\\TinyTeX\\\\bin\\\\win32;C:\\\\Users\\\\wilso\\\\AppData\\\\Local\\\\Programs\\\\Microsoft VS Code Insiders\\\\bin'"
      ]
     },
     "execution_count": 1,
     "metadata": {},
     "output_type": "execute_result"
    }
   ],
   "source": [
    "import os\n",
    "\n",
    "# os.environ[\"BRASA_DATA_PATH\"] = \"C:\\\\Users\\\\gabri\\\\Documents\\\\brasa-data\"\n",
    "os.environ[\"PATH\"]"
   ]
  },
  {
   "cell_type": "code",
   "execution_count": 2,
   "metadata": {},
   "outputs": [
    {
     "ename": "KeyError",
     "evalue": "'BRASA_DATA_PATH'",
     "output_type": "error",
     "traceback": [
      "\u001b[1;31m---------------------------------------------------------------------------\u001b[0m",
      "\u001b[1;31mKeyError\u001b[0m                                  Traceback (most recent call last)",
      "Cell \u001b[1;32mIn[2], line 1\u001b[0m\n\u001b[1;32m----> 1\u001b[0m os\u001b[39m.\u001b[39;49menviron[\u001b[39m\"\u001b[39;49m\u001b[39mBRASA_DATA_PATH\u001b[39;49m\u001b[39m\"\u001b[39;49m]\n",
      "File \u001b[1;32mc:\\Users\\wilso\\anaconda3\\envs\\w310\\lib\\os.py:680\u001b[0m, in \u001b[0;36m_Environ.__getitem__\u001b[1;34m(self, key)\u001b[0m\n\u001b[0;32m    677\u001b[0m     value \u001b[39m=\u001b[39m \u001b[39mself\u001b[39m\u001b[39m.\u001b[39m_data[\u001b[39mself\u001b[39m\u001b[39m.\u001b[39mencodekey(key)]\n\u001b[0;32m    678\u001b[0m \u001b[39mexcept\u001b[39;00m \u001b[39mKeyError\u001b[39;00m:\n\u001b[0;32m    679\u001b[0m     \u001b[39m# raise KeyError with the original key value\u001b[39;00m\n\u001b[1;32m--> 680\u001b[0m     \u001b[39mraise\u001b[39;00m \u001b[39mKeyError\u001b[39;00m(key) \u001b[39mfrom\u001b[39;00m \u001b[39mNone\u001b[39;00m\n\u001b[0;32m    681\u001b[0m \u001b[39mreturn\u001b[39;00m \u001b[39mself\u001b[39m\u001b[39m.\u001b[39mdecodevalue(value)\n",
      "\u001b[1;31mKeyError\u001b[0m: 'BRASA_DATA_PATH'"
     ]
    }
   ],
   "source": [
    "os.environ[\"BRASA_DATA_PATH\"]"
   ]
  },
  {
   "cell_type": "code",
   "execution_count": 19,
   "metadata": {},
   "outputs": [
    {
     "name": "stdout",
     "output_type": "stream",
     "text": [
      "  trade_date trade_time\n",
      "0 2022-01-01   09:00:00\n",
      "1 2022-01-02   09:15:00\n",
      "2 2022-01-03   09:30:00\n",
      "0    09:00:00\n",
      "1    09:15:00\n",
      "2    09:30:00\n",
      "Name: trade_time, dtype: object\n"
     ]
    },
    {
     "ename": "TypeError",
     "evalue": "'>' not supported between instances of 'datetime.time' and 'str'",
     "output_type": "error",
     "traceback": [
      "\u001b[1;31m---------------------------------------------------------------------------\u001b[0m",
      "\u001b[1;31mTypeError\u001b[0m                                 Traceback (most recent call last)",
      "Cell \u001b[1;32mIn[19], line 22\u001b[0m\n\u001b[0;32m     14\u001b[0m \u001b[39mprint\u001b[39m(df[\u001b[39m'\u001b[39m\u001b[39mtrade_time\u001b[39m\u001b[39m'\u001b[39m])\n\u001b[0;32m     16\u001b[0m \u001b[39m# # replace the date component of trade_time with the date component of trade_date\u001b[39;00m\n\u001b[0;32m     17\u001b[0m \u001b[39m# df['trade_time'] = df.apply(lambda row: datetime.combine(row['trade_date'].date(), row['trade_time']), axis=1)\u001b[39;00m\n\u001b[0;32m     18\u001b[0m \n\u001b[0;32m     19\u001b[0m \u001b[39m# # print the updated dataframe\u001b[39;00m\n\u001b[0;32m     20\u001b[0m \u001b[39m# print(df)\u001b[39;00m\n\u001b[1;32m---> 22\u001b[0m df[\u001b[39m\"\u001b[39;49m\u001b[39mtrade_time\u001b[39;49m\u001b[39m\"\u001b[39;49m] \u001b[39m>\u001b[39;49m \u001b[39m\"\u001b[39;49m\u001b[39m09:15:00\u001b[39;49m\u001b[39m\"\u001b[39;49m\n",
      "File \u001b[1;32mc:\\Users\\wilso\\anaconda3\\envs\\w310\\lib\\site-packages\\pandas\\core\\ops\\common.py:81\u001b[0m, in \u001b[0;36m_unpack_zerodim_and_defer.<locals>.new_method\u001b[1;34m(self, other)\u001b[0m\n\u001b[0;32m     77\u001b[0m             \u001b[39mreturn\u001b[39;00m \u001b[39mNotImplemented\u001b[39m\n\u001b[0;32m     79\u001b[0m other \u001b[39m=\u001b[39m item_from_zerodim(other)\n\u001b[1;32m---> 81\u001b[0m \u001b[39mreturn\u001b[39;00m method(\u001b[39mself\u001b[39;49m, other)\n",
      "File \u001b[1;32mc:\\Users\\wilso\\anaconda3\\envs\\w310\\lib\\site-packages\\pandas\\core\\arraylike.py:56\u001b[0m, in \u001b[0;36mOpsMixin.__gt__\u001b[1;34m(self, other)\u001b[0m\n\u001b[0;32m     54\u001b[0m \u001b[39m@unpack_zerodim_and_defer\u001b[39m(\u001b[39m\"\u001b[39m\u001b[39m__gt__\u001b[39m\u001b[39m\"\u001b[39m)\n\u001b[0;32m     55\u001b[0m \u001b[39mdef\u001b[39;00m \u001b[39m__gt__\u001b[39m(\u001b[39mself\u001b[39m, other):\n\u001b[1;32m---> 56\u001b[0m     \u001b[39mreturn\u001b[39;00m \u001b[39mself\u001b[39;49m\u001b[39m.\u001b[39;49m_cmp_method(other, operator\u001b[39m.\u001b[39;49mgt)\n",
      "File \u001b[1;32mc:\\Users\\wilso\\anaconda3\\envs\\w310\\lib\\site-packages\\pandas\\core\\series.py:6092\u001b[0m, in \u001b[0;36mSeries._cmp_method\u001b[1;34m(self, other, op)\u001b[0m\n\u001b[0;32m   6089\u001b[0m rvalues \u001b[39m=\u001b[39m extract_array(other, extract_numpy\u001b[39m=\u001b[39m\u001b[39mTrue\u001b[39;00m, extract_range\u001b[39m=\u001b[39m\u001b[39mTrue\u001b[39;00m)\n\u001b[0;32m   6091\u001b[0m \u001b[39mwith\u001b[39;00m np\u001b[39m.\u001b[39merrstate(\u001b[39mall\u001b[39m\u001b[39m=\u001b[39m\u001b[39m\"\u001b[39m\u001b[39mignore\u001b[39m\u001b[39m\"\u001b[39m):\n\u001b[1;32m-> 6092\u001b[0m     res_values \u001b[39m=\u001b[39m ops\u001b[39m.\u001b[39;49mcomparison_op(lvalues, rvalues, op)\n\u001b[0;32m   6094\u001b[0m \u001b[39mreturn\u001b[39;00m \u001b[39mself\u001b[39m\u001b[39m.\u001b[39m_construct_result(res_values, name\u001b[39m=\u001b[39mres_name)\n",
      "File \u001b[1;32mc:\\Users\\wilso\\anaconda3\\envs\\w310\\lib\\site-packages\\pandas\\core\\ops\\array_ops.py:293\u001b[0m, in \u001b[0;36mcomparison_op\u001b[1;34m(left, right, op)\u001b[0m\n\u001b[0;32m    290\u001b[0m     \u001b[39mreturn\u001b[39;00m invalid_comparison(lvalues, rvalues, op)\n\u001b[0;32m    292\u001b[0m \u001b[39melif\u001b[39;00m is_object_dtype(lvalues\u001b[39m.\u001b[39mdtype) \u001b[39mor\u001b[39;00m \u001b[39misinstance\u001b[39m(rvalues, \u001b[39mstr\u001b[39m):\n\u001b[1;32m--> 293\u001b[0m     res_values \u001b[39m=\u001b[39m comp_method_OBJECT_ARRAY(op, lvalues, rvalues)\n\u001b[0;32m    295\u001b[0m \u001b[39melse\u001b[39;00m:\n\u001b[0;32m    296\u001b[0m     res_values \u001b[39m=\u001b[39m _na_arithmetic_op(lvalues, rvalues, op, is_cmp\u001b[39m=\u001b[39m\u001b[39mTrue\u001b[39;00m)\n",
      "File \u001b[1;32mc:\\Users\\wilso\\anaconda3\\envs\\w310\\lib\\site-packages\\pandas\\core\\ops\\array_ops.py:82\u001b[0m, in \u001b[0;36mcomp_method_OBJECT_ARRAY\u001b[1;34m(op, x, y)\u001b[0m\n\u001b[0;32m     80\u001b[0m     result \u001b[39m=\u001b[39m libops\u001b[39m.\u001b[39mvec_compare(x\u001b[39m.\u001b[39mravel(), y\u001b[39m.\u001b[39mravel(), op)\n\u001b[0;32m     81\u001b[0m \u001b[39melse\u001b[39;00m:\n\u001b[1;32m---> 82\u001b[0m     result \u001b[39m=\u001b[39m libops\u001b[39m.\u001b[39;49mscalar_compare(x\u001b[39m.\u001b[39;49mravel(), y, op)\n\u001b[0;32m     83\u001b[0m \u001b[39mreturn\u001b[39;00m result\u001b[39m.\u001b[39mreshape(x\u001b[39m.\u001b[39mshape)\n",
      "File \u001b[1;32mc:\\Users\\wilso\\anaconda3\\envs\\w310\\lib\\site-packages\\pandas\\_libs\\ops.pyx:107\u001b[0m, in \u001b[0;36mpandas._libs.ops.scalar_compare\u001b[1;34m()\u001b[0m\n",
      "\u001b[1;31mTypeError\u001b[0m: '>' not supported between instances of 'datetime.time' and 'str'"
     ]
    }
   ],
   "source": [
    "import pandas as pd\n",
    "from datetime import datetime, time\n",
    "\n",
    "# create a sample dataframe\n",
    "df = pd.DataFrame({'trade_date': ['2022-01-01', '2022-01-02', '2022-01-03'],\n",
    "                   'trade_time': ['09:00:00', '09:15:00', '09:30:00']})\n",
    "\n",
    "# convert the trade_date column to datetime\n",
    "df['trade_date'] = pd.to_datetime(df['trade_date'])\n",
    "\n",
    "# extract the time component of trade_time\n",
    "df['trade_time'] = pd.to_datetime(df['trade_time'], format='%H:%M:%S').dt.time\n",
    "print(df)\n",
    "print(df['trade_time'])\n",
    "\n",
    "# # replace the date component of trade_time with the date component of trade_date\n",
    "# df['trade_time'] = df.apply(lambda row: datetime.combine(row['trade_date'].date(), row['trade_time']), axis=1)\n",
    "\n",
    "# # print the updated dataframe\n",
    "# print(df)\n",
    "\n",
    "df[\"trade_time\"] > \"09:15:00\""
   ]
  },
  {
   "cell_type": "code",
   "execution_count": 3,
   "metadata": {},
   "outputs": [],
   "source": [
    "import pickle\n",
    "import hashlib\n",
    "from datetime import datetime"
   ]
  },
  {
   "cell_type": "code",
   "execution_count": 13,
   "metadata": {},
   "outputs": [
    {
     "data": {
      "text/plain": [
       "'6b9115bafead78af0c8bbebf80b94c3f'"
      ]
     },
     "execution_count": 13,
     "metadata": {},
     "output_type": "execute_result"
    }
   ],
   "source": [
    "sample_dict = {\"refdate\": datetime.now().date()}\n",
    "t = tuple(sorted(sample_dict.items(), key=lambda x: x[0]))\n",
    "t = (\"b3-futures-settlement-prices\", t)\n",
    "hashlib.md5(pickle.dumps(t)).hexdigest()"
   ]
  },
  {
   "cell_type": "code",
   "execution_count": 25,
   "metadata": {},
   "outputs": [],
   "source": [
    "import yaml"
   ]
  },
  {
   "cell_type": "code",
   "execution_count": 32,
   "metadata": {},
   "outputs": [
    {
     "data": {
      "text/plain": [
       "{'refdate': datetime.datetime(2023, 5, 15, 17, 47, 5, 405754)}"
      ]
     },
     "execution_count": 32,
     "metadata": {},
     "output_type": "execute_result"
    }
   ],
   "source": [
    "yaml.safe_load(yaml.dump(sample_dict))"
   ]
  },
  {
   "cell_type": "code",
   "execution_count": 7,
   "metadata": {},
   "outputs": [],
   "source": [
    "import sys\n",
    "sys.path.append('..')\n",
    "\n",
    "import pandas as pd\n",
    "\n",
    "from brasa.templates import read_marketdata, download_marketdata\n",
    "\n",
    "from lxml import etree"
   ]
  },
  {
   "cell_type": "code",
   "execution_count": 2,
   "metadata": {},
   "outputs": [],
   "source": [
    "dest = download_marketdata(\"AjustesDiarios\", refdate=datetime(2023, 5, 10))"
   ]
  },
  {
   "cell_type": "code",
   "execution_count": 14,
   "metadata": {},
   "outputs": [
    {
     "data": {
      "text/plain": [
       "'10/05/2023'"
      ]
     },
     "execution_count": 14,
     "metadata": {},
     "output_type": "execute_result"
    }
   ],
   "source": [
    "tree = etree.parse(dest, etree.HTMLParser())\n",
    "tree.xpath(f\"//input[@id='dData1']\")[0].attrib[\"value\"]"
   ]
  },
  {
   "cell_type": "code",
   "execution_count": 21,
   "metadata": {},
   "outputs": [],
   "source": [
    "x = pd.read_html(dest, attrs=dict(id=\"tblDadosAjustes\"), decimal=\",\", thousands=\".\", encoding=\"latin1\")\n",
    "df = x[0]"
   ]
  },
  {
   "cell_type": "code",
   "execution_count": 24,
   "metadata": {},
   "outputs": [
    {
     "data": {
      "text/html": [
       "<div>\n",
       "<style scoped>\n",
       "    .dataframe tbody tr th:only-of-type {\n",
       "        vertical-align: middle;\n",
       "    }\n",
       "\n",
       "    .dataframe tbody tr th {\n",
       "        vertical-align: top;\n",
       "    }\n",
       "\n",
       "    .dataframe thead th {\n",
       "        text-align: right;\n",
       "    }\n",
       "</style>\n",
       "<table border=\"1\" class=\"dataframe\">\n",
       "  <thead>\n",
       "    <tr style=\"text-align: right;\">\n",
       "      <th></th>\n",
       "      <th>Mercadoria</th>\n",
       "      <th>Vencimento</th>\n",
       "      <th>Preï¿½o de ajuste anterior</th>\n",
       "      <th>Preï¿½o de ajuste Atual</th>\n",
       "      <th>Variaï¿½ï¿½o</th>\n",
       "      <th>Valor do ajuste por contrato (R$)</th>\n",
       "    </tr>\n",
       "  </thead>\n",
       "  <tbody>\n",
       "    <tr>\n",
       "      <th>0</th>\n",
       "      <td>ABEVO - Contrato Futuro de ABEV3</td>\n",
       "      <td>K23</td>\n",
       "      <td>14.55</td>\n",
       "      <td>14.45</td>\n",
       "      <td>-0.1</td>\n",
       "      <td>0.10</td>\n",
       "    </tr>\n",
       "    <tr>\n",
       "      <th>1</th>\n",
       "      <td>NaN</td>\n",
       "      <td>M23</td>\n",
       "      <td>14.67</td>\n",
       "      <td>14.57</td>\n",
       "      <td>-0.1</td>\n",
       "      <td>0.10</td>\n",
       "    </tr>\n",
       "    <tr>\n",
       "      <th>2</th>\n",
       "      <td>AFS - Rande da ï¿½frica do Sul (em USD)</td>\n",
       "      <td>M23</td>\n",
       "      <td>18634.80</td>\n",
       "      <td>18904.10</td>\n",
       "      <td>269.3</td>\n",
       "      <td>707.25</td>\n",
       "    </tr>\n",
       "    <tr>\n",
       "      <th>3</th>\n",
       "      <td>NaN</td>\n",
       "      <td>N23</td>\n",
       "      <td>18686.30</td>\n",
       "      <td>18959.80</td>\n",
       "      <td>273.5</td>\n",
       "      <td>718.28</td>\n",
       "    </tr>\n",
       "    <tr>\n",
       "      <th>4</th>\n",
       "      <td>NaN</td>\n",
       "      <td>Q23</td>\n",
       "      <td>18740.40</td>\n",
       "      <td>19019.60</td>\n",
       "      <td>279.2</td>\n",
       "      <td>733.25</td>\n",
       "    </tr>\n",
       "  </tbody>\n",
       "</table>\n",
       "</div>"
      ],
      "text/plain": [
       "                                Mercadoria Vencimento   \n",
       "0         ABEVO - Contrato Futuro de ABEV3        K23  \\\n",
       "1                                      NaN        M23   \n",
       "2  AFS - Rande da ï¿½frica do Sul (em USD)        M23   \n",
       "3                                      NaN        N23   \n",
       "4                                      NaN        Q23   \n",
       "\n",
       "   Preï¿½o de ajuste anterior  Preï¿½o de ajuste Atual  Variaï¿½ï¿½o   \n",
       "0                       14.55                    14.45          -0.1  \\\n",
       "1                       14.67                    14.57          -0.1   \n",
       "2                    18634.80                 18904.10         269.3   \n",
       "3                    18686.30                 18959.80         273.5   \n",
       "4                    18740.40                 19019.60         279.2   \n",
       "\n",
       "   Valor do ajuste por contrato (R$)  \n",
       "0                               0.10  \n",
       "1                               0.10  \n",
       "2                             707.25  \n",
       "3                             718.28  \n",
       "4                             733.25  "
      ]
     },
     "execution_count": 24,
     "metadata": {},
     "output_type": "execute_result"
    }
   ],
   "source": [
    "df.head()"
   ]
  },
  {
   "cell_type": "code",
   "execution_count": 27,
   "metadata": {},
   "outputs": [
    {
     "data": {
      "text/plain": [
       "True"
      ]
     },
     "execution_count": 27,
     "metadata": {},
     "output_type": "execute_result"
    }
   ],
   "source": [
    "import numpy as np\n",
    "\n",
    "\n",
    "df.loc[1, \"Mercadoria\"] is np.nan"
   ]
  },
  {
   "cell_type": "code",
   "execution_count": 32,
   "metadata": {},
   "outputs": [
    {
     "data": {
      "text/plain": [
       "0      ABEVO\n",
       "1      ABEVO\n",
       "2        AFS\n",
       "3        AFS\n",
       "4        AFS\n",
       "       ...  \n",
       "575      ZAR\n",
       "576      ZAR\n",
       "577      ZAR\n",
       "578      ZAR\n",
       "579      ZAR\n",
       "Name: Mercadoria, Length: 580, dtype: object"
      ]
     },
     "execution_count": 32,
     "metadata": {},
     "output_type": "execute_result"
    }
   ],
   "source": [
    "for ix in range(df.shape[0]):\n",
    "    if df.loc[ix, \"Mercadoria\"] is not np.nan:\n",
    "        last_name = df.loc[ix, \"Mercadoria\"]\n",
    "    df.loc[ix, \"Mercadoria\"] = last_name\n",
    "df.loc[:, \"Mercadoria\"] = df.loc[:, \"Mercadoria\"].str.extract(r\"^(\\w+)\")[0]\n",
    "df.Mercadoria"
   ]
  },
  {
   "cell_type": "code",
   "execution_count": 38,
   "metadata": {},
   "outputs": [],
   "source": [
    "df[\"symbol\"] = df.Mercadoria + df.Vencimento"
   ]
  },
  {
   "cell_type": "code",
   "execution_count": 39,
   "metadata": {},
   "outputs": [
    {
     "data": {
      "text/html": [
       "<div>\n",
       "<style scoped>\n",
       "    .dataframe tbody tr th:only-of-type {\n",
       "        vertical-align: middle;\n",
       "    }\n",
       "\n",
       "    .dataframe tbody tr th {\n",
       "        vertical-align: top;\n",
       "    }\n",
       "\n",
       "    .dataframe thead th {\n",
       "        text-align: right;\n",
       "    }\n",
       "</style>\n",
       "<table border=\"1\" class=\"dataframe\">\n",
       "  <thead>\n",
       "    <tr style=\"text-align: right;\">\n",
       "      <th></th>\n",
       "      <th>Mercadoria</th>\n",
       "      <th>Vencimento</th>\n",
       "      <th>Preï¿½o de ajuste anterior</th>\n",
       "      <th>Preï¿½o de ajuste Atual</th>\n",
       "      <th>Variaï¿½ï¿½o</th>\n",
       "      <th>Valor do ajuste por contrato (R$)</th>\n",
       "      <th>symbol</th>\n",
       "    </tr>\n",
       "  </thead>\n",
       "  <tbody>\n",
       "    <tr>\n",
       "      <th>0</th>\n",
       "      <td>ABEVO</td>\n",
       "      <td>K23</td>\n",
       "      <td>14.550</td>\n",
       "      <td>14.450</td>\n",
       "      <td>-0.100</td>\n",
       "      <td>0.10</td>\n",
       "      <td>ABEVOK23</td>\n",
       "    </tr>\n",
       "    <tr>\n",
       "      <th>1</th>\n",
       "      <td>ABEVO</td>\n",
       "      <td>M23</td>\n",
       "      <td>14.670</td>\n",
       "      <td>14.570</td>\n",
       "      <td>-0.100</td>\n",
       "      <td>0.10</td>\n",
       "      <td>ABEVOM23</td>\n",
       "    </tr>\n",
       "    <tr>\n",
       "      <th>2</th>\n",
       "      <td>AFS</td>\n",
       "      <td>M23</td>\n",
       "      <td>18634.800</td>\n",
       "      <td>18904.100</td>\n",
       "      <td>269.300</td>\n",
       "      <td>707.25</td>\n",
       "      <td>AFSM23</td>\n",
       "    </tr>\n",
       "    <tr>\n",
       "      <th>3</th>\n",
       "      <td>AFS</td>\n",
       "      <td>N23</td>\n",
       "      <td>18686.300</td>\n",
       "      <td>18959.800</td>\n",
       "      <td>273.500</td>\n",
       "      <td>718.28</td>\n",
       "      <td>AFSN23</td>\n",
       "    </tr>\n",
       "    <tr>\n",
       "      <th>4</th>\n",
       "      <td>AFS</td>\n",
       "      <td>Q23</td>\n",
       "      <td>18740.400</td>\n",
       "      <td>19019.600</td>\n",
       "      <td>279.200</td>\n",
       "      <td>733.25</td>\n",
       "      <td>AFSQ23</td>\n",
       "    </tr>\n",
       "    <tr>\n",
       "      <th>...</th>\n",
       "      <td>...</td>\n",
       "      <td>...</td>\n",
       "      <td>...</td>\n",
       "      <td>...</td>\n",
       "      <td>...</td>\n",
       "      <td>...</td>\n",
       "      <td>...</td>\n",
       "    </tr>\n",
       "    <tr>\n",
       "      <th>575</th>\n",
       "      <td>ZAR</td>\n",
       "      <td>M23</td>\n",
       "      <td>2693.591</td>\n",
       "      <td>2632.427</td>\n",
       "      <td>-61.164</td>\n",
       "      <td>2140.74</td>\n",
       "      <td>ZARM23</td>\n",
       "    </tr>\n",
       "    <tr>\n",
       "      <th>576</th>\n",
       "      <td>ZAR</td>\n",
       "      <td>N23</td>\n",
       "      <td>2701.409</td>\n",
       "      <td>2639.503</td>\n",
       "      <td>-61.906</td>\n",
       "      <td>2166.71</td>\n",
       "      <td>ZARN23</td>\n",
       "    </tr>\n",
       "    <tr>\n",
       "      <th>577</th>\n",
       "      <td>ZAR</td>\n",
       "      <td>Q23</td>\n",
       "      <td>2708.160</td>\n",
       "      <td>2645.384</td>\n",
       "      <td>-62.776</td>\n",
       "      <td>2197.16</td>\n",
       "      <td>ZARQ23</td>\n",
       "    </tr>\n",
       "    <tr>\n",
       "      <th>578</th>\n",
       "      <td>ZAR</td>\n",
       "      <td>U23</td>\n",
       "      <td>2716.019</td>\n",
       "      <td>2652.861</td>\n",
       "      <td>-63.158</td>\n",
       "      <td>2210.53</td>\n",
       "      <td>ZARU23</td>\n",
       "    </tr>\n",
       "    <tr>\n",
       "      <th>579</th>\n",
       "      <td>ZAR</td>\n",
       "      <td>V23</td>\n",
       "      <td>2720.971</td>\n",
       "      <td>2657.786</td>\n",
       "      <td>-63.185</td>\n",
       "      <td>2211.47</td>\n",
       "      <td>ZARV23</td>\n",
       "    </tr>\n",
       "  </tbody>\n",
       "</table>\n",
       "<p>580 rows × 7 columns</p>\n",
       "</div>"
      ],
      "text/plain": [
       "    Mercadoria Vencimento  Preï¿½o de ajuste anterior   \n",
       "0        ABEVO        K23                      14.550  \\\n",
       "1        ABEVO        M23                      14.670   \n",
       "2          AFS        M23                   18634.800   \n",
       "3          AFS        N23                   18686.300   \n",
       "4          AFS        Q23                   18740.400   \n",
       "..         ...        ...                         ...   \n",
       "575        ZAR        M23                    2693.591   \n",
       "576        ZAR        N23                    2701.409   \n",
       "577        ZAR        Q23                    2708.160   \n",
       "578        ZAR        U23                    2716.019   \n",
       "579        ZAR        V23                    2720.971   \n",
       "\n",
       "     Preï¿½o de ajuste Atual  Variaï¿½ï¿½o  Valor do ajuste por contrato (R$)   \n",
       "0                     14.450        -0.100                               0.10  \\\n",
       "1                     14.570        -0.100                               0.10   \n",
       "2                  18904.100       269.300                             707.25   \n",
       "3                  18959.800       273.500                             718.28   \n",
       "4                  19019.600       279.200                             733.25   \n",
       "..                       ...           ...                                ...   \n",
       "575                 2632.427       -61.164                            2140.74   \n",
       "576                 2639.503       -61.906                            2166.71   \n",
       "577                 2645.384       -62.776                            2197.16   \n",
       "578                 2652.861       -63.158                            2210.53   \n",
       "579                 2657.786       -63.185                            2211.47   \n",
       "\n",
       "       symbol  \n",
       "0    ABEVOK23  \n",
       "1    ABEVOM23  \n",
       "2      AFSM23  \n",
       "3      AFSN23  \n",
       "4      AFSQ23  \n",
       "..        ...  \n",
       "575    ZARM23  \n",
       "576    ZARN23  \n",
       "577    ZARQ23  \n",
       "578    ZARU23  \n",
       "579    ZARV23  \n",
       "\n",
       "[580 rows x 7 columns]"
      ]
     },
     "execution_count": 39,
     "metadata": {},
     "output_type": "execute_result"
    }
   ],
   "source": [
    "df"
   ]
  },
  {
   "cell_type": "code",
   "execution_count": 40,
   "metadata": {},
   "outputs": [
    {
     "data": {
      "text/html": [
       "<div>\n",
       "<style scoped>\n",
       "    .dataframe tbody tr th:only-of-type {\n",
       "        vertical-align: middle;\n",
       "    }\n",
       "\n",
       "    .dataframe tbody tr th {\n",
       "        vertical-align: top;\n",
       "    }\n",
       "\n",
       "    .dataframe thead th {\n",
       "        text-align: right;\n",
       "    }\n",
       "</style>\n",
       "<table border=\"1\" class=\"dataframe\">\n",
       "  <thead>\n",
       "    <tr style=\"text-align: right;\">\n",
       "      <th></th>\n",
       "      <th>DataReferencia</th>\n",
       "      <th>CodigoInstrumento</th>\n",
       "      <th>AcaoAtualizacao</th>\n",
       "      <th>PrecoNegocio</th>\n",
       "      <th>QuantidadeNegociada</th>\n",
       "      <th>HoraFechamento</th>\n",
       "      <th>CodigoIdentificadorNegocio</th>\n",
       "      <th>TipoSessaoPregao</th>\n",
       "      <th>DataNegocio</th>\n",
       "      <th>CodigoParticipanteComprador</th>\n",
       "      <th>CodigoParticipanteVendedor</th>\n",
       "    </tr>\n",
       "  </thead>\n",
       "  <tbody>\n",
       "    <tr>\n",
       "      <th>0</th>\n",
       "      <td>2023-05-10</td>\n",
       "      <td>BGIK23</td>\n",
       "      <td>0</td>\n",
       "      <td>264.5</td>\n",
       "      <td>5</td>\n",
       "      <td>90000000</td>\n",
       "      <td>250</td>\n",
       "      <td>1.0</td>\n",
       "      <td>2023-05-10</td>\n",
       "      <td>85</td>\n",
       "      <td>107</td>\n",
       "    </tr>\n",
       "    <tr>\n",
       "      <th>1</th>\n",
       "      <td>2023-05-10</td>\n",
       "      <td>BGIK23</td>\n",
       "      <td>0</td>\n",
       "      <td>264.5</td>\n",
       "      <td>1</td>\n",
       "      <td>90000000</td>\n",
       "      <td>260</td>\n",
       "      <td>1.0</td>\n",
       "      <td>2023-05-10</td>\n",
       "      <td>85</td>\n",
       "      <td>107</td>\n",
       "    </tr>\n",
       "    <tr>\n",
       "      <th>2</th>\n",
       "      <td>2023-05-10</td>\n",
       "      <td>BGIK23</td>\n",
       "      <td>0</td>\n",
       "      <td>264.5</td>\n",
       "      <td>1</td>\n",
       "      <td>90000000</td>\n",
       "      <td>270</td>\n",
       "      <td>1.0</td>\n",
       "      <td>2023-05-10</td>\n",
       "      <td>85</td>\n",
       "      <td>308</td>\n",
       "    </tr>\n",
       "    <tr>\n",
       "      <th>3</th>\n",
       "      <td>2023-05-10</td>\n",
       "      <td>BGIK23</td>\n",
       "      <td>0</td>\n",
       "      <td>264.5</td>\n",
       "      <td>3</td>\n",
       "      <td>90000000</td>\n",
       "      <td>280</td>\n",
       "      <td>1.0</td>\n",
       "      <td>2023-05-10</td>\n",
       "      <td>85</td>\n",
       "      <td>107</td>\n",
       "    </tr>\n",
       "    <tr>\n",
       "      <th>4</th>\n",
       "      <td>2023-05-10</td>\n",
       "      <td>BGIK23</td>\n",
       "      <td>0</td>\n",
       "      <td>264.5</td>\n",
       "      <td>2</td>\n",
       "      <td>90000000</td>\n",
       "      <td>290</td>\n",
       "      <td>1.0</td>\n",
       "      <td>2023-05-10</td>\n",
       "      <td>120</td>\n",
       "      <td>107</td>\n",
       "    </tr>\n",
       "  </tbody>\n",
       "</table>\n",
       "</div>"
      ],
      "text/plain": [
       "  DataReferencia CodigoInstrumento  AcaoAtualizacao  PrecoNegocio   \n",
       "0     2023-05-10            BGIK23                0         264.5  \\\n",
       "1     2023-05-10            BGIK23                0         264.5   \n",
       "2     2023-05-10            BGIK23                0         264.5   \n",
       "3     2023-05-10            BGIK23                0         264.5   \n",
       "4     2023-05-10            BGIK23                0         264.5   \n",
       "\n",
       "   QuantidadeNegociada  HoraFechamento  CodigoIdentificadorNegocio   \n",
       "0                    5        90000000                         250  \\\n",
       "1                    1        90000000                         260   \n",
       "2                    1        90000000                         270   \n",
       "3                    3        90000000                         280   \n",
       "4                    2        90000000                         290   \n",
       "\n",
       "   TipoSessaoPregao DataNegocio  CodigoParticipanteComprador   \n",
       "0               1.0  2023-05-10                           85  \\\n",
       "1               1.0  2023-05-10                           85   \n",
       "2               1.0  2023-05-10                           85   \n",
       "3               1.0  2023-05-10                           85   \n",
       "4               1.0  2023-05-10                          120   \n",
       "\n",
       "   CodigoParticipanteVendedor  \n",
       "0                         107  \n",
       "1                         107  \n",
       "2                         308  \n",
       "3                         107  \n",
       "4                         107  "
      ]
     },
     "metadata": {},
     "output_type": "display_data"
    },
    {
     "data": {
      "text/plain": [
       "DataReferencia                  object\n",
       "CodigoInstrumento               object\n",
       "AcaoAtualizacao                  int64\n",
       "PrecoNegocio                   float64\n",
       "QuantidadeNegociada              int64\n",
       "HoraFechamento                   int64\n",
       "CodigoIdentificadorNegocio       int64\n",
       "TipoSessaoPregao               float64\n",
       "DataNegocio                     object\n",
       "CodigoParticipanteComprador      int64\n",
       "CodigoParticipanteVendedor       int64\n",
       "dtype: object"
      ]
     },
     "execution_count": 40,
     "metadata": {},
     "output_type": "execute_result"
    }
   ],
   "source": [
    "f = \"c:\\\\Users\\\\wilso\\\\Dev\\\\python\\\\brasa\\\\notebooks\\\\.brasa-cache\\\\NegociosIntraday\\\\downloads\\\\20230514135448108822_65be6b3b8afd13e6c72fafe76c1d199d.txt\"\n",
    "df = pd.read_csv(f, sep=\";\", decimal=\",\")\n",
    "display(df.head())\n",
    "df.dtypes"
   ]
  },
  {
   "cell_type": "code",
   "execution_count": 43,
   "metadata": {},
   "outputs": [
    {
     "data": {
      "text/plain": [
       "array(['BGIK23', 'ISPM23', 'WINQ23', ..., 'DOLM23C005500', 'MDNE3T',\n",
       "       'IDIF24P382200'], dtype=object)"
      ]
     },
     "execution_count": 43,
     "metadata": {},
     "output_type": "execute_result"
    }
   ],
   "source": [
    "df.CodigoInstrumento.unique()"
   ]
  },
  {
   "cell_type": "code",
   "execution_count": 32,
   "metadata": {},
   "outputs": [
    {
     "data": {
      "text/plain": [
       "['c:\\\\Users\\\\wilso\\\\Dev\\\\python\\\\brasa\\\\notebooks\\\\.brasa-cache\\\\NegociosIntraday\\\\downloads\\\\20230514135448108822_65be6b3b8afd13e6c72fafe76c1d199d.txt']"
      ]
     },
     "execution_count": 32,
     "metadata": {},
     "output_type": "execute_result"
    }
   ],
   "source": [
    "download_marketdata(\"NegociosIntraday\", refdate=datetime(2023, 5, 10))"
   ]
  },
  {
   "cell_type": "code",
   "execution_count": 35,
   "metadata": {},
   "outputs": [
    {
     "data": {
      "text/html": [
       "<div>\n",
       "<style scoped>\n",
       "    .dataframe tbody tr th:only-of-type {\n",
       "        vertical-align: middle;\n",
       "    }\n",
       "\n",
       "    .dataframe tbody tr th {\n",
       "        vertical-align: top;\n",
       "    }\n",
       "\n",
       "    .dataframe thead th {\n",
       "        text-align: right;\n",
       "    }\n",
       "</style>\n",
       "<table border=\"1\" class=\"dataframe\">\n",
       "  <thead>\n",
       "    <tr style=\"text-align: right;\">\n",
       "      <th></th>\n",
       "      <th>RptDt</th>\n",
       "      <th>TckrSymb</th>\n",
       "      <th>UpdActn</th>\n",
       "      <th>GrssTradAmt</th>\n",
       "      <th>TradQty</th>\n",
       "      <th>NtryTm</th>\n",
       "      <th>TradId</th>\n",
       "      <th>TradgSsnId</th>\n",
       "      <th>TradDt</th>\n",
       "      <th>CodigoParticipanteComprador</th>\n",
       "      <th>CodigoParticipanteVendedor</th>\n",
       "    </tr>\n",
       "  </thead>\n",
       "  <tbody>\n",
       "    <tr>\n",
       "      <th>0</th>\n",
       "      <td>2023-05-10</td>\n",
       "      <td>BGIK23</td>\n",
       "      <td>0</td>\n",
       "      <td>264.5</td>\n",
       "      <td>5</td>\n",
       "      <td>1900-01-01 09:00:00</td>\n",
       "      <td>250</td>\n",
       "      <td>1</td>\n",
       "      <td>2023-05-10</td>\n",
       "      <td>85</td>\n",
       "      <td>107</td>\n",
       "    </tr>\n",
       "    <tr>\n",
       "      <th>1</th>\n",
       "      <td>2023-05-10</td>\n",
       "      <td>BGIK23</td>\n",
       "      <td>0</td>\n",
       "      <td>264.5</td>\n",
       "      <td>1</td>\n",
       "      <td>1900-01-01 09:00:00</td>\n",
       "      <td>260</td>\n",
       "      <td>1</td>\n",
       "      <td>2023-05-10</td>\n",
       "      <td>85</td>\n",
       "      <td>107</td>\n",
       "    </tr>\n",
       "    <tr>\n",
       "      <th>2</th>\n",
       "      <td>2023-05-10</td>\n",
       "      <td>BGIK23</td>\n",
       "      <td>0</td>\n",
       "      <td>264.5</td>\n",
       "      <td>1</td>\n",
       "      <td>1900-01-01 09:00:00</td>\n",
       "      <td>270</td>\n",
       "      <td>1</td>\n",
       "      <td>2023-05-10</td>\n",
       "      <td>85</td>\n",
       "      <td>308</td>\n",
       "    </tr>\n",
       "    <tr>\n",
       "      <th>3</th>\n",
       "      <td>2023-05-10</td>\n",
       "      <td>BGIK23</td>\n",
       "      <td>0</td>\n",
       "      <td>264.5</td>\n",
       "      <td>3</td>\n",
       "      <td>1900-01-01 09:00:00</td>\n",
       "      <td>280</td>\n",
       "      <td>1</td>\n",
       "      <td>2023-05-10</td>\n",
       "      <td>85</td>\n",
       "      <td>107</td>\n",
       "    </tr>\n",
       "    <tr>\n",
       "      <th>4</th>\n",
       "      <td>2023-05-10</td>\n",
       "      <td>BGIK23</td>\n",
       "      <td>0</td>\n",
       "      <td>264.5</td>\n",
       "      <td>2</td>\n",
       "      <td>1900-01-01 09:00:00</td>\n",
       "      <td>290</td>\n",
       "      <td>1</td>\n",
       "      <td>2023-05-10</td>\n",
       "      <td>120</td>\n",
       "      <td>107</td>\n",
       "    </tr>\n",
       "    <tr>\n",
       "      <th>...</th>\n",
       "      <td>...</td>\n",
       "      <td>...</td>\n",
       "      <td>...</td>\n",
       "      <td>...</td>\n",
       "      <td>...</td>\n",
       "      <td>...</td>\n",
       "      <td>...</td>\n",
       "      <td>...</td>\n",
       "      <td>...</td>\n",
       "      <td>...</td>\n",
       "      <td>...</td>\n",
       "    </tr>\n",
       "    <tr>\n",
       "      <th>8997880</th>\n",
       "      <td>2023-05-10</td>\n",
       "      <td>WINM23</td>\n",
       "      <td>0</td>\n",
       "      <td>108885.0</td>\n",
       "      <td>5</td>\n",
       "      <td>1900-01-01 18:04:49</td>\n",
       "      <td>42006270</td>\n",
       "      <td>1</td>\n",
       "      <td>2023-05-10</td>\n",
       "      <td>85</td>\n",
       "      <td>3</td>\n",
       "    </tr>\n",
       "    <tr>\n",
       "      <th>8997881</th>\n",
       "      <td>2023-05-10</td>\n",
       "      <td>WINM23</td>\n",
       "      <td>0</td>\n",
       "      <td>108885.0</td>\n",
       "      <td>20</td>\n",
       "      <td>1900-01-01 18:04:49</td>\n",
       "      <td>42006280</td>\n",
       "      <td>1</td>\n",
       "      <td>2023-05-10</td>\n",
       "      <td>3</td>\n",
       "      <td>3</td>\n",
       "    </tr>\n",
       "    <tr>\n",
       "      <th>8997882</th>\n",
       "      <td>2023-05-10</td>\n",
       "      <td>WINM23</td>\n",
       "      <td>0</td>\n",
       "      <td>108885.0</td>\n",
       "      <td>5</td>\n",
       "      <td>1900-01-01 18:04:49</td>\n",
       "      <td>42006290</td>\n",
       "      <td>1</td>\n",
       "      <td>2023-05-10</td>\n",
       "      <td>3</td>\n",
       "      <td>3</td>\n",
       "    </tr>\n",
       "    <tr>\n",
       "      <th>8997883</th>\n",
       "      <td>2023-05-10</td>\n",
       "      <td>WINM23</td>\n",
       "      <td>0</td>\n",
       "      <td>108885.0</td>\n",
       "      <td>1</td>\n",
       "      <td>1900-01-01 18:04:49</td>\n",
       "      <td>42006300</td>\n",
       "      <td>1</td>\n",
       "      <td>2023-05-10</td>\n",
       "      <td>15</td>\n",
       "      <td>3</td>\n",
       "    </tr>\n",
       "    <tr>\n",
       "      <th>8997884</th>\n",
       "      <td>2023-05-10</td>\n",
       "      <td>WINM23</td>\n",
       "      <td>0</td>\n",
       "      <td>108885.0</td>\n",
       "      <td>1</td>\n",
       "      <td>1900-01-01 18:04:49</td>\n",
       "      <td>42006310</td>\n",
       "      <td>1</td>\n",
       "      <td>2023-05-10</td>\n",
       "      <td>39</td>\n",
       "      <td>3</td>\n",
       "    </tr>\n",
       "  </tbody>\n",
       "</table>\n",
       "<p>8997885 rows × 11 columns</p>\n",
       "</div>"
      ],
      "text/plain": [
       "             RptDt TckrSymb  UpdActn  GrssTradAmt  TradQty   \n",
       "0       2023-05-10   BGIK23        0        264.5        5  \\\n",
       "1       2023-05-10   BGIK23        0        264.5        1   \n",
       "2       2023-05-10   BGIK23        0        264.5        1   \n",
       "3       2023-05-10   BGIK23        0        264.5        3   \n",
       "4       2023-05-10   BGIK23        0        264.5        2   \n",
       "...            ...      ...      ...          ...      ...   \n",
       "8997880 2023-05-10   WINM23        0     108885.0        5   \n",
       "8997881 2023-05-10   WINM23        0     108885.0       20   \n",
       "8997882 2023-05-10   WINM23        0     108885.0        5   \n",
       "8997883 2023-05-10   WINM23        0     108885.0        1   \n",
       "8997884 2023-05-10   WINM23        0     108885.0        1   \n",
       "\n",
       "                     NtryTm    TradId TradgSsnId     TradDt   \n",
       "0       1900-01-01 09:00:00       250          1 2023-05-10  \\\n",
       "1       1900-01-01 09:00:00       260          1 2023-05-10   \n",
       "2       1900-01-01 09:00:00       270          1 2023-05-10   \n",
       "3       1900-01-01 09:00:00       280          1 2023-05-10   \n",
       "4       1900-01-01 09:00:00       290          1 2023-05-10   \n",
       "...                     ...       ...        ...        ...   \n",
       "8997880 1900-01-01 18:04:49  42006270          1 2023-05-10   \n",
       "8997881 1900-01-01 18:04:49  42006280          1 2023-05-10   \n",
       "8997882 1900-01-01 18:04:49  42006290          1 2023-05-10   \n",
       "8997883 1900-01-01 18:04:49  42006300          1 2023-05-10   \n",
       "8997884 1900-01-01 18:04:49  42006310          1 2023-05-10   \n",
       "\n",
       "         CodigoParticipanteComprador  CodigoParticipanteVendedor  \n",
       "0                                 85                         107  \n",
       "1                                 85                         107  \n",
       "2                                 85                         308  \n",
       "3                                 85                         107  \n",
       "4                                120                         107  \n",
       "...                              ...                         ...  \n",
       "8997880                           85                           3  \n",
       "8997881                            3                           3  \n",
       "8997882                            3                           3  \n",
       "8997883                           15                           3  \n",
       "8997884                           39                           3  \n",
       "\n",
       "[8997885 rows x 11 columns]"
      ]
     },
     "execution_count": 35,
     "metadata": {},
     "output_type": "execute_result"
    }
   ],
   "source": [
    "dest = \"c:\\\\Users\\\\wilso\\\\Dev\\\\python\\\\brasa\\\\notebooks\\\\.brasa-cache\\\\NegociosIntraday\\\\downloads\\\\20230514135448108822_65be6b3b8afd13e6c72fafe76c1d199d.txt\"\n",
    "df = read_marketdata(\"NegociosIntraday\", dest, parse_fields=True)\n",
    "df"
   ]
  },
  {
   "cell_type": "code",
   "execution_count": 31,
   "metadata": {},
   "outputs": [
    {
     "data": {
      "text/plain": [
       "RptDt                        datetime64[ns]\n",
       "TckrSymb                             object\n",
       "UpdActn                               int64\n",
       "IntrstRateTermTrad                  float64\n",
       "TradQty                               int64\n",
       "NtryTm                       datetime64[ns]\n",
       "TradId                                int64\n",
       "TradgSsnId                            int64\n",
       "TradDt                       datetime64[ns]\n",
       "Mkt                                   int64\n",
       "CodigoParticipanteDoador              int64\n",
       "CodigoParticipanteTomador             int64\n",
       "dtype: object"
      ]
     },
     "execution_count": 31,
     "metadata": {},
     "output_type": "execute_result"
    }
   ],
   "source": [
    "df.dtypes"
   ]
  },
  {
   "cell_type": "code",
   "execution_count": 2,
   "metadata": {},
   "outputs": [
    {
     "data": {
      "text/html": [
       "<div>\n",
       "<style scoped>\n",
       "    .dataframe tbody tr th:only-of-type {\n",
       "        vertical-align: middle;\n",
       "    }\n",
       "\n",
       "    .dataframe tbody tr th {\n",
       "        vertical-align: top;\n",
       "    }\n",
       "\n",
       "    .dataframe thead th {\n",
       "        text-align: right;\n",
       "    }\n",
       "</style>\n",
       "<table border=\"1\" class=\"dataframe\">\n",
       "  <thead>\n",
       "    <tr style=\"text-align: right;\">\n",
       "      <th></th>\n",
       "      <th>InstrumentoFinanceiro</th>\n",
       "      <th>Emissor</th>\n",
       "      <th>CodigoIF</th>\n",
       "      <th>QuantidadeNegociada</th>\n",
       "      <th>PrecoNegocio</th>\n",
       "      <th>Volume</th>\n",
       "      <th>TaxaNegocio</th>\n",
       "      <th>OrigemNegocio</th>\n",
       "      <th>HorarioNegocio</th>\n",
       "      <th>DataNegocio</th>\n",
       "      <th>CodNegocio</th>\n",
       "    </tr>\n",
       "  </thead>\n",
       "  <tbody>\n",
       "    <tr>\n",
       "      <th>0</th>\n",
       "      <td>DEB</td>\n",
       "      <td>USINATERMPAMPASUL</td>\n",
       "      <td>UTPS22</td>\n",
       "      <td>75</td>\n",
       "      <td>1089.298177</td>\n",
       "      <td>81697.36</td>\n",
       "      <td>6.88</td>\n",
       "      <td>Cetip Trader</td>\n",
       "      <td>1900-01-01 19:03:31</td>\n",
       "      <td>2022-06-03</td>\n",
       "      <td>#88847385</td>\n",
       "    </tr>\n",
       "    <tr>\n",
       "      <th>1</th>\n",
       "      <td>DEB</td>\n",
       "      <td>STAGENEBRA</td>\n",
       "      <td>MSGT23</td>\n",
       "      <td>200</td>\n",
       "      <td>1029.810262</td>\n",
       "      <td>205962.05</td>\n",
       "      <td>6.77</td>\n",
       "      <td>Cetip Trader</td>\n",
       "      <td>1900-01-01 19:02:59</td>\n",
       "      <td>2022-06-03</td>\n",
       "      <td>#88847384</td>\n",
       "    </tr>\n",
       "    <tr>\n",
       "      <th>2</th>\n",
       "      <td>DEB</td>\n",
       "      <td>STAGENEBRA</td>\n",
       "      <td>MSGT23</td>\n",
       "      <td>100</td>\n",
       "      <td>1029.810262</td>\n",
       "      <td>102981.03</td>\n",
       "      <td>6.77</td>\n",
       "      <td>Cetip Trader</td>\n",
       "      <td>1900-01-01 19:02:23</td>\n",
       "      <td>2022-06-03</td>\n",
       "      <td>#88847383</td>\n",
       "    </tr>\n",
       "    <tr>\n",
       "      <th>3</th>\n",
       "      <td>DEB</td>\n",
       "      <td>STAGENEBRA</td>\n",
       "      <td>MSGT23</td>\n",
       "      <td>500</td>\n",
       "      <td>1029.810262</td>\n",
       "      <td>514905.13</td>\n",
       "      <td>6.77</td>\n",
       "      <td>Cetip Trader</td>\n",
       "      <td>1900-01-01 19:02:06</td>\n",
       "      <td>2022-06-03</td>\n",
       "      <td>#88847382</td>\n",
       "    </tr>\n",
       "    <tr>\n",
       "      <th>4</th>\n",
       "      <td>DEB</td>\n",
       "      <td>STAGENEBRA</td>\n",
       "      <td>MSGT23</td>\n",
       "      <td>40</td>\n",
       "      <td>1029.810262</td>\n",
       "      <td>41192.41</td>\n",
       "      <td>6.77</td>\n",
       "      <td>Cetip Trader</td>\n",
       "      <td>1900-01-01 19:01:07</td>\n",
       "      <td>2022-06-03</td>\n",
       "      <td>#88847380</td>\n",
       "    </tr>\n",
       "    <tr>\n",
       "      <th>5</th>\n",
       "      <td>DEB</td>\n",
       "      <td>ENEVA</td>\n",
       "      <td>ENEV26</td>\n",
       "      <td>71</td>\n",
       "      <td>1029.585516</td>\n",
       "      <td>73100.57</td>\n",
       "      <td>6.27</td>\n",
       "      <td>Cetip Trader</td>\n",
       "      <td>1900-01-01 19:01:07</td>\n",
       "      <td>2022-06-03</td>\n",
       "      <td>#88847381</td>\n",
       "    </tr>\n",
       "    <tr>\n",
       "      <th>6</th>\n",
       "      <td>DEB</td>\n",
       "      <td>STAGENEBRA</td>\n",
       "      <td>MSGT23</td>\n",
       "      <td>25</td>\n",
       "      <td>1029.810262</td>\n",
       "      <td>25745.26</td>\n",
       "      <td>6.77</td>\n",
       "      <td>Cetip Trader</td>\n",
       "      <td>1900-01-01 19:01:06</td>\n",
       "      <td>2022-06-03</td>\n",
       "      <td>#88847378</td>\n",
       "    </tr>\n",
       "    <tr>\n",
       "      <th>7</th>\n",
       "      <td>DEB</td>\n",
       "      <td>STAGENEBRA</td>\n",
       "      <td>MSGT23</td>\n",
       "      <td>50</td>\n",
       "      <td>1029.810262</td>\n",
       "      <td>51490.51</td>\n",
       "      <td>6.77</td>\n",
       "      <td>Cetip Trader</td>\n",
       "      <td>1900-01-01 19:01:06</td>\n",
       "      <td>2022-06-03</td>\n",
       "      <td>#88847377</td>\n",
       "    </tr>\n",
       "  </tbody>\n",
       "</table>\n",
       "</div>"
      ],
      "text/plain": [
       "  InstrumentoFinanceiro            Emissor CodigoIF  QuantidadeNegociada   \n",
       "0                   DEB  USINATERMPAMPASUL   UTPS22                   75  \\\n",
       "1                   DEB         STAGENEBRA   MSGT23                  200   \n",
       "2                   DEB         STAGENEBRA   MSGT23                  100   \n",
       "3                   DEB         STAGENEBRA   MSGT23                  500   \n",
       "4                   DEB         STAGENEBRA   MSGT23                   40   \n",
       "5                   DEB              ENEVA   ENEV26                   71   \n",
       "6                   DEB         STAGENEBRA   MSGT23                   25   \n",
       "7                   DEB         STAGENEBRA   MSGT23                   50   \n",
       "\n",
       "   PrecoNegocio     Volume  TaxaNegocio OrigemNegocio      HorarioNegocio   \n",
       "0   1089.298177   81697.36         6.88  Cetip Trader 1900-01-01 19:03:31  \\\n",
       "1   1029.810262  205962.05         6.77  Cetip Trader 1900-01-01 19:02:59   \n",
       "2   1029.810262  102981.03         6.77  Cetip Trader 1900-01-01 19:02:23   \n",
       "3   1029.810262  514905.13         6.77  Cetip Trader 1900-01-01 19:02:06   \n",
       "4   1029.810262   41192.41         6.77  Cetip Trader 1900-01-01 19:01:07   \n",
       "5   1029.585516   73100.57         6.27  Cetip Trader 1900-01-01 19:01:07   \n",
       "6   1029.810262   25745.26         6.77  Cetip Trader 1900-01-01 19:01:06   \n",
       "7   1029.810262   51490.51         6.77  Cetip Trader 1900-01-01 19:01:06   \n",
       "\n",
       "  DataNegocio CodNegocio  \n",
       "0  2022-06-03  #88847385  \n",
       "1  2022-06-03  #88847384  \n",
       "2  2022-06-03  #88847383  \n",
       "3  2022-06-03  #88847382  \n",
       "4  2022-06-03  #88847380  \n",
       "5  2022-06-03  #88847381  \n",
       "6  2022-06-03  #88847378  \n",
       "7  2022-06-03  #88847377  "
      ]
     },
     "execution_count": 2,
     "metadata": {},
     "output_type": "execute_result"
    }
   ],
   "source": [
    "dest = \"../data/NegociosBalcao.csv\"\n",
    "df = read_marketdata(\"NegociosBalcao\", dest, parse_fields=True)\n",
    "df"
   ]
  },
  {
   "cell_type": "code",
   "execution_count": 5,
   "metadata": {},
   "outputs": [
    {
     "data": {
      "text/plain": [
       "InstrumentoFinanceiro            object\n",
       "Emissor                          object\n",
       "CodigoIF                         object\n",
       "QuantidadeNegociada               int64\n",
       "PrecoNegocio                    float64\n",
       "Volume                          float64\n",
       "TaxaNegocio                     float64\n",
       "OrigemNegocio                    object\n",
       "HorarioNegocio           datetime64[ns]\n",
       "DataNegocio              datetime64[ns]\n",
       "CodNegocio                       object\n",
       "dtype: object"
      ]
     },
     "execution_count": 5,
     "metadata": {},
     "output_type": "execute_result"
    }
   ],
   "source": [
    "df.dtypes"
   ]
  },
  {
   "cell_type": "code",
   "execution_count": 51,
   "metadata": {},
   "outputs": [],
   "source": [
    "dt = datetime.strptime(df[\"HorarioNegocio\"][0], \"%H:%M:%S\")\n"
   ]
  },
  {
   "cell_type": "code",
   "execution_count": 54,
   "metadata": {},
   "outputs": [
    {
     "data": {
      "text/plain": [
       "datetime.datetime(2021, 1, 1, 19, 3, 31)"
      ]
     },
     "execution_count": 54,
     "metadata": {},
     "output_type": "execute_result"
    }
   ],
   "source": [
    "# datetime change the year\n",
    "dt.replace(year=2021, month=1, day=1)"
   ]
  },
  {
   "cell_type": "code",
   "execution_count": 42,
   "metadata": {},
   "outputs": [],
   "source": [
    "import requests\n",
    "import base64\n",
    "import json\n",
    "import binascii"
   ]
  },
  {
   "cell_type": "code",
   "execution_count": 43,
   "metadata": {},
   "outputs": [
    {
     "name": "stdout",
     "output_type": "stream",
     "text": [
      "{\"tradingName\":\"ABEV\",\"language\":\"pt-br\",\"pageNumber\":1,\"pageSize\":9999}\n"
     ]
    },
    {
     "data": {
      "text/plain": [
       "<Response [200]>"
      ]
     },
     "execution_count": 43,
     "metadata": {},
     "output_type": "execute_result"
    }
   ],
   "source": [
    "args = {\n",
    "    \"tradingName\": \"ABEV\",\n",
    "    \"language\": \"pt-br\",\n",
    "    \"pageNumber\": 1,\n",
    "    \"pageSize\": 9999,\n",
    "}\n",
    "params = json.dumps(args).replace(\" \", \"\").strip()\n",
    "print(params)\n",
    "params_enc = binascii.b2a_base64(bytes(params, \"utf8\"), newline=False).decode(\"utf8\").strip()\n",
    "\n",
    "# params_enc = \"eyJ0cmFkaW5nTmFtZSI6IkFCRVYiLCJsYW5ndWFnZSI6InB0LWJyIiwicGFnZU51bWJlciI6MSwicGFnZVNpemUiOjk5OTl9\"\n",
    "\n",
    "url = f\"https://sistemaswebb3-listados.b3.com.br/listedCompaniesProxy/CompanyCall/GetListedCashDividends/{params_enc}\"\n",
    "\n",
    "requests.get(url, verify=True)"
   ]
  },
  {
   "cell_type": "code",
   "execution_count": 36,
   "metadata": {},
   "outputs": [
    {
     "name": "stdout",
     "output_type": "stream",
     "text": [
      "eyJ0cmFkaW5nTmFtZSI6IkFCRVYiLCJsYW5ndWFnZSI6InB0LWJyIiwicGFnZU51bWJlciI6MSwi\n",
      "cGFnZVNpemUiOjk5OTl9\n",
      "\n"
     ]
    }
   ],
   "source": [
    "print(params_enc)"
   ]
  },
  {
   "cell_type": "code",
   "execution_count": 30,
   "metadata": {},
   "outputs": [
    {
     "name": "stdout",
     "output_type": "stream",
     "text": [
      "eyJ0cmFkaW5nTmFtZSI6IkFCRVYiLCJsYW5ndWFnZSI6InB0LWJyIiwicGFnZU51bWJlciI6MSwicGFnZVNpemUiOjk5OTl9\n"
     ]
    }
   ],
   "source": [
    "print(\"eyJ0cmFkaW5nTmFtZSI6IkFCRVYiLCJsYW5ndWFnZSI6InB0LWJyIiwicGFnZU51bWJlciI6MSwicGFnZVNpemUiOjk5OTl9\")"
   ]
  },
  {
   "cell_type": "code",
   "execution_count": 41,
   "metadata": {},
   "outputs": [
    {
     "data": {
      "text/plain": [
       "'eyJ0cmFkaW5nTmFtZSI6IkFCRVYiLCJsYW5ndWFnZSI6InB0LWJyIiwicGFnZU51bWJlciI6MSwicGFnZVNpemUiOjk5OTl9'"
      ]
     },
     "execution_count": 41,
     "metadata": {},
     "output_type": "execute_result"
    }
   ],
   "source": [
    "import binascii\n",
    "\n",
    "\n",
    "binascii.b2a_base64(bytes(params, \"utf8\"), newline=False).decode(\"utf8\").strip()"
   ]
  },
  {
   "cell_type": "code",
   "execution_count": 1,
   "metadata": {},
   "outputs": [],
   "source": [
    "import json\n",
    "import pandas as pd"
   ]
  },
  {
   "cell_type": "code",
   "execution_count": null,
   "metadata": {},
   "outputs": [],
   "source": []
  },
  {
   "cell_type": "code",
   "execution_count": 2,
   "metadata": {},
   "outputs": [],
   "source": [
    "with open('../data/b3-cdi.json') as fp:\n",
    "    data = json.loads(fp.read())"
   ]
  },
  {
   "cell_type": "code",
   "execution_count": 3,
   "metadata": {},
   "outputs": [
    {
     "data": {
      "text/plain": [
       "dict_keys(['taxa', 'dataTaxa', 'indice', 'dataIndice'])"
      ]
     },
     "execution_count": 3,
     "metadata": {},
     "output_type": "execute_result"
    }
   ],
   "source": [
    "data.keys()"
   ]
  },
  {
   "cell_type": "code",
   "execution_count": 4,
   "metadata": {},
   "outputs": [
    {
     "data": {
      "text/plain": [
       "{'taxa': '11,65',\n",
       " 'dataTaxa': '14/04/2022',\n",
       " 'indice': '34.679,17',\n",
       " 'dataIndice': '18/04/2022'}"
      ]
     },
     "execution_count": 4,
     "metadata": {},
     "output_type": "execute_result"
    }
   ],
   "source": [
    "data"
   ]
  },
  {
   "cell_type": "code",
   "execution_count": 9,
   "metadata": {},
   "outputs": [
    {
     "data": {
      "text/html": [
       "<div>\n",
       "<style scoped>\n",
       "    .dataframe tbody tr th:only-of-type {\n",
       "        vertical-align: middle;\n",
       "    }\n",
       "\n",
       "    .dataframe tbody tr th {\n",
       "        vertical-align: top;\n",
       "    }\n",
       "\n",
       "    .dataframe thead th {\n",
       "        text-align: right;\n",
       "    }\n",
       "</style>\n",
       "<table border=\"1\" class=\"dataframe\">\n",
       "  <thead>\n",
       "    <tr style=\"text-align: right;\">\n",
       "      <th></th>\n",
       "      <th>taxa</th>\n",
       "      <th>dataTaxa</th>\n",
       "      <th>indice</th>\n",
       "      <th>dataIndice</th>\n",
       "    </tr>\n",
       "  </thead>\n",
       "  <tbody>\n",
       "    <tr>\n",
       "      <th>0</th>\n",
       "      <td>11,65</td>\n",
       "      <td>14/04/2022</td>\n",
       "      <td>34.679,17</td>\n",
       "      <td>18/04/2022</td>\n",
       "    </tr>\n",
       "  </tbody>\n",
       "</table>\n",
       "</div>"
      ],
      "text/plain": [
       "    taxa    dataTaxa     indice  dataIndice\n",
       "0  11,65  14/04/2022  34.679,17  18/04/2022"
      ]
     },
     "execution_count": 9,
     "metadata": {},
     "output_type": "execute_result"
    }
   ],
   "source": [
    "pd.DataFrame(data, index=[0])"
   ]
  },
  {
   "cell_type": "code",
   "execution_count": 37,
   "metadata": {},
   "outputs": [
    {
     "data": {
      "text/plain": [
       "{'update': '2022-01-25', 'startMonth': 1, 'endMonth': 4, 'year': 2022}"
      ]
     },
     "execution_count": 37,
     "metadata": {},
     "output_type": "execute_result"
    }
   ],
   "source": [
    "data['header']"
   ]
  },
  {
   "cell_type": "code",
   "execution_count": 6,
   "metadata": {},
   "outputs": [],
   "source": [
    "df = pd.DataFrame(data['results'])"
   ]
  },
  {
   "cell_type": "code",
   "execution_count": 7,
   "metadata": {},
   "outputs": [
    {
     "data": {
      "text/html": [
       "<div>\n",
       "<style scoped>\n",
       "    .dataframe tbody tr th:only-of-type {\n",
       "        vertical-align: middle;\n",
       "    }\n",
       "\n",
       "    .dataframe tbody tr th {\n",
       "        vertical-align: top;\n",
       "    }\n",
       "\n",
       "    .dataframe thead th {\n",
       "        text-align: right;\n",
       "    }\n",
       "</style>\n",
       "<table border=\"1\" class=\"dataframe\">\n",
       "  <thead>\n",
       "    <tr style=\"text-align: right;\">\n",
       "      <th></th>\n",
       "      <th>company</th>\n",
       "      <th>spotlight</th>\n",
       "      <th>code</th>\n",
       "      <th>indexes</th>\n",
       "    </tr>\n",
       "  </thead>\n",
       "  <tbody>\n",
       "    <tr>\n",
       "      <th>0</th>\n",
       "      <td>3M</td>\n",
       "      <td>DRN</td>\n",
       "      <td>MMMC34</td>\n",
       "      <td>BDRX</td>\n",
       "    </tr>\n",
       "    <tr>\n",
       "      <th>1</th>\n",
       "      <td>3R PETROLEUM</td>\n",
       "      <td>ON   NM</td>\n",
       "      <td>RRRP3</td>\n",
       "      <td>IBOV,IBRA,IBXX,IGCT,IGCX,IGNM,ITAG,SMLL</td>\n",
       "    </tr>\n",
       "    <tr>\n",
       "      <th>2</th>\n",
       "      <td>3TENTOS</td>\n",
       "      <td>ON   NM</td>\n",
       "      <td>TTEN3</td>\n",
       "      <td>IBRA,ICON,IGCT,IGCX,IGNM,ITAG,SMLL</td>\n",
       "    </tr>\n",
       "    <tr>\n",
       "      <th>3</th>\n",
       "      <td>AB INBEV</td>\n",
       "      <td>DRN</td>\n",
       "      <td>ABUD34</td>\n",
       "      <td>BDRX</td>\n",
       "    </tr>\n",
       "    <tr>\n",
       "      <th>4</th>\n",
       "      <td>ABB LTD</td>\n",
       "      <td>DRN</td>\n",
       "      <td>A1BB34</td>\n",
       "      <td>BDRX</td>\n",
       "    </tr>\n",
       "    <tr>\n",
       "      <th>...</th>\n",
       "      <td>...</td>\n",
       "      <td>...</td>\n",
       "      <td>...</td>\n",
       "      <td>...</td>\n",
       "    </tr>\n",
       "    <tr>\n",
       "      <th>647</th>\n",
       "      <td>WIX.COM LTD</td>\n",
       "      <td>DRN</td>\n",
       "      <td>W1IX34</td>\n",
       "      <td>BDRX</td>\n",
       "    </tr>\n",
       "    <tr>\n",
       "      <th>648</th>\n",
       "      <td>WIZ S.A.</td>\n",
       "      <td>ON   NM</td>\n",
       "      <td>WIZS3</td>\n",
       "      <td>GPTW,IBRA,IDIV,IGCT,IGCX,IGNM,ITAG,SMLL</td>\n",
       "    </tr>\n",
       "    <tr>\n",
       "      <th>649</th>\n",
       "      <td>YDUQS PART</td>\n",
       "      <td>ON   NM</td>\n",
       "      <td>YDUQ3</td>\n",
       "      <td>IBOV,IBRA,IBXX,ICON,IGCT,IGCX,IGNM,ITAG,SMLL</td>\n",
       "    </tr>\n",
       "    <tr>\n",
       "      <th>650</th>\n",
       "      <td>ZOETIS INC</td>\n",
       "      <td>DRN</td>\n",
       "      <td>Z1TS34</td>\n",
       "      <td>BDRX</td>\n",
       "    </tr>\n",
       "    <tr>\n",
       "      <th>651</th>\n",
       "      <td>ZOOM VIDEO</td>\n",
       "      <td>DRN</td>\n",
       "      <td>Z1OM34</td>\n",
       "      <td>BDRX</td>\n",
       "    </tr>\n",
       "  </tbody>\n",
       "</table>\n",
       "<p>652 rows × 4 columns</p>\n",
       "</div>"
      ],
      "text/plain": [
       "          company spotlight    code  \\\n",
       "0              3M       DRN  MMMC34   \n",
       "1    3R PETROLEUM   ON   NM   RRRP3   \n",
       "2         3TENTOS   ON   NM   TTEN3   \n",
       "3        AB INBEV       DRN  ABUD34   \n",
       "4         ABB LTD       DRN  A1BB34   \n",
       "..            ...       ...     ...   \n",
       "647   WIX.COM LTD       DRN  W1IX34   \n",
       "648      WIZ S.A.   ON   NM   WIZS3   \n",
       "649    YDUQS PART   ON   NM   YDUQ3   \n",
       "650    ZOETIS INC       DRN  Z1TS34   \n",
       "651    ZOOM VIDEO       DRN  Z1OM34   \n",
       "\n",
       "                                          indexes  \n",
       "0                                            BDRX  \n",
       "1         IBOV,IBRA,IBXX,IGCT,IGCX,IGNM,ITAG,SMLL  \n",
       "2              IBRA,ICON,IGCT,IGCX,IGNM,ITAG,SMLL  \n",
       "3                                            BDRX  \n",
       "4                                            BDRX  \n",
       "..                                            ...  \n",
       "647                                          BDRX  \n",
       "648       GPTW,IBRA,IDIV,IGCT,IGCX,IGNM,ITAG,SMLL  \n",
       "649  IBOV,IBRA,IBXX,ICON,IGCT,IGCX,IGNM,ITAG,SMLL  \n",
       "650                                          BDRX  \n",
       "651                                          BDRX  \n",
       "\n",
       "[652 rows x 4 columns]"
      ]
     },
     "execution_count": 7,
     "metadata": {},
     "output_type": "execute_result"
    }
   ],
   "source": [
    "df"
   ]
  },
  {
   "cell_type": "code",
   "execution_count": 9,
   "metadata": {},
   "outputs": [
    {
     "data": {
      "text/plain": [
       "652"
      ]
     },
     "execution_count": 9,
     "metadata": {},
     "output_type": "execute_result"
    }
   ],
   "source": [
    "len(df['code'].unique())"
   ]
  },
  {
   "cell_type": "code",
   "execution_count": 12,
   "metadata": {},
   "outputs": [
    {
     "data": {
      "text/plain": [
       "(257, 4)"
      ]
     },
     "execution_count": 12,
     "metadata": {},
     "output_type": "execute_result"
    }
   ],
   "source": [
    "df[df['indexes'] == 'BDRX'].shape"
   ]
  },
  {
   "cell_type": "code",
   "execution_count": 13,
   "metadata": {},
   "outputs": [
    {
     "data": {
      "text/plain": [
       "(395, 4)"
      ]
     },
     "execution_count": 13,
     "metadata": {},
     "output_type": "execute_result"
    }
   ],
   "source": [
    "df[df['indexes'] != 'BDRX'].shape"
   ]
  },
  {
   "cell_type": "code",
   "execution_count": 14,
   "metadata": {},
   "outputs": [
    {
     "data": {
      "text/html": [
       "<div>\n",
       "<style scoped>\n",
       "    .dataframe tbody tr th:only-of-type {\n",
       "        vertical-align: middle;\n",
       "    }\n",
       "\n",
       "    .dataframe tbody tr th {\n",
       "        vertical-align: top;\n",
       "    }\n",
       "\n",
       "    .dataframe thead th {\n",
       "        text-align: right;\n",
       "    }\n",
       "</style>\n",
       "<table border=\"1\" class=\"dataframe\">\n",
       "  <thead>\n",
       "    <tr style=\"text-align: right;\">\n",
       "      <th></th>\n",
       "      <th>company</th>\n",
       "      <th>spotlight</th>\n",
       "      <th>code</th>\n",
       "      <th>indexes</th>\n",
       "    </tr>\n",
       "  </thead>\n",
       "  <tbody>\n",
       "    <tr>\n",
       "      <th>1</th>\n",
       "      <td>3R PETROLEUM</td>\n",
       "      <td>ON   NM</td>\n",
       "      <td>RRRP3</td>\n",
       "      <td>IBOV,IBRA,IBXX,IGCT,IGCX,IGNM,ITAG,SMLL</td>\n",
       "    </tr>\n",
       "    <tr>\n",
       "      <th>2</th>\n",
       "      <td>3TENTOS</td>\n",
       "      <td>ON   NM</td>\n",
       "      <td>TTEN3</td>\n",
       "      <td>IBRA,ICON,IGCT,IGCX,IGNM,ITAG,SMLL</td>\n",
       "    </tr>\n",
       "    <tr>\n",
       "      <th>7</th>\n",
       "      <td>ABC BRASIL</td>\n",
       "      <td>PN   N2</td>\n",
       "      <td>ABCB4</td>\n",
       "      <td>IBRA,IDIV,IFNC,IGCT,IGCX,ITAG,SMLL</td>\n",
       "    </tr>\n",
       "    <tr>\n",
       "      <th>14</th>\n",
       "      <td>AERIS</td>\n",
       "      <td>ON   NM</td>\n",
       "      <td>AERI3</td>\n",
       "      <td>GPTW,IBRA,IGCT,IGCX,IGNM,INDX,ITAG,SMLL</td>\n",
       "    </tr>\n",
       "    <tr>\n",
       "      <th>15</th>\n",
       "      <td>AES BRASIL</td>\n",
       "      <td>ON   NM</td>\n",
       "      <td>AESB3</td>\n",
       "      <td>IBRA,IEEX,IGCT,IGCX,IGNM,ISEE,ITAG,SMLL,UTIL</td>\n",
       "    </tr>\n",
       "    <tr>\n",
       "      <th>...</th>\n",
       "      <td>...</td>\n",
       "      <td>...</td>\n",
       "      <td>...</td>\n",
       "      <td>...</td>\n",
       "    </tr>\n",
       "    <tr>\n",
       "      <th>642</th>\n",
       "      <td>WEG</td>\n",
       "      <td>ON   NM</td>\n",
       "      <td>WEGE3</td>\n",
       "      <td>IBOV,IBRA,IBXL,IBXX,ICO2,IGCT,IGCX,IGNM,INDX,I...</td>\n",
       "    </tr>\n",
       "    <tr>\n",
       "      <th>645</th>\n",
       "      <td>WESTWING</td>\n",
       "      <td>ON   NM</td>\n",
       "      <td>WEST3</td>\n",
       "      <td>IBRA,IGCT,IGCX,IGNM,ITAG,SMLL</td>\n",
       "    </tr>\n",
       "    <tr>\n",
       "      <th>646</th>\n",
       "      <td>WILSON SONS</td>\n",
       "      <td>ON   NM</td>\n",
       "      <td>PORT3</td>\n",
       "      <td>IGCX,IGNM,ITAG</td>\n",
       "    </tr>\n",
       "    <tr>\n",
       "      <th>648</th>\n",
       "      <td>WIZ S.A.</td>\n",
       "      <td>ON   NM</td>\n",
       "      <td>WIZS3</td>\n",
       "      <td>GPTW,IBRA,IDIV,IGCT,IGCX,IGNM,ITAG,SMLL</td>\n",
       "    </tr>\n",
       "    <tr>\n",
       "      <th>649</th>\n",
       "      <td>YDUQS PART</td>\n",
       "      <td>ON   NM</td>\n",
       "      <td>YDUQ3</td>\n",
       "      <td>IBOV,IBRA,IBXX,ICON,IGCT,IGCX,IGNM,ITAG,SMLL</td>\n",
       "    </tr>\n",
       "  </tbody>\n",
       "</table>\n",
       "<p>395 rows × 4 columns</p>\n",
       "</div>"
      ],
      "text/plain": [
       "          company spotlight   code  \\\n",
       "1    3R PETROLEUM   ON   NM  RRRP3   \n",
       "2         3TENTOS   ON   NM  TTEN3   \n",
       "7      ABC BRASIL   PN   N2  ABCB4   \n",
       "14          AERIS   ON   NM  AERI3   \n",
       "15     AES BRASIL   ON   NM  AESB3   \n",
       "..            ...       ...    ...   \n",
       "642           WEG   ON   NM  WEGE3   \n",
       "645      WESTWING   ON   NM  WEST3   \n",
       "646   WILSON SONS   ON   NM  PORT3   \n",
       "648      WIZ S.A.   ON   NM  WIZS3   \n",
       "649    YDUQS PART   ON   NM  YDUQ3   \n",
       "\n",
       "                                               indexes  \n",
       "1              IBOV,IBRA,IBXX,IGCT,IGCX,IGNM,ITAG,SMLL  \n",
       "2                   IBRA,ICON,IGCT,IGCX,IGNM,ITAG,SMLL  \n",
       "7                   IBRA,IDIV,IFNC,IGCT,IGCX,ITAG,SMLL  \n",
       "14             GPTW,IBRA,IGCT,IGCX,IGNM,INDX,ITAG,SMLL  \n",
       "15        IBRA,IEEX,IGCT,IGCX,IGNM,ISEE,ITAG,SMLL,UTIL  \n",
       "..                                                 ...  \n",
       "642  IBOV,IBRA,IBXL,IBXX,ICO2,IGCT,IGCX,IGNM,INDX,I...  \n",
       "645                      IBRA,IGCT,IGCX,IGNM,ITAG,SMLL  \n",
       "646                                     IGCX,IGNM,ITAG  \n",
       "648            GPTW,IBRA,IDIV,IGCT,IGCX,IGNM,ITAG,SMLL  \n",
       "649       IBOV,IBRA,IBXX,ICON,IGCT,IGCX,IGNM,ITAG,SMLL  \n",
       "\n",
       "[395 rows x 4 columns]"
      ]
     },
     "execution_count": 14,
     "metadata": {},
     "output_type": "execute_result"
    }
   ],
   "source": [
    "df[df['indexes'] != 'BDRX']"
   ]
  },
  {
   "cell_type": "code",
   "execution_count": 16,
   "metadata": {},
   "outputs": [
    {
     "data": {
      "text/plain": [
       "0                                                 [BDRX]\n",
       "1       [IBOV, IBRA, IBXX, IGCT, IGCX, IGNM, ITAG, SMLL]\n",
       "2             [IBRA, ICON, IGCT, IGCX, IGNM, ITAG, SMLL]\n",
       "3                                                 [BDRX]\n",
       "4                                                 [BDRX]\n",
       "                             ...                        \n",
       "647                                               [BDRX]\n",
       "648     [GPTW, IBRA, IDIV, IGCT, IGCX, IGNM, ITAG, SMLL]\n",
       "649    [IBOV, IBRA, IBXX, ICON, IGCT, IGCX, IGNM, ITA...\n",
       "650                                               [BDRX]\n",
       "651                                               [BDRX]\n",
       "Name: indexes, Length: 652, dtype: object"
      ]
     },
     "execution_count": 16,
     "metadata": {},
     "output_type": "execute_result"
    }
   ],
   "source": [
    "df['indexes'].str.split(',')"
   ]
  },
  {
   "cell_type": "code",
   "execution_count": 34,
   "metadata": {},
   "outputs": [],
   "source": [
    "def _(dfx):\n",
    "    indexes = dfx['indexes'].str.split(',').explode()\n",
    "    return pd.DataFrame({\n",
    "        'company': dfx['company'],\n",
    "        'spotlight': dfx['spotlight'],\n",
    "        'code': dfx['code'],\n",
    "        'indexes': indexes,\n",
    "    })\n",
    "\n",
    "dfr = df.groupby(['company', 'spotlight', 'code']).apply(_).reset_index(drop=True)"
   ]
  },
  {
   "cell_type": "code",
   "execution_count": 40,
   "metadata": {},
   "outputs": [
    {
     "data": {
      "text/html": [
       "<div>\n",
       "<style scoped>\n",
       "    .dataframe tbody tr th:only-of-type {\n",
       "        vertical-align: middle;\n",
       "    }\n",
       "\n",
       "    .dataframe tbody tr th {\n",
       "        vertical-align: top;\n",
       "    }\n",
       "\n",
       "    .dataframe thead th {\n",
       "        text-align: right;\n",
       "    }\n",
       "</style>\n",
       "<table border=\"1\" class=\"dataframe\">\n",
       "  <thead>\n",
       "    <tr style=\"text-align: right;\">\n",
       "      <th></th>\n",
       "      <th>company</th>\n",
       "      <th>spotlight</th>\n",
       "      <th>code</th>\n",
       "      <th>indexes</th>\n",
       "      <th>refdate</th>\n",
       "      <th>duration_start_month</th>\n",
       "      <th>duration_end_month</th>\n",
       "      <th>duration_year</th>\n",
       "    </tr>\n",
       "  </thead>\n",
       "  <tbody>\n",
       "    <tr>\n",
       "      <th>0</th>\n",
       "      <td>3M</td>\n",
       "      <td>DRN</td>\n",
       "      <td>MMMC34</td>\n",
       "      <td>BDRX</td>\n",
       "      <td>2022-01-25</td>\n",
       "      <td>1</td>\n",
       "      <td>4</td>\n",
       "      <td>2022</td>\n",
       "    </tr>\n",
       "    <tr>\n",
       "      <th>1</th>\n",
       "      <td>3R PETROLEUM</td>\n",
       "      <td>ON   NM</td>\n",
       "      <td>RRRP3</td>\n",
       "      <td>IBOV</td>\n",
       "      <td>2022-01-25</td>\n",
       "      <td>1</td>\n",
       "      <td>4</td>\n",
       "      <td>2022</td>\n",
       "    </tr>\n",
       "    <tr>\n",
       "      <th>2</th>\n",
       "      <td>3R PETROLEUM</td>\n",
       "      <td>ON   NM</td>\n",
       "      <td>RRRP3</td>\n",
       "      <td>IBRA</td>\n",
       "      <td>2022-01-25</td>\n",
       "      <td>1</td>\n",
       "      <td>4</td>\n",
       "      <td>2022</td>\n",
       "    </tr>\n",
       "    <tr>\n",
       "      <th>3</th>\n",
       "      <td>3R PETROLEUM</td>\n",
       "      <td>ON   NM</td>\n",
       "      <td>RRRP3</td>\n",
       "      <td>IBXX</td>\n",
       "      <td>2022-01-25</td>\n",
       "      <td>1</td>\n",
       "      <td>4</td>\n",
       "      <td>2022</td>\n",
       "    </tr>\n",
       "    <tr>\n",
       "      <th>4</th>\n",
       "      <td>3R PETROLEUM</td>\n",
       "      <td>ON   NM</td>\n",
       "      <td>RRRP3</td>\n",
       "      <td>IGCT</td>\n",
       "      <td>2022-01-25</td>\n",
       "      <td>1</td>\n",
       "      <td>4</td>\n",
       "      <td>2022</td>\n",
       "    </tr>\n",
       "    <tr>\n",
       "      <th>...</th>\n",
       "      <td>...</td>\n",
       "      <td>...</td>\n",
       "      <td>...</td>\n",
       "      <td>...</td>\n",
       "      <td>...</td>\n",
       "      <td>...</td>\n",
       "      <td>...</td>\n",
       "      <td>...</td>\n",
       "    </tr>\n",
       "    <tr>\n",
       "      <th>2468</th>\n",
       "      <td>YDUQS PART</td>\n",
       "      <td>ON   NM</td>\n",
       "      <td>YDUQ3</td>\n",
       "      <td>IGNM</td>\n",
       "      <td>2022-01-25</td>\n",
       "      <td>1</td>\n",
       "      <td>4</td>\n",
       "      <td>2022</td>\n",
       "    </tr>\n",
       "    <tr>\n",
       "      <th>2469</th>\n",
       "      <td>YDUQS PART</td>\n",
       "      <td>ON   NM</td>\n",
       "      <td>YDUQ3</td>\n",
       "      <td>ITAG</td>\n",
       "      <td>2022-01-25</td>\n",
       "      <td>1</td>\n",
       "      <td>4</td>\n",
       "      <td>2022</td>\n",
       "    </tr>\n",
       "    <tr>\n",
       "      <th>2470</th>\n",
       "      <td>YDUQS PART</td>\n",
       "      <td>ON   NM</td>\n",
       "      <td>YDUQ3</td>\n",
       "      <td>SMLL</td>\n",
       "      <td>2022-01-25</td>\n",
       "      <td>1</td>\n",
       "      <td>4</td>\n",
       "      <td>2022</td>\n",
       "    </tr>\n",
       "    <tr>\n",
       "      <th>2471</th>\n",
       "      <td>ZOETIS INC</td>\n",
       "      <td>DRN</td>\n",
       "      <td>Z1TS34</td>\n",
       "      <td>BDRX</td>\n",
       "      <td>2022-01-25</td>\n",
       "      <td>1</td>\n",
       "      <td>4</td>\n",
       "      <td>2022</td>\n",
       "    </tr>\n",
       "    <tr>\n",
       "      <th>2472</th>\n",
       "      <td>ZOOM VIDEO</td>\n",
       "      <td>DRN</td>\n",
       "      <td>Z1OM34</td>\n",
       "      <td>BDRX</td>\n",
       "      <td>2022-01-25</td>\n",
       "      <td>1</td>\n",
       "      <td>4</td>\n",
       "      <td>2022</td>\n",
       "    </tr>\n",
       "  </tbody>\n",
       "</table>\n",
       "<p>2473 rows × 8 columns</p>\n",
       "</div>"
      ],
      "text/plain": [
       "           company spotlight    code indexes     refdate  \\\n",
       "0               3M       DRN  MMMC34    BDRX  2022-01-25   \n",
       "1     3R PETROLEUM   ON   NM   RRRP3    IBOV  2022-01-25   \n",
       "2     3R PETROLEUM   ON   NM   RRRP3    IBRA  2022-01-25   \n",
       "3     3R PETROLEUM   ON   NM   RRRP3    IBXX  2022-01-25   \n",
       "4     3R PETROLEUM   ON   NM   RRRP3    IGCT  2022-01-25   \n",
       "...            ...       ...     ...     ...         ...   \n",
       "2468    YDUQS PART   ON   NM   YDUQ3    IGNM  2022-01-25   \n",
       "2469    YDUQS PART   ON   NM   YDUQ3    ITAG  2022-01-25   \n",
       "2470    YDUQS PART   ON   NM   YDUQ3    SMLL  2022-01-25   \n",
       "2471    ZOETIS INC       DRN  Z1TS34    BDRX  2022-01-25   \n",
       "2472    ZOOM VIDEO       DRN  Z1OM34    BDRX  2022-01-25   \n",
       "\n",
       "      duration_start_month  duration_end_month  duration_year  \n",
       "0                        1                   4           2022  \n",
       "1                        1                   4           2022  \n",
       "2                        1                   4           2022  \n",
       "3                        1                   4           2022  \n",
       "4                        1                   4           2022  \n",
       "...                    ...                 ...            ...  \n",
       "2468                     1                   4           2022  \n",
       "2469                     1                   4           2022  \n",
       "2470                     1                   4           2022  \n",
       "2471                     1                   4           2022  \n",
       "2472                     1                   4           2022  \n",
       "\n",
       "[2473 rows x 8 columns]"
      ]
     },
     "execution_count": 40,
     "metadata": {},
     "output_type": "execute_result"
    }
   ],
   "source": [
    "dfr['refdate'] = data['header']['update']\n",
    "dfr['duration_start_month'] = data['header']['startMonth']\n",
    "dfr['duration_end_month'] = data['header']['endMonth']\n",
    "dfr['duration_year'] = data['header']['year']\n",
    "dfr"
   ]
  },
  {
   "cell_type": "code",
   "execution_count": 2,
   "metadata": {},
   "outputs": [],
   "source": []
  },
  {
   "cell_type": "code",
   "execution_count": 1,
   "metadata": {},
   "outputs": [],
   "source": [
    "import sys\n",
    "sys.path.insert(0, '..')\n",
    "\n",
    "from kyd.parsers.anbima import AnbimaDebentures\n",
    "\n",
    "deb = AnbimaDebentures('../data/deb_2021-04-20.txt')\n"
   ]
  },
  {
   "cell_type": "code",
   "execution_count": 2,
   "metadata": {},
   "outputs": [],
   "source": [
    "df = deb.data"
   ]
  },
  {
   "cell_type": "code",
   "execution_count": 3,
   "metadata": {},
   "outputs": [
    {
     "data": {
      "text/html": [
       "<div>\n",
       "<style scoped>\n",
       "    .dataframe tbody tr th:only-of-type {\n",
       "        vertical-align: middle;\n",
       "    }\n",
       "\n",
       "    .dataframe tbody tr th {\n",
       "        vertical-align: top;\n",
       "    }\n",
       "\n",
       "    .dataframe thead th {\n",
       "        text-align: right;\n",
       "    }\n",
       "</style>\n",
       "<table border=\"1\" class=\"dataframe\">\n",
       "  <thead>\n",
       "    <tr style=\"text-align: right;\">\n",
       "      <th></th>\n",
       "      <th>symbol</th>\n",
       "      <th>name</th>\n",
       "      <th>maturity_date</th>\n",
       "      <th>underlying</th>\n",
       "      <th>bid_yield</th>\n",
       "      <th>ask_yield</th>\n",
       "      <th>ref_yield</th>\n",
       "      <th>price</th>\n",
       "      <th>perc_price_par</th>\n",
       "      <th>duration</th>\n",
       "      <th>perc_reune</th>\n",
       "      <th>ref_ntnb</th>\n",
       "      <th>refdate</th>\n",
       "    </tr>\n",
       "  </thead>\n",
       "  <tbody>\n",
       "    <tr>\n",
       "      <th>0</th>\n",
       "      <td>ALSCA0</td>\n",
       "      <td>ALIANSCE SONAE SHOPPING CENTER S/A (*)</td>\n",
       "      <td>2023-09-15</td>\n",
       "      <td>110% do DI</td>\n",
       "      <td>125.7619</td>\n",
       "      <td>122.785</td>\n",
       "      <td>123.8620</td>\n",
       "      <td>NaN</td>\n",
       "      <td>NaN</td>\n",
       "      <td>NaN</td>\n",
       "      <td>NaN</td>\n",
       "      <td>None</td>\n",
       "      <td>2021-04-20</td>\n",
       "    </tr>\n",
       "    <tr>\n",
       "      <th>1</th>\n",
       "      <td>AMPLA0</td>\n",
       "      <td>AMPLA ENERGIA E SERVIÇOS S/A (*)</td>\n",
       "      <td>2024-03-15</td>\n",
       "      <td>108% do DI</td>\n",
       "      <td>127.2385</td>\n",
       "      <td>120.4444</td>\n",
       "      <td>124.1191</td>\n",
       "      <td>978.146777</td>\n",
       "      <td>97.550163</td>\n",
       "      <td>564.82</td>\n",
       "      <td>NaN</td>\n",
       "      <td>None</td>\n",
       "      <td>2021-04-20</td>\n",
       "    </tr>\n",
       "    <tr>\n",
       "      <th>2</th>\n",
       "      <td>BRML17</td>\n",
       "      <td>BR MALLS PARTICIPAÇÕES S/A (*)</td>\n",
       "      <td>2025-03-11</td>\n",
       "      <td>107,5% do DI</td>\n",
       "      <td>124.6151</td>\n",
       "      <td>121.4285</td>\n",
       "      <td>123.1240</td>\n",
       "      <td>9626.591287</td>\n",
       "      <td>95.991375</td>\n",
       "      <td>863.50</td>\n",
       "      <td>NaN</td>\n",
       "      <td>None</td>\n",
       "      <td>2021-04-20</td>\n",
       "    </tr>\n",
       "    <tr>\n",
       "      <th>3</th>\n",
       "      <td>BSA312</td>\n",
       "      <td>B3 S/A - BRASIL, BOLSA, BALCÃO (*) (**)</td>\n",
       "      <td>2022-05-03</td>\n",
       "      <td>102,8% do DI</td>\n",
       "      <td>129.7504</td>\n",
       "      <td>122.4282</td>\n",
       "      <td>127.9462</td>\n",
       "      <td>9963.089620</td>\n",
       "      <td>98.690110</td>\n",
       "      <td>254.61</td>\n",
       "      <td>NaN</td>\n",
       "      <td>None</td>\n",
       "      <td>2021-04-20</td>\n",
       "    </tr>\n",
       "    <tr>\n",
       "      <th>4</th>\n",
       "      <td>CBRDA6</td>\n",
       "      <td>COMPANHIA BRASILEIRA DE DISTRIBUIÇÃO (*) (**)</td>\n",
       "      <td>2021-09-10</td>\n",
       "      <td>162,71% do DI</td>\n",
       "      <td>132.1536</td>\n",
       "      <td>124</td>\n",
       "      <td>130.1143</td>\n",
       "      <td>1009.549332</td>\n",
       "      <td>100.507274</td>\n",
       "      <td>100.00</td>\n",
       "      <td>NaN</td>\n",
       "      <td>None</td>\n",
       "      <td>2021-04-20</td>\n",
       "    </tr>\n",
       "    <tr>\n",
       "      <th>...</th>\n",
       "      <td>...</td>\n",
       "      <td>...</td>\n",
       "      <td>...</td>\n",
       "      <td>...</td>\n",
       "      <td>...</td>\n",
       "      <td>...</td>\n",
       "      <td>...</td>\n",
       "      <td>...</td>\n",
       "      <td>...</td>\n",
       "      <td>...</td>\n",
       "      <td>...</td>\n",
       "      <td>...</td>\n",
       "      <td>...</td>\n",
       "    </tr>\n",
       "    <tr>\n",
       "      <th>525</th>\n",
       "      <td>VLIO11</td>\n",
       "      <td>VLI OPERACOES PORTUARIAS S/A</td>\n",
       "      <td>2021-08-15</td>\n",
       "      <td>IPCA + 6,0500%</td>\n",
       "      <td>0.9068</td>\n",
       "      <td>0.3652</td>\n",
       "      <td>0.7968</td>\n",
       "      <td>1270.884952</td>\n",
       "      <td>101.666888</td>\n",
       "      <td>82.00</td>\n",
       "      <td>NaN</td>\n",
       "      <td>2022-08-15</td>\n",
       "      <td>2021-04-20</td>\n",
       "    </tr>\n",
       "    <tr>\n",
       "      <th>526</th>\n",
       "      <td>VNTT11</td>\n",
       "      <td>VENTOS DE SÃO TITO HOLDING S/A</td>\n",
       "      <td>2028-06-15</td>\n",
       "      <td>IPCA + 9,2360%</td>\n",
       "      <td>8.0168</td>\n",
       "      <td>6.673</td>\n",
       "      <td>7.4670</td>\n",
       "      <td>1034.560334</td>\n",
       "      <td>106.054166</td>\n",
       "      <td>916.77</td>\n",
       "      <td>NaN</td>\n",
       "      <td>2025-05-15</td>\n",
       "      <td>2021-04-20</td>\n",
       "    </tr>\n",
       "    <tr>\n",
       "      <th>527</th>\n",
       "      <td>VOES16</td>\n",
       "      <td>CONC. DE ROD. DO OESTE DE SP - VIAOESTE S/A (*)</td>\n",
       "      <td>2021-11-15</td>\n",
       "      <td>IPCA + 6,2959%</td>\n",
       "      <td>1.6093</td>\n",
       "      <td>0.7842</td>\n",
       "      <td>1.2885</td>\n",
       "      <td>1257.677653</td>\n",
       "      <td>102.723202</td>\n",
       "      <td>140.36</td>\n",
       "      <td>NaN</td>\n",
       "      <td>2022-08-15</td>\n",
       "      <td>2021-04-20</td>\n",
       "    </tr>\n",
       "    <tr>\n",
       "      <th>528</th>\n",
       "      <td>VPLT12</td>\n",
       "      <td>VIAPAULISTA S.A.</td>\n",
       "      <td>2027-06-15</td>\n",
       "      <td>IPCA + 3,9407%</td>\n",
       "      <td>4.3572</td>\n",
       "      <td>4.0585</td>\n",
       "      <td>4.1606</td>\n",
       "      <td>1008.504632</td>\n",
       "      <td>99.356190</td>\n",
       "      <td>769.31</td>\n",
       "      <td>NaN</td>\n",
       "      <td>2024-08-15</td>\n",
       "      <td>2021-04-20</td>\n",
       "    </tr>\n",
       "    <tr>\n",
       "      <th>529</th>\n",
       "      <td>VRDN12</td>\n",
       "      <td>VIARONDON CONCESSIONÁRIA DE RODOVIA S/A</td>\n",
       "      <td>2034-12-15</td>\n",
       "      <td>IPCA + 5,5500%</td>\n",
       "      <td>5.9191</td>\n",
       "      <td>5.603</td>\n",
       "      <td>5.6921</td>\n",
       "      <td>1070.533245</td>\n",
       "      <td>99.035982</td>\n",
       "      <td>1812.03</td>\n",
       "      <td>NaN</td>\n",
       "      <td>2030-08-15</td>\n",
       "      <td>2021-04-20</td>\n",
       "    </tr>\n",
       "  </tbody>\n",
       "</table>\n",
       "<p>530 rows × 13 columns</p>\n",
       "</div>"
      ],
      "text/plain": [
       "     symbol                                             name maturity_date  \\\n",
       "0    ALSCA0           ALIANSCE SONAE SHOPPING CENTER S/A (*)    2023-09-15   \n",
       "1    AMPLA0                 AMPLA ENERGIA E SERVIÇOS S/A (*)    2024-03-15   \n",
       "2    BRML17                   BR MALLS PARTICIPAÇÕES S/A (*)    2025-03-11   \n",
       "3    BSA312          B3 S/A - BRASIL, BOLSA, BALCÃO (*) (**)    2022-05-03   \n",
       "4    CBRDA6    COMPANHIA BRASILEIRA DE DISTRIBUIÇÃO (*) (**)    2021-09-10   \n",
       "..      ...                                              ...           ...   \n",
       "525  VLIO11                     VLI OPERACOES PORTUARIAS S/A    2021-08-15   \n",
       "526  VNTT11                   VENTOS DE SÃO TITO HOLDING S/A    2028-06-15   \n",
       "527  VOES16  CONC. DE ROD. DO OESTE DE SP - VIAOESTE S/A (*)    2021-11-15   \n",
       "528  VPLT12                                 VIAPAULISTA S.A.    2027-06-15   \n",
       "529  VRDN12          VIARONDON CONCESSIONÁRIA DE RODOVIA S/A    2034-12-15   \n",
       "\n",
       "         underlying bid_yield ask_yield  ref_yield        price  \\\n",
       "0        110% do DI  125.7619   122.785   123.8620          NaN   \n",
       "1        108% do DI  127.2385  120.4444   124.1191   978.146777   \n",
       "2      107,5% do DI  124.6151  121.4285   123.1240  9626.591287   \n",
       "3      102,8% do DI  129.7504  122.4282   127.9462  9963.089620   \n",
       "4     162,71% do DI  132.1536       124   130.1143  1009.549332   \n",
       "..              ...       ...       ...        ...          ...   \n",
       "525  IPCA + 6,0500%    0.9068    0.3652     0.7968  1270.884952   \n",
       "526  IPCA + 9,2360%    8.0168     6.673     7.4670  1034.560334   \n",
       "527  IPCA + 6,2959%    1.6093    0.7842     1.2885  1257.677653   \n",
       "528  IPCA + 3,9407%    4.3572    4.0585     4.1606  1008.504632   \n",
       "529  IPCA + 5,5500%    5.9191     5.603     5.6921  1070.533245   \n",
       "\n",
       "     perc_price_par  duration  perc_reune    ref_ntnb     refdate  \n",
       "0               NaN       NaN         NaN        None  2021-04-20  \n",
       "1         97.550163    564.82         NaN        None  2021-04-20  \n",
       "2         95.991375    863.50         NaN        None  2021-04-20  \n",
       "3         98.690110    254.61         NaN        None  2021-04-20  \n",
       "4        100.507274    100.00         NaN        None  2021-04-20  \n",
       "..              ...       ...         ...         ...         ...  \n",
       "525      101.666888     82.00         NaN  2022-08-15  2021-04-20  \n",
       "526      106.054166    916.77         NaN  2025-05-15  2021-04-20  \n",
       "527      102.723202    140.36         NaN  2022-08-15  2021-04-20  \n",
       "528       99.356190    769.31         NaN  2024-08-15  2021-04-20  \n",
       "529       99.035982   1812.03         NaN  2030-08-15  2021-04-20  \n",
       "\n",
       "[530 rows x 13 columns]"
      ]
     },
     "execution_count": 3,
     "metadata": {},
     "output_type": "execute_result"
    }
   ],
   "source": [
    "df"
   ]
  },
  {
   "cell_type": "code",
   "execution_count": null,
   "metadata": {},
   "outputs": [],
   "source": []
  }
 ],
 "metadata": {
  "interpreter": {
   "hash": "79ff66205002c2c140099cf996cb67cfce81b9e7561ac2cf9a442b5a8050b065"
  },
  "kernelspec": {
   "display_name": "Python 3.7.6 64-bit (system)",
   "language": "python",
   "name": "python3"
  },
  "language_info": {
   "codemirror_mode": {
    "name": "ipython",
    "version": 3
   },
   "file_extension": ".py",
   "mimetype": "text/x-python",
   "name": "python",
   "nbconvert_exporter": "python",
   "pygments_lexer": "ipython3",
   "version": "3.10.9"
  },
  "orig_nbformat": 4
 },
 "nbformat": 4,
 "nbformat_minor": 2
}
