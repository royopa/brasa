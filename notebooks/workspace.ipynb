{
 "cells": [
  {
   "cell_type": "code",
   "execution_count": 42,
   "metadata": {},
   "outputs": [],
   "source": [
    "import requests\n",
    "import base64\n",
    "import json\n",
    "import binascii"
   ]
  },
  {
   "cell_type": "code",
   "execution_count": 43,
   "metadata": {},
   "outputs": [
    {
     "name": "stdout",
     "output_type": "stream",
     "text": [
      "{\"tradingName\":\"ABEV\",\"language\":\"pt-br\",\"pageNumber\":1,\"pageSize\":9999}\n"
     ]
    },
    {
     "data": {
      "text/plain": [
       "<Response [200]>"
      ]
     },
     "execution_count": 43,
     "metadata": {},
     "output_type": "execute_result"
    }
   ],
   "source": [
    "args = {\n",
    "    \"tradingName\": \"ABEV\",\n",
    "    \"language\": \"pt-br\",\n",
    "    \"pageNumber\": 1,\n",
    "    \"pageSize\": 9999,\n",
    "}\n",
    "params = json.dumps(args).replace(\" \", \"\").strip()\n",
    "print(params)\n",
    "params_enc = binascii.b2a_base64(bytes(params, \"utf8\"), newline=False).decode(\"utf8\").strip()\n",
    "\n",
    "# params_enc = \"eyJ0cmFkaW5nTmFtZSI6IkFCRVYiLCJsYW5ndWFnZSI6InB0LWJyIiwicGFnZU51bWJlciI6MSwicGFnZVNpemUiOjk5OTl9\"\n",
    "\n",
    "url = f\"https://sistemaswebb3-listados.b3.com.br/listedCompaniesProxy/CompanyCall/GetListedCashDividends/{params_enc}\"\n",
    "\n",
    "requests.get(url, verify=True)"
   ]
  },
  {
   "cell_type": "code",
   "execution_count": 36,
   "metadata": {},
   "outputs": [
    {
     "name": "stdout",
     "output_type": "stream",
     "text": [
      "eyJ0cmFkaW5nTmFtZSI6IkFCRVYiLCJsYW5ndWFnZSI6InB0LWJyIiwicGFnZU51bWJlciI6MSwi\n",
      "cGFnZVNpemUiOjk5OTl9\n",
      "\n"
     ]
    }
   ],
   "source": [
    "print(params_enc)"
   ]
  },
  {
   "cell_type": "code",
   "execution_count": 30,
   "metadata": {},
   "outputs": [
    {
     "name": "stdout",
     "output_type": "stream",
     "text": [
      "eyJ0cmFkaW5nTmFtZSI6IkFCRVYiLCJsYW5ndWFnZSI6InB0LWJyIiwicGFnZU51bWJlciI6MSwicGFnZVNpemUiOjk5OTl9\n"
     ]
    }
   ],
   "source": [
    "print(\"eyJ0cmFkaW5nTmFtZSI6IkFCRVYiLCJsYW5ndWFnZSI6InB0LWJyIiwicGFnZU51bWJlciI6MSwicGFnZVNpemUiOjk5OTl9\")"
   ]
  },
  {
   "cell_type": "code",
   "execution_count": 41,
   "metadata": {},
   "outputs": [
    {
     "data": {
      "text/plain": [
       "'eyJ0cmFkaW5nTmFtZSI6IkFCRVYiLCJsYW5ndWFnZSI6InB0LWJyIiwicGFnZU51bWJlciI6MSwicGFnZVNpemUiOjk5OTl9'"
      ]
     },
     "execution_count": 41,
     "metadata": {},
     "output_type": "execute_result"
    }
   ],
   "source": [
    "import binascii\n",
    "\n",
    "\n",
    "binascii.b2a_base64(bytes(params, \"utf8\"), newline=False).decode(\"utf8\").strip()"
   ]
  },
  {
   "cell_type": "code",
   "execution_count": 1,
   "metadata": {},
   "outputs": [],
   "source": [
    "import json\n",
    "import pandas as pd"
   ]
  },
  {
   "cell_type": "code",
   "execution_count": null,
   "metadata": {},
   "outputs": [],
   "source": []
  },
  {
   "cell_type": "code",
   "execution_count": 2,
   "metadata": {},
   "outputs": [],
   "source": [
    "with open('../data/CDIIDI.json') as fp:\n",
    "    data = json.loads(fp.read())"
   ]
  },
  {
   "cell_type": "code",
   "execution_count": 3,
   "metadata": {},
   "outputs": [
    {
     "data": {
      "text/plain": [
       "dict_keys(['taxa', 'dataTaxa', 'indice', 'dataIndice'])"
      ]
     },
     "execution_count": 3,
     "metadata": {},
     "output_type": "execute_result"
    }
   ],
   "source": [
    "data.keys()"
   ]
  },
  {
   "cell_type": "code",
   "execution_count": 4,
   "metadata": {},
   "outputs": [
    {
     "data": {
      "text/plain": [
       "{'taxa': '11,65',\n",
       " 'dataTaxa': '14/04/2022',\n",
       " 'indice': '34.679,17',\n",
       " 'dataIndice': '18/04/2022'}"
      ]
     },
     "execution_count": 4,
     "metadata": {},
     "output_type": "execute_result"
    }
   ],
   "source": [
    "data"
   ]
  },
  {
   "cell_type": "code",
   "execution_count": 9,
   "metadata": {},
   "outputs": [
    {
     "data": {
      "text/html": [
       "<div>\n",
       "<style scoped>\n",
       "    .dataframe tbody tr th:only-of-type {\n",
       "        vertical-align: middle;\n",
       "    }\n",
       "\n",
       "    .dataframe tbody tr th {\n",
       "        vertical-align: top;\n",
       "    }\n",
       "\n",
       "    .dataframe thead th {\n",
       "        text-align: right;\n",
       "    }\n",
       "</style>\n",
       "<table border=\"1\" class=\"dataframe\">\n",
       "  <thead>\n",
       "    <tr style=\"text-align: right;\">\n",
       "      <th></th>\n",
       "      <th>taxa</th>\n",
       "      <th>dataTaxa</th>\n",
       "      <th>indice</th>\n",
       "      <th>dataIndice</th>\n",
       "    </tr>\n",
       "  </thead>\n",
       "  <tbody>\n",
       "    <tr>\n",
       "      <th>0</th>\n",
       "      <td>11,65</td>\n",
       "      <td>14/04/2022</td>\n",
       "      <td>34.679,17</td>\n",
       "      <td>18/04/2022</td>\n",
       "    </tr>\n",
       "  </tbody>\n",
       "</table>\n",
       "</div>"
      ],
      "text/plain": [
       "    taxa    dataTaxa     indice  dataIndice\n",
       "0  11,65  14/04/2022  34.679,17  18/04/2022"
      ]
     },
     "execution_count": 9,
     "metadata": {},
     "output_type": "execute_result"
    }
   ],
   "source": [
    "pd.DataFrame(data, index=[0])"
   ]
  },
  {
   "cell_type": "code",
   "execution_count": 37,
   "metadata": {},
   "outputs": [
    {
     "data": {
      "text/plain": [
       "{'update': '2022-01-25', 'startMonth': 1, 'endMonth': 4, 'year': 2022}"
      ]
     },
     "execution_count": 37,
     "metadata": {},
     "output_type": "execute_result"
    }
   ],
   "source": [
    "data['header']"
   ]
  },
  {
   "cell_type": "code",
   "execution_count": 6,
   "metadata": {},
   "outputs": [],
   "source": [
    "df = pd.DataFrame(data['results'])"
   ]
  },
  {
   "cell_type": "code",
   "execution_count": 7,
   "metadata": {},
   "outputs": [
    {
     "data": {
      "text/html": [
       "<div>\n",
       "<style scoped>\n",
       "    .dataframe tbody tr th:only-of-type {\n",
       "        vertical-align: middle;\n",
       "    }\n",
       "\n",
       "    .dataframe tbody tr th {\n",
       "        vertical-align: top;\n",
       "    }\n",
       "\n",
       "    .dataframe thead th {\n",
       "        text-align: right;\n",
       "    }\n",
       "</style>\n",
       "<table border=\"1\" class=\"dataframe\">\n",
       "  <thead>\n",
       "    <tr style=\"text-align: right;\">\n",
       "      <th></th>\n",
       "      <th>company</th>\n",
       "      <th>spotlight</th>\n",
       "      <th>code</th>\n",
       "      <th>indexes</th>\n",
       "    </tr>\n",
       "  </thead>\n",
       "  <tbody>\n",
       "    <tr>\n",
       "      <th>0</th>\n",
       "      <td>3M</td>\n",
       "      <td>DRN</td>\n",
       "      <td>MMMC34</td>\n",
       "      <td>BDRX</td>\n",
       "    </tr>\n",
       "    <tr>\n",
       "      <th>1</th>\n",
       "      <td>3R PETROLEUM</td>\n",
       "      <td>ON   NM</td>\n",
       "      <td>RRRP3</td>\n",
       "      <td>IBOV,IBRA,IBXX,IGCT,IGCX,IGNM,ITAG,SMLL</td>\n",
       "    </tr>\n",
       "    <tr>\n",
       "      <th>2</th>\n",
       "      <td>3TENTOS</td>\n",
       "      <td>ON   NM</td>\n",
       "      <td>TTEN3</td>\n",
       "      <td>IBRA,ICON,IGCT,IGCX,IGNM,ITAG,SMLL</td>\n",
       "    </tr>\n",
       "    <tr>\n",
       "      <th>3</th>\n",
       "      <td>AB INBEV</td>\n",
       "      <td>DRN</td>\n",
       "      <td>ABUD34</td>\n",
       "      <td>BDRX</td>\n",
       "    </tr>\n",
       "    <tr>\n",
       "      <th>4</th>\n",
       "      <td>ABB LTD</td>\n",
       "      <td>DRN</td>\n",
       "      <td>A1BB34</td>\n",
       "      <td>BDRX</td>\n",
       "    </tr>\n",
       "    <tr>\n",
       "      <th>...</th>\n",
       "      <td>...</td>\n",
       "      <td>...</td>\n",
       "      <td>...</td>\n",
       "      <td>...</td>\n",
       "    </tr>\n",
       "    <tr>\n",
       "      <th>647</th>\n",
       "      <td>WIX.COM LTD</td>\n",
       "      <td>DRN</td>\n",
       "      <td>W1IX34</td>\n",
       "      <td>BDRX</td>\n",
       "    </tr>\n",
       "    <tr>\n",
       "      <th>648</th>\n",
       "      <td>WIZ S.A.</td>\n",
       "      <td>ON   NM</td>\n",
       "      <td>WIZS3</td>\n",
       "      <td>GPTW,IBRA,IDIV,IGCT,IGCX,IGNM,ITAG,SMLL</td>\n",
       "    </tr>\n",
       "    <tr>\n",
       "      <th>649</th>\n",
       "      <td>YDUQS PART</td>\n",
       "      <td>ON   NM</td>\n",
       "      <td>YDUQ3</td>\n",
       "      <td>IBOV,IBRA,IBXX,ICON,IGCT,IGCX,IGNM,ITAG,SMLL</td>\n",
       "    </tr>\n",
       "    <tr>\n",
       "      <th>650</th>\n",
       "      <td>ZOETIS INC</td>\n",
       "      <td>DRN</td>\n",
       "      <td>Z1TS34</td>\n",
       "      <td>BDRX</td>\n",
       "    </tr>\n",
       "    <tr>\n",
       "      <th>651</th>\n",
       "      <td>ZOOM VIDEO</td>\n",
       "      <td>DRN</td>\n",
       "      <td>Z1OM34</td>\n",
       "      <td>BDRX</td>\n",
       "    </tr>\n",
       "  </tbody>\n",
       "</table>\n",
       "<p>652 rows × 4 columns</p>\n",
       "</div>"
      ],
      "text/plain": [
       "          company spotlight    code  \\\n",
       "0              3M       DRN  MMMC34   \n",
       "1    3R PETROLEUM   ON   NM   RRRP3   \n",
       "2         3TENTOS   ON   NM   TTEN3   \n",
       "3        AB INBEV       DRN  ABUD34   \n",
       "4         ABB LTD       DRN  A1BB34   \n",
       "..            ...       ...     ...   \n",
       "647   WIX.COM LTD       DRN  W1IX34   \n",
       "648      WIZ S.A.   ON   NM   WIZS3   \n",
       "649    YDUQS PART   ON   NM   YDUQ3   \n",
       "650    ZOETIS INC       DRN  Z1TS34   \n",
       "651    ZOOM VIDEO       DRN  Z1OM34   \n",
       "\n",
       "                                          indexes  \n",
       "0                                            BDRX  \n",
       "1         IBOV,IBRA,IBXX,IGCT,IGCX,IGNM,ITAG,SMLL  \n",
       "2              IBRA,ICON,IGCT,IGCX,IGNM,ITAG,SMLL  \n",
       "3                                            BDRX  \n",
       "4                                            BDRX  \n",
       "..                                            ...  \n",
       "647                                          BDRX  \n",
       "648       GPTW,IBRA,IDIV,IGCT,IGCX,IGNM,ITAG,SMLL  \n",
       "649  IBOV,IBRA,IBXX,ICON,IGCT,IGCX,IGNM,ITAG,SMLL  \n",
       "650                                          BDRX  \n",
       "651                                          BDRX  \n",
       "\n",
       "[652 rows x 4 columns]"
      ]
     },
     "execution_count": 7,
     "metadata": {},
     "output_type": "execute_result"
    }
   ],
   "source": [
    "df"
   ]
  },
  {
   "cell_type": "code",
   "execution_count": 9,
   "metadata": {},
   "outputs": [
    {
     "data": {
      "text/plain": [
       "652"
      ]
     },
     "execution_count": 9,
     "metadata": {},
     "output_type": "execute_result"
    }
   ],
   "source": [
    "len(df['code'].unique())"
   ]
  },
  {
   "cell_type": "code",
   "execution_count": 12,
   "metadata": {},
   "outputs": [
    {
     "data": {
      "text/plain": [
       "(257, 4)"
      ]
     },
     "execution_count": 12,
     "metadata": {},
     "output_type": "execute_result"
    }
   ],
   "source": [
    "df[df['indexes'] == 'BDRX'].shape"
   ]
  },
  {
   "cell_type": "code",
   "execution_count": 13,
   "metadata": {},
   "outputs": [
    {
     "data": {
      "text/plain": [
       "(395, 4)"
      ]
     },
     "execution_count": 13,
     "metadata": {},
     "output_type": "execute_result"
    }
   ],
   "source": [
    "df[df['indexes'] != 'BDRX'].shape"
   ]
  },
  {
   "cell_type": "code",
   "execution_count": 14,
   "metadata": {},
   "outputs": [
    {
     "data": {
      "text/html": [
       "<div>\n",
       "<style scoped>\n",
       "    .dataframe tbody tr th:only-of-type {\n",
       "        vertical-align: middle;\n",
       "    }\n",
       "\n",
       "    .dataframe tbody tr th {\n",
       "        vertical-align: top;\n",
       "    }\n",
       "\n",
       "    .dataframe thead th {\n",
       "        text-align: right;\n",
       "    }\n",
       "</style>\n",
       "<table border=\"1\" class=\"dataframe\">\n",
       "  <thead>\n",
       "    <tr style=\"text-align: right;\">\n",
       "      <th></th>\n",
       "      <th>company</th>\n",
       "      <th>spotlight</th>\n",
       "      <th>code</th>\n",
       "      <th>indexes</th>\n",
       "    </tr>\n",
       "  </thead>\n",
       "  <tbody>\n",
       "    <tr>\n",
       "      <th>1</th>\n",
       "      <td>3R PETROLEUM</td>\n",
       "      <td>ON   NM</td>\n",
       "      <td>RRRP3</td>\n",
       "      <td>IBOV,IBRA,IBXX,IGCT,IGCX,IGNM,ITAG,SMLL</td>\n",
       "    </tr>\n",
       "    <tr>\n",
       "      <th>2</th>\n",
       "      <td>3TENTOS</td>\n",
       "      <td>ON   NM</td>\n",
       "      <td>TTEN3</td>\n",
       "      <td>IBRA,ICON,IGCT,IGCX,IGNM,ITAG,SMLL</td>\n",
       "    </tr>\n",
       "    <tr>\n",
       "      <th>7</th>\n",
       "      <td>ABC BRASIL</td>\n",
       "      <td>PN   N2</td>\n",
       "      <td>ABCB4</td>\n",
       "      <td>IBRA,IDIV,IFNC,IGCT,IGCX,ITAG,SMLL</td>\n",
       "    </tr>\n",
       "    <tr>\n",
       "      <th>14</th>\n",
       "      <td>AERIS</td>\n",
       "      <td>ON   NM</td>\n",
       "      <td>AERI3</td>\n",
       "      <td>GPTW,IBRA,IGCT,IGCX,IGNM,INDX,ITAG,SMLL</td>\n",
       "    </tr>\n",
       "    <tr>\n",
       "      <th>15</th>\n",
       "      <td>AES BRASIL</td>\n",
       "      <td>ON   NM</td>\n",
       "      <td>AESB3</td>\n",
       "      <td>IBRA,IEEX,IGCT,IGCX,IGNM,ISEE,ITAG,SMLL,UTIL</td>\n",
       "    </tr>\n",
       "    <tr>\n",
       "      <th>...</th>\n",
       "      <td>...</td>\n",
       "      <td>...</td>\n",
       "      <td>...</td>\n",
       "      <td>...</td>\n",
       "    </tr>\n",
       "    <tr>\n",
       "      <th>642</th>\n",
       "      <td>WEG</td>\n",
       "      <td>ON   NM</td>\n",
       "      <td>WEGE3</td>\n",
       "      <td>IBOV,IBRA,IBXL,IBXX,ICO2,IGCT,IGCX,IGNM,INDX,I...</td>\n",
       "    </tr>\n",
       "    <tr>\n",
       "      <th>645</th>\n",
       "      <td>WESTWING</td>\n",
       "      <td>ON   NM</td>\n",
       "      <td>WEST3</td>\n",
       "      <td>IBRA,IGCT,IGCX,IGNM,ITAG,SMLL</td>\n",
       "    </tr>\n",
       "    <tr>\n",
       "      <th>646</th>\n",
       "      <td>WILSON SONS</td>\n",
       "      <td>ON   NM</td>\n",
       "      <td>PORT3</td>\n",
       "      <td>IGCX,IGNM,ITAG</td>\n",
       "    </tr>\n",
       "    <tr>\n",
       "      <th>648</th>\n",
       "      <td>WIZ S.A.</td>\n",
       "      <td>ON   NM</td>\n",
       "      <td>WIZS3</td>\n",
       "      <td>GPTW,IBRA,IDIV,IGCT,IGCX,IGNM,ITAG,SMLL</td>\n",
       "    </tr>\n",
       "    <tr>\n",
       "      <th>649</th>\n",
       "      <td>YDUQS PART</td>\n",
       "      <td>ON   NM</td>\n",
       "      <td>YDUQ3</td>\n",
       "      <td>IBOV,IBRA,IBXX,ICON,IGCT,IGCX,IGNM,ITAG,SMLL</td>\n",
       "    </tr>\n",
       "  </tbody>\n",
       "</table>\n",
       "<p>395 rows × 4 columns</p>\n",
       "</div>"
      ],
      "text/plain": [
       "          company spotlight   code  \\\n",
       "1    3R PETROLEUM   ON   NM  RRRP3   \n",
       "2         3TENTOS   ON   NM  TTEN3   \n",
       "7      ABC BRASIL   PN   N2  ABCB4   \n",
       "14          AERIS   ON   NM  AERI3   \n",
       "15     AES BRASIL   ON   NM  AESB3   \n",
       "..            ...       ...    ...   \n",
       "642           WEG   ON   NM  WEGE3   \n",
       "645      WESTWING   ON   NM  WEST3   \n",
       "646   WILSON SONS   ON   NM  PORT3   \n",
       "648      WIZ S.A.   ON   NM  WIZS3   \n",
       "649    YDUQS PART   ON   NM  YDUQ3   \n",
       "\n",
       "                                               indexes  \n",
       "1              IBOV,IBRA,IBXX,IGCT,IGCX,IGNM,ITAG,SMLL  \n",
       "2                   IBRA,ICON,IGCT,IGCX,IGNM,ITAG,SMLL  \n",
       "7                   IBRA,IDIV,IFNC,IGCT,IGCX,ITAG,SMLL  \n",
       "14             GPTW,IBRA,IGCT,IGCX,IGNM,INDX,ITAG,SMLL  \n",
       "15        IBRA,IEEX,IGCT,IGCX,IGNM,ISEE,ITAG,SMLL,UTIL  \n",
       "..                                                 ...  \n",
       "642  IBOV,IBRA,IBXL,IBXX,ICO2,IGCT,IGCX,IGNM,INDX,I...  \n",
       "645                      IBRA,IGCT,IGCX,IGNM,ITAG,SMLL  \n",
       "646                                     IGCX,IGNM,ITAG  \n",
       "648            GPTW,IBRA,IDIV,IGCT,IGCX,IGNM,ITAG,SMLL  \n",
       "649       IBOV,IBRA,IBXX,ICON,IGCT,IGCX,IGNM,ITAG,SMLL  \n",
       "\n",
       "[395 rows x 4 columns]"
      ]
     },
     "execution_count": 14,
     "metadata": {},
     "output_type": "execute_result"
    }
   ],
   "source": [
    "df[df['indexes'] != 'BDRX']"
   ]
  },
  {
   "cell_type": "code",
   "execution_count": 16,
   "metadata": {},
   "outputs": [
    {
     "data": {
      "text/plain": [
       "0                                                 [BDRX]\n",
       "1       [IBOV, IBRA, IBXX, IGCT, IGCX, IGNM, ITAG, SMLL]\n",
       "2             [IBRA, ICON, IGCT, IGCX, IGNM, ITAG, SMLL]\n",
       "3                                                 [BDRX]\n",
       "4                                                 [BDRX]\n",
       "                             ...                        \n",
       "647                                               [BDRX]\n",
       "648     [GPTW, IBRA, IDIV, IGCT, IGCX, IGNM, ITAG, SMLL]\n",
       "649    [IBOV, IBRA, IBXX, ICON, IGCT, IGCX, IGNM, ITA...\n",
       "650                                               [BDRX]\n",
       "651                                               [BDRX]\n",
       "Name: indexes, Length: 652, dtype: object"
      ]
     },
     "execution_count": 16,
     "metadata": {},
     "output_type": "execute_result"
    }
   ],
   "source": [
    "df['indexes'].str.split(',')"
   ]
  },
  {
   "cell_type": "code",
   "execution_count": 34,
   "metadata": {},
   "outputs": [],
   "source": [
    "def _(dfx):\n",
    "    indexes = dfx['indexes'].str.split(',').explode()\n",
    "    return pd.DataFrame({\n",
    "        'company': dfx['company'],\n",
    "        'spotlight': dfx['spotlight'],\n",
    "        'code': dfx['code'],\n",
    "        'indexes': indexes,\n",
    "    })\n",
    "\n",
    "dfr = df.groupby(['company', 'spotlight', 'code']).apply(_).reset_index(drop=True)"
   ]
  },
  {
   "cell_type": "code",
   "execution_count": 40,
   "metadata": {},
   "outputs": [
    {
     "data": {
      "text/html": [
       "<div>\n",
       "<style scoped>\n",
       "    .dataframe tbody tr th:only-of-type {\n",
       "        vertical-align: middle;\n",
       "    }\n",
       "\n",
       "    .dataframe tbody tr th {\n",
       "        vertical-align: top;\n",
       "    }\n",
       "\n",
       "    .dataframe thead th {\n",
       "        text-align: right;\n",
       "    }\n",
       "</style>\n",
       "<table border=\"1\" class=\"dataframe\">\n",
       "  <thead>\n",
       "    <tr style=\"text-align: right;\">\n",
       "      <th></th>\n",
       "      <th>company</th>\n",
       "      <th>spotlight</th>\n",
       "      <th>code</th>\n",
       "      <th>indexes</th>\n",
       "      <th>refdate</th>\n",
       "      <th>duration_start_month</th>\n",
       "      <th>duration_end_month</th>\n",
       "      <th>duration_year</th>\n",
       "    </tr>\n",
       "  </thead>\n",
       "  <tbody>\n",
       "    <tr>\n",
       "      <th>0</th>\n",
       "      <td>3M</td>\n",
       "      <td>DRN</td>\n",
       "      <td>MMMC34</td>\n",
       "      <td>BDRX</td>\n",
       "      <td>2022-01-25</td>\n",
       "      <td>1</td>\n",
       "      <td>4</td>\n",
       "      <td>2022</td>\n",
       "    </tr>\n",
       "    <tr>\n",
       "      <th>1</th>\n",
       "      <td>3R PETROLEUM</td>\n",
       "      <td>ON   NM</td>\n",
       "      <td>RRRP3</td>\n",
       "      <td>IBOV</td>\n",
       "      <td>2022-01-25</td>\n",
       "      <td>1</td>\n",
       "      <td>4</td>\n",
       "      <td>2022</td>\n",
       "    </tr>\n",
       "    <tr>\n",
       "      <th>2</th>\n",
       "      <td>3R PETROLEUM</td>\n",
       "      <td>ON   NM</td>\n",
       "      <td>RRRP3</td>\n",
       "      <td>IBRA</td>\n",
       "      <td>2022-01-25</td>\n",
       "      <td>1</td>\n",
       "      <td>4</td>\n",
       "      <td>2022</td>\n",
       "    </tr>\n",
       "    <tr>\n",
       "      <th>3</th>\n",
       "      <td>3R PETROLEUM</td>\n",
       "      <td>ON   NM</td>\n",
       "      <td>RRRP3</td>\n",
       "      <td>IBXX</td>\n",
       "      <td>2022-01-25</td>\n",
       "      <td>1</td>\n",
       "      <td>4</td>\n",
       "      <td>2022</td>\n",
       "    </tr>\n",
       "    <tr>\n",
       "      <th>4</th>\n",
       "      <td>3R PETROLEUM</td>\n",
       "      <td>ON   NM</td>\n",
       "      <td>RRRP3</td>\n",
       "      <td>IGCT</td>\n",
       "      <td>2022-01-25</td>\n",
       "      <td>1</td>\n",
       "      <td>4</td>\n",
       "      <td>2022</td>\n",
       "    </tr>\n",
       "    <tr>\n",
       "      <th>...</th>\n",
       "      <td>...</td>\n",
       "      <td>...</td>\n",
       "      <td>...</td>\n",
       "      <td>...</td>\n",
       "      <td>...</td>\n",
       "      <td>...</td>\n",
       "      <td>...</td>\n",
       "      <td>...</td>\n",
       "    </tr>\n",
       "    <tr>\n",
       "      <th>2468</th>\n",
       "      <td>YDUQS PART</td>\n",
       "      <td>ON   NM</td>\n",
       "      <td>YDUQ3</td>\n",
       "      <td>IGNM</td>\n",
       "      <td>2022-01-25</td>\n",
       "      <td>1</td>\n",
       "      <td>4</td>\n",
       "      <td>2022</td>\n",
       "    </tr>\n",
       "    <tr>\n",
       "      <th>2469</th>\n",
       "      <td>YDUQS PART</td>\n",
       "      <td>ON   NM</td>\n",
       "      <td>YDUQ3</td>\n",
       "      <td>ITAG</td>\n",
       "      <td>2022-01-25</td>\n",
       "      <td>1</td>\n",
       "      <td>4</td>\n",
       "      <td>2022</td>\n",
       "    </tr>\n",
       "    <tr>\n",
       "      <th>2470</th>\n",
       "      <td>YDUQS PART</td>\n",
       "      <td>ON   NM</td>\n",
       "      <td>YDUQ3</td>\n",
       "      <td>SMLL</td>\n",
       "      <td>2022-01-25</td>\n",
       "      <td>1</td>\n",
       "      <td>4</td>\n",
       "      <td>2022</td>\n",
       "    </tr>\n",
       "    <tr>\n",
       "      <th>2471</th>\n",
       "      <td>ZOETIS INC</td>\n",
       "      <td>DRN</td>\n",
       "      <td>Z1TS34</td>\n",
       "      <td>BDRX</td>\n",
       "      <td>2022-01-25</td>\n",
       "      <td>1</td>\n",
       "      <td>4</td>\n",
       "      <td>2022</td>\n",
       "    </tr>\n",
       "    <tr>\n",
       "      <th>2472</th>\n",
       "      <td>ZOOM VIDEO</td>\n",
       "      <td>DRN</td>\n",
       "      <td>Z1OM34</td>\n",
       "      <td>BDRX</td>\n",
       "      <td>2022-01-25</td>\n",
       "      <td>1</td>\n",
       "      <td>4</td>\n",
       "      <td>2022</td>\n",
       "    </tr>\n",
       "  </tbody>\n",
       "</table>\n",
       "<p>2473 rows × 8 columns</p>\n",
       "</div>"
      ],
      "text/plain": [
       "           company spotlight    code indexes     refdate  \\\n",
       "0               3M       DRN  MMMC34    BDRX  2022-01-25   \n",
       "1     3R PETROLEUM   ON   NM   RRRP3    IBOV  2022-01-25   \n",
       "2     3R PETROLEUM   ON   NM   RRRP3    IBRA  2022-01-25   \n",
       "3     3R PETROLEUM   ON   NM   RRRP3    IBXX  2022-01-25   \n",
       "4     3R PETROLEUM   ON   NM   RRRP3    IGCT  2022-01-25   \n",
       "...            ...       ...     ...     ...         ...   \n",
       "2468    YDUQS PART   ON   NM   YDUQ3    IGNM  2022-01-25   \n",
       "2469    YDUQS PART   ON   NM   YDUQ3    ITAG  2022-01-25   \n",
       "2470    YDUQS PART   ON   NM   YDUQ3    SMLL  2022-01-25   \n",
       "2471    ZOETIS INC       DRN  Z1TS34    BDRX  2022-01-25   \n",
       "2472    ZOOM VIDEO       DRN  Z1OM34    BDRX  2022-01-25   \n",
       "\n",
       "      duration_start_month  duration_end_month  duration_year  \n",
       "0                        1                   4           2022  \n",
       "1                        1                   4           2022  \n",
       "2                        1                   4           2022  \n",
       "3                        1                   4           2022  \n",
       "4                        1                   4           2022  \n",
       "...                    ...                 ...            ...  \n",
       "2468                     1                   4           2022  \n",
       "2469                     1                   4           2022  \n",
       "2470                     1                   4           2022  \n",
       "2471                     1                   4           2022  \n",
       "2472                     1                   4           2022  \n",
       "\n",
       "[2473 rows x 8 columns]"
      ]
     },
     "execution_count": 40,
     "metadata": {},
     "output_type": "execute_result"
    }
   ],
   "source": [
    "dfr['refdate'] = data['header']['update']\n",
    "dfr['duration_start_month'] = data['header']['startMonth']\n",
    "dfr['duration_end_month'] = data['header']['endMonth']\n",
    "dfr['duration_year'] = data['header']['year']\n",
    "dfr"
   ]
  },
  {
   "cell_type": "code",
   "execution_count": 2,
   "metadata": {},
   "outputs": [],
   "source": []
  },
  {
   "cell_type": "code",
   "execution_count": 1,
   "metadata": {},
   "outputs": [],
   "source": [
    "import sys\n",
    "sys.path.insert(0, '..')\n",
    "\n",
    "from kyd.parsers.anbima import AnbimaDebentures\n",
    "\n",
    "deb = AnbimaDebentures('../data/deb_2021-04-20.txt')\n"
   ]
  },
  {
   "cell_type": "code",
   "execution_count": 2,
   "metadata": {},
   "outputs": [],
   "source": [
    "df = deb.data"
   ]
  },
  {
   "cell_type": "code",
   "execution_count": 3,
   "metadata": {},
   "outputs": [
    {
     "data": {
      "text/html": [
       "<div>\n",
       "<style scoped>\n",
       "    .dataframe tbody tr th:only-of-type {\n",
       "        vertical-align: middle;\n",
       "    }\n",
       "\n",
       "    .dataframe tbody tr th {\n",
       "        vertical-align: top;\n",
       "    }\n",
       "\n",
       "    .dataframe thead th {\n",
       "        text-align: right;\n",
       "    }\n",
       "</style>\n",
       "<table border=\"1\" class=\"dataframe\">\n",
       "  <thead>\n",
       "    <tr style=\"text-align: right;\">\n",
       "      <th></th>\n",
       "      <th>symbol</th>\n",
       "      <th>name</th>\n",
       "      <th>maturity_date</th>\n",
       "      <th>underlying</th>\n",
       "      <th>bid_yield</th>\n",
       "      <th>ask_yield</th>\n",
       "      <th>ref_yield</th>\n",
       "      <th>price</th>\n",
       "      <th>perc_price_par</th>\n",
       "      <th>duration</th>\n",
       "      <th>perc_reune</th>\n",
       "      <th>ref_ntnb</th>\n",
       "      <th>refdate</th>\n",
       "    </tr>\n",
       "  </thead>\n",
       "  <tbody>\n",
       "    <tr>\n",
       "      <th>0</th>\n",
       "      <td>ALSCA0</td>\n",
       "      <td>ALIANSCE SONAE SHOPPING CENTER S/A (*)</td>\n",
       "      <td>2023-09-15</td>\n",
       "      <td>110% do DI</td>\n",
       "      <td>125.7619</td>\n",
       "      <td>122.785</td>\n",
       "      <td>123.8620</td>\n",
       "      <td>NaN</td>\n",
       "      <td>NaN</td>\n",
       "      <td>NaN</td>\n",
       "      <td>NaN</td>\n",
       "      <td>None</td>\n",
       "      <td>2021-04-20</td>\n",
       "    </tr>\n",
       "    <tr>\n",
       "      <th>1</th>\n",
       "      <td>AMPLA0</td>\n",
       "      <td>AMPLA ENERGIA E SERVIÇOS S/A (*)</td>\n",
       "      <td>2024-03-15</td>\n",
       "      <td>108% do DI</td>\n",
       "      <td>127.2385</td>\n",
       "      <td>120.4444</td>\n",
       "      <td>124.1191</td>\n",
       "      <td>978.146777</td>\n",
       "      <td>97.550163</td>\n",
       "      <td>564.82</td>\n",
       "      <td>NaN</td>\n",
       "      <td>None</td>\n",
       "      <td>2021-04-20</td>\n",
       "    </tr>\n",
       "    <tr>\n",
       "      <th>2</th>\n",
       "      <td>BRML17</td>\n",
       "      <td>BR MALLS PARTICIPAÇÕES S/A (*)</td>\n",
       "      <td>2025-03-11</td>\n",
       "      <td>107,5% do DI</td>\n",
       "      <td>124.6151</td>\n",
       "      <td>121.4285</td>\n",
       "      <td>123.1240</td>\n",
       "      <td>9626.591287</td>\n",
       "      <td>95.991375</td>\n",
       "      <td>863.50</td>\n",
       "      <td>NaN</td>\n",
       "      <td>None</td>\n",
       "      <td>2021-04-20</td>\n",
       "    </tr>\n",
       "    <tr>\n",
       "      <th>3</th>\n",
       "      <td>BSA312</td>\n",
       "      <td>B3 S/A - BRASIL, BOLSA, BALCÃO (*) (**)</td>\n",
       "      <td>2022-05-03</td>\n",
       "      <td>102,8% do DI</td>\n",
       "      <td>129.7504</td>\n",
       "      <td>122.4282</td>\n",
       "      <td>127.9462</td>\n",
       "      <td>9963.089620</td>\n",
       "      <td>98.690110</td>\n",
       "      <td>254.61</td>\n",
       "      <td>NaN</td>\n",
       "      <td>None</td>\n",
       "      <td>2021-04-20</td>\n",
       "    </tr>\n",
       "    <tr>\n",
       "      <th>4</th>\n",
       "      <td>CBRDA6</td>\n",
       "      <td>COMPANHIA BRASILEIRA DE DISTRIBUIÇÃO (*) (**)</td>\n",
       "      <td>2021-09-10</td>\n",
       "      <td>162,71% do DI</td>\n",
       "      <td>132.1536</td>\n",
       "      <td>124</td>\n",
       "      <td>130.1143</td>\n",
       "      <td>1009.549332</td>\n",
       "      <td>100.507274</td>\n",
       "      <td>100.00</td>\n",
       "      <td>NaN</td>\n",
       "      <td>None</td>\n",
       "      <td>2021-04-20</td>\n",
       "    </tr>\n",
       "    <tr>\n",
       "      <th>...</th>\n",
       "      <td>...</td>\n",
       "      <td>...</td>\n",
       "      <td>...</td>\n",
       "      <td>...</td>\n",
       "      <td>...</td>\n",
       "      <td>...</td>\n",
       "      <td>...</td>\n",
       "      <td>...</td>\n",
       "      <td>...</td>\n",
       "      <td>...</td>\n",
       "      <td>...</td>\n",
       "      <td>...</td>\n",
       "      <td>...</td>\n",
       "    </tr>\n",
       "    <tr>\n",
       "      <th>525</th>\n",
       "      <td>VLIO11</td>\n",
       "      <td>VLI OPERACOES PORTUARIAS S/A</td>\n",
       "      <td>2021-08-15</td>\n",
       "      <td>IPCA + 6,0500%</td>\n",
       "      <td>0.9068</td>\n",
       "      <td>0.3652</td>\n",
       "      <td>0.7968</td>\n",
       "      <td>1270.884952</td>\n",
       "      <td>101.666888</td>\n",
       "      <td>82.00</td>\n",
       "      <td>NaN</td>\n",
       "      <td>2022-08-15</td>\n",
       "      <td>2021-04-20</td>\n",
       "    </tr>\n",
       "    <tr>\n",
       "      <th>526</th>\n",
       "      <td>VNTT11</td>\n",
       "      <td>VENTOS DE SÃO TITO HOLDING S/A</td>\n",
       "      <td>2028-06-15</td>\n",
       "      <td>IPCA + 9,2360%</td>\n",
       "      <td>8.0168</td>\n",
       "      <td>6.673</td>\n",
       "      <td>7.4670</td>\n",
       "      <td>1034.560334</td>\n",
       "      <td>106.054166</td>\n",
       "      <td>916.77</td>\n",
       "      <td>NaN</td>\n",
       "      <td>2025-05-15</td>\n",
       "      <td>2021-04-20</td>\n",
       "    </tr>\n",
       "    <tr>\n",
       "      <th>527</th>\n",
       "      <td>VOES16</td>\n",
       "      <td>CONC. DE ROD. DO OESTE DE SP - VIAOESTE S/A (*)</td>\n",
       "      <td>2021-11-15</td>\n",
       "      <td>IPCA + 6,2959%</td>\n",
       "      <td>1.6093</td>\n",
       "      <td>0.7842</td>\n",
       "      <td>1.2885</td>\n",
       "      <td>1257.677653</td>\n",
       "      <td>102.723202</td>\n",
       "      <td>140.36</td>\n",
       "      <td>NaN</td>\n",
       "      <td>2022-08-15</td>\n",
       "      <td>2021-04-20</td>\n",
       "    </tr>\n",
       "    <tr>\n",
       "      <th>528</th>\n",
       "      <td>VPLT12</td>\n",
       "      <td>VIAPAULISTA S.A.</td>\n",
       "      <td>2027-06-15</td>\n",
       "      <td>IPCA + 3,9407%</td>\n",
       "      <td>4.3572</td>\n",
       "      <td>4.0585</td>\n",
       "      <td>4.1606</td>\n",
       "      <td>1008.504632</td>\n",
       "      <td>99.356190</td>\n",
       "      <td>769.31</td>\n",
       "      <td>NaN</td>\n",
       "      <td>2024-08-15</td>\n",
       "      <td>2021-04-20</td>\n",
       "    </tr>\n",
       "    <tr>\n",
       "      <th>529</th>\n",
       "      <td>VRDN12</td>\n",
       "      <td>VIARONDON CONCESSIONÁRIA DE RODOVIA S/A</td>\n",
       "      <td>2034-12-15</td>\n",
       "      <td>IPCA + 5,5500%</td>\n",
       "      <td>5.9191</td>\n",
       "      <td>5.603</td>\n",
       "      <td>5.6921</td>\n",
       "      <td>1070.533245</td>\n",
       "      <td>99.035982</td>\n",
       "      <td>1812.03</td>\n",
       "      <td>NaN</td>\n",
       "      <td>2030-08-15</td>\n",
       "      <td>2021-04-20</td>\n",
       "    </tr>\n",
       "  </tbody>\n",
       "</table>\n",
       "<p>530 rows × 13 columns</p>\n",
       "</div>"
      ],
      "text/plain": [
       "     symbol                                             name maturity_date  \\\n",
       "0    ALSCA0           ALIANSCE SONAE SHOPPING CENTER S/A (*)    2023-09-15   \n",
       "1    AMPLA0                 AMPLA ENERGIA E SERVIÇOS S/A (*)    2024-03-15   \n",
       "2    BRML17                   BR MALLS PARTICIPAÇÕES S/A (*)    2025-03-11   \n",
       "3    BSA312          B3 S/A - BRASIL, BOLSA, BALCÃO (*) (**)    2022-05-03   \n",
       "4    CBRDA6    COMPANHIA BRASILEIRA DE DISTRIBUIÇÃO (*) (**)    2021-09-10   \n",
       "..      ...                                              ...           ...   \n",
       "525  VLIO11                     VLI OPERACOES PORTUARIAS S/A    2021-08-15   \n",
       "526  VNTT11                   VENTOS DE SÃO TITO HOLDING S/A    2028-06-15   \n",
       "527  VOES16  CONC. DE ROD. DO OESTE DE SP - VIAOESTE S/A (*)    2021-11-15   \n",
       "528  VPLT12                                 VIAPAULISTA S.A.    2027-06-15   \n",
       "529  VRDN12          VIARONDON CONCESSIONÁRIA DE RODOVIA S/A    2034-12-15   \n",
       "\n",
       "         underlying bid_yield ask_yield  ref_yield        price  \\\n",
       "0        110% do DI  125.7619   122.785   123.8620          NaN   \n",
       "1        108% do DI  127.2385  120.4444   124.1191   978.146777   \n",
       "2      107,5% do DI  124.6151  121.4285   123.1240  9626.591287   \n",
       "3      102,8% do DI  129.7504  122.4282   127.9462  9963.089620   \n",
       "4     162,71% do DI  132.1536       124   130.1143  1009.549332   \n",
       "..              ...       ...       ...        ...          ...   \n",
       "525  IPCA + 6,0500%    0.9068    0.3652     0.7968  1270.884952   \n",
       "526  IPCA + 9,2360%    8.0168     6.673     7.4670  1034.560334   \n",
       "527  IPCA + 6,2959%    1.6093    0.7842     1.2885  1257.677653   \n",
       "528  IPCA + 3,9407%    4.3572    4.0585     4.1606  1008.504632   \n",
       "529  IPCA + 5,5500%    5.9191     5.603     5.6921  1070.533245   \n",
       "\n",
       "     perc_price_par  duration  perc_reune    ref_ntnb     refdate  \n",
       "0               NaN       NaN         NaN        None  2021-04-20  \n",
       "1         97.550163    564.82         NaN        None  2021-04-20  \n",
       "2         95.991375    863.50         NaN        None  2021-04-20  \n",
       "3         98.690110    254.61         NaN        None  2021-04-20  \n",
       "4        100.507274    100.00         NaN        None  2021-04-20  \n",
       "..              ...       ...         ...         ...         ...  \n",
       "525      101.666888     82.00         NaN  2022-08-15  2021-04-20  \n",
       "526      106.054166    916.77         NaN  2025-05-15  2021-04-20  \n",
       "527      102.723202    140.36         NaN  2022-08-15  2021-04-20  \n",
       "528       99.356190    769.31         NaN  2024-08-15  2021-04-20  \n",
       "529       99.035982   1812.03         NaN  2030-08-15  2021-04-20  \n",
       "\n",
       "[530 rows x 13 columns]"
      ]
     },
     "execution_count": 3,
     "metadata": {},
     "output_type": "execute_result"
    }
   ],
   "source": [
    "df"
   ]
  },
  {
   "cell_type": "code",
   "execution_count": null,
   "metadata": {},
   "outputs": [],
   "source": []
  }
 ],
 "metadata": {
  "interpreter": {
   "hash": "79ff66205002c2c140099cf996cb67cfce81b9e7561ac2cf9a442b5a8050b065"
  },
  "kernelspec": {
   "display_name": "Python 3.7.6 64-bit (system)",
   "language": "python",
   "name": "python3"
  },
  "language_info": {
   "codemirror_mode": {
    "name": "ipython",
    "version": 3
   },
   "file_extension": ".py",
   "mimetype": "text/x-python",
   "name": "python",
   "nbconvert_exporter": "python",
   "pygments_lexer": "ipython3",
   "version": "3.10.9"
  },
  "orig_nbformat": 4
 },
 "nbformat": 4,
 "nbformat_minor": 2
}
