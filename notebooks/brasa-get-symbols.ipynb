{
 "cells": [
  {
   "cell_type": "code",
   "execution_count": 1,
   "metadata": {},
   "outputs": [],
   "source": [
    "import os\n",
    "os.environ[\"BRASA_DATA_PATH\"] = \"D:\\\\brasa\"\n",
    "\n",
    "import sys\n",
    "sys.path.append(\"..\")\n",
    "\n",
    "from datetime import datetime\n",
    "\n",
    "import numpy as np\n",
    "import pandas as pd\n",
    "\n",
    "import pyarrow\n",
    "import pyarrow.compute as pc\n",
    "\n",
    "import brasa"
   ]
  },
  {
   "cell_type": "code",
   "execution_count": 2,
   "metadata": {},
   "outputs": [
    {
     "data": {
      "text/plain": [
       "['AGRI11',\n",
       " 'BBOV11',\n",
       " 'DVER11',\n",
       " 'BBOI11',\n",
       " 'CORN11',\n",
       " 'BBSD11',\n",
       " 'BMMT11',\n",
       " 'BREW11',\n",
       " 'BDEF11',\n",
       " 'IBOB11']"
      ]
     },
     "execution_count": 2,
     "metadata": {},
     "output_type": "execute_result"
    }
   ],
   "source": [
    "brasa.get_symbols(\"ETF\")[:10]"
   ]
  },
  {
   "cell_type": "code",
   "execution_count": 3,
   "metadata": {},
   "outputs": [
    {
     "data": {
      "text/plain": [
       "['BDAP11',\n",
       " 'FIXA11',\n",
       " 'DEBB11',\n",
       " 'IMBB11',\n",
       " 'B5MB11',\n",
       " 'NTNS11',\n",
       " 'LFTS11',\n",
       " 'IMAB11',\n",
       " 'B5P211',\n",
       " 'IB5M11']"
      ]
     },
     "execution_count": 3,
     "metadata": {},
     "output_type": "execute_result"
    }
   ],
   "source": [
    "brasa.get_symbols(\"fixed-income-ETF\")[:10]"
   ]
  },
  {
   "cell_type": "code",
   "execution_count": 4,
   "metadata": {},
   "outputs": [
    {
     "data": {
      "text/plain": [
       "['ARXD11',\n",
       " 'CCME11',\n",
       " 'ITIT11',\n",
       " 'JASC11',\n",
       " 'LSOI11',\n",
       " 'AFHI11',\n",
       " 'AJFI11',\n",
       " 'ALZM11',\n",
       " 'MTOF11',\n",
       " 'ALZR11']"
      ]
     },
     "execution_count": 4,
     "metadata": {},
     "output_type": "execute_result"
    }
   ],
   "source": [
    "brasa.get_symbols(\"FII\")[:10]"
   ]
  },
  {
   "cell_type": "code",
   "execution_count": 5,
   "metadata": {},
   "outputs": [
    {
     "data": {
      "text/plain": [
       "['BDRX',\n",
       " 'GPTW',\n",
       " 'IBOV',\n",
       " 'IBRA',\n",
       " 'IBXL',\n",
       " 'IBXX',\n",
       " 'IGCT',\n",
       " 'IGCX',\n",
       " 'IGNM',\n",
       " 'ITAG']"
      ]
     },
     "execution_count": 5,
     "metadata": {},
     "output_type": "execute_result"
    }
   ],
   "source": [
    "brasa.get_symbols(\"index\")[:10]"
   ]
  },
  {
   "cell_type": "code",
   "execution_count": 6,
   "metadata": {},
   "outputs": [
    {
     "data": {
      "text/plain": [
       "['BRASIL',\n",
       " 'ALPARGATAS',\n",
       " 'SONDOTECNICA',\n",
       " 'WLM IND COM',\n",
       " 'BANESE',\n",
       " 'TEKA',\n",
       " 'TEKNO',\n",
       " 'TELEBRAS',\n",
       " 'OI',\n",
       " 'CRISTAL']"
      ]
     },
     "execution_count": 6,
     "metadata": {},
     "output_type": "execute_result"
    }
   ],
   "source": [
    "brasa.get_symbols(\"company-trading-name\")[:10]"
   ]
  },
  {
   "cell_type": "code",
   "execution_count": 7,
   "metadata": {},
   "outputs": [
    {
     "data": {
      "text/plain": [
       "['24058',\n",
       " '20958',\n",
       " '23264',\n",
       " '25283',\n",
       " '25640',\n",
       " '26174',\n",
       " '22179',\n",
       " '909705',\n",
       " '183',\n",
       " '20036']"
      ]
     },
     "execution_count": 7,
     "metadata": {},
     "output_type": "execute_result"
    }
   ],
   "source": [
    "brasa.get_symbols(\"company-cvm-code\")[:10]"
   ]
  },
  {
   "cell_type": "code",
   "execution_count": 8,
   "metadata": {},
   "outputs": [
    {
     "data": {
      "text/plain": [
       "['AGBK',\n",
       " 'IRBR',\n",
       " 'BRIV',\n",
       " 'TECN',\n",
       " 'NEXP',\n",
       " 'E3XT',\n",
       " 'ICBR',\n",
       " 'BVEN',\n",
       " 'AMZG',\n",
       " 'CLSA']"
      ]
     },
     "execution_count": 8,
     "metadata": {},
     "output_type": "execute_result"
    }
   ],
   "source": [
    "brasa.get_symbols(\"company\")[:10]"
   ]
  },
  {
   "cell_type": "code",
   "execution_count": 9,
   "metadata": {},
   "outputs": [
    {
     "data": {
      "text/plain": [
       "['RRRP3',\n",
       " 'ALOS3',\n",
       " 'ALPA4',\n",
       " 'ABEV3',\n",
       " 'ARZZ3',\n",
       " 'ASAI3',\n",
       " 'AZUL4',\n",
       " 'B3SA3',\n",
       " 'BBSE3',\n",
       " 'BBDC3']"
      ]
     },
     "execution_count": 9,
     "metadata": {},
     "output_type": "execute_result"
    }
   ],
   "source": [
    "brasa.get_symbols(\"equity\", index=\"IBOV\")[:10]"
   ]
  },
  {
   "cell_type": "code",
   "execution_count": 10,
   "metadata": {},
   "outputs": [
    {
     "data": {
      "text/plain": [
       "['AALR3',\n",
       " 'ABCB4',\n",
       " 'ABEV3',\n",
       " 'AERI3',\n",
       " 'AESB3',\n",
       " 'AESO3',\n",
       " 'AFLT3',\n",
       " 'AGRO3',\n",
       " 'AGXY3',\n",
       " 'AHEB3']"
      ]
     },
     "execution_count": 10,
     "metadata": {},
     "output_type": "execute_result"
    }
   ],
   "source": [
    "brasa.get_symbols(\"equity\")[:10]"
   ]
  },
  {
   "cell_type": "code",
   "execution_count": 18,
   "metadata": {},
   "outputs": [
    {
     "data": {
      "text/plain": [
       "['AHEB3',\n",
       " 'AHEB5',\n",
       " 'AHEB6',\n",
       " 'ALLD3',\n",
       " 'ALPA3',\n",
       " 'ALPA4',\n",
       " 'AMAR3',\n",
       " 'AMER3',\n",
       " 'ANIM3',\n",
       " 'ARZZ3']"
      ]
     },
     "execution_count": 18,
     "metadata": {},
     "output_type": "execute_result"
    }
   ],
   "source": [
    "brasa.get_symbols(\"equity\", sector=\"Consumo Cíclico\")[:10]"
   ]
  },
  {
   "cell_type": "code",
   "execution_count": 13,
   "metadata": {},
   "outputs": [
    {
     "data": {
      "text/plain": [
       "['Saúde',\n",
       " 'Financeiro',\n",
       " 'Consumo não Cíclico',\n",
       " 'Bens Industriais',\n",
       " 'Utilidade Pública',\n",
       " 'Não Classificados',\n",
       " 'Consumo Cíclico',\n",
       " 'Outros',\n",
       " 'Tecnologia da Informação',\n",
       " 'Materiais Básicos']"
      ]
     },
     "execution_count": 13,
     "metadata": {},
     "output_type": "execute_result"
    }
   ],
   "source": [
    "brasa.get_symbols(\"sector\")[:10]"
   ]
  },
  {
   "cell_type": "code",
   "execution_count": null,
   "metadata": {},
   "outputs": [],
   "source": []
  }
 ],
 "metadata": {
  "kernelspec": {
   "display_name": "w310",
   "language": "python",
   "name": "python3"
  },
  "language_info": {
   "codemirror_mode": {
    "name": "ipython",
    "version": 3
   },
   "file_extension": ".py",
   "mimetype": "text/x-python",
   "name": "python",
   "nbconvert_exporter": "python",
   "pygments_lexer": "ipython3",
   "version": "3.10.12"
  }
 },
 "nbformat": 4,
 "nbformat_minor": 2
}
