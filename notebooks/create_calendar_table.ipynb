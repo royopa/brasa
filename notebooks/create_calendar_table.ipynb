{
 "cells": [
  {
   "cell_type": "code",
   "execution_count": 11,
   "metadata": {},
   "outputs": [],
   "source": [
    "from datetime import datetime, timedelta\n",
    "import pandas as pd\n",
    "from bizdays import Calendar, set_option\n",
    "\n",
    "set_option(\"mode\", \"pandas\")\n",
    "\n",
    "dates = []\n",
    "date = datetime(2001, 1, 1)\n",
    "while date <= datetime(2023, 12, 29):\n",
    "    dates.append(date)\n",
    "    date += timedelta(days=1)\n",
    "\n",
    "df_dates = pd.DataFrame({\"refdate\": dates})\n",
    "\n",
    "cal = Calendar.load(\"ANBIMA\")\n",
    "df_dates[\"isbizday_ANBIMA\"] = cal.isbizday(df_dates[\"refdate\"])\n",
    "\n",
    "cal = Calendar.load(\"B3\")\n",
    "df_dates[\"isbizday_B3\"] = cal.isbizday(df_dates[\"refdate\"])\n"
   ]
  },
  {
   "cell_type": "code",
   "execution_count": 12,
   "metadata": {},
   "outputs": [],
   "source": [
    "df_dates.to_csv(\"D:\\\\brasa\\\\db\\\\calendar\\\\calendar.csv\", index=False)"
   ]
  },
  {
   "cell_type": "code",
   "execution_count": null,
   "metadata": {},
   "outputs": [],
   "source": []
  }
 ],
 "metadata": {
  "kernelspec": {
   "display_name": "w310",
   "language": "python",
   "name": "python3"
  },
  "language_info": {
   "codemirror_mode": {
    "name": "ipython",
    "version": 3
   },
   "file_extension": ".py",
   "mimetype": "text/x-python",
   "name": "python",
   "nbconvert_exporter": "python",
   "pygments_lexer": "ipython3",
   "version": "3.10.9"
  },
  "orig_nbformat": 4
 },
 "nbformat": 4,
 "nbformat_minor": 2
}
