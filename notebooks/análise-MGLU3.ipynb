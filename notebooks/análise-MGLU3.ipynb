{
 "cells": [
  {
   "cell_type": "code",
   "execution_count": 1,
   "metadata": {},
   "outputs": [],
   "source": [
    "import os\n",
    "\n",
    "os.environ[\"BRASA_DATA_PATH\"] = \"D:\\\\brasa\"\n",
    "import sys\n",
    "sys.path.append('..')\n",
    "\n",
    "from datetime import datetime\n",
    "\n",
    "import pandas as pd\n",
    "import pyarrow.dataset as ds\n",
    "import pyarrow.compute as pc\n",
    "import pyarrow\n",
    "\n",
    "import brasa\n",
    "\n",
    "man = brasa.engine.CacheManager()"
   ]
  },
  {
   "cell_type": "code",
   "execution_count": 2,
   "metadata": {},
   "outputs": [
    {
     "name": "stdout",
     "output_type": "stream",
     "text": [
      "regtype: unicode\n",
      "refdate: datetime\n",
      "bdi_code: int64\n",
      "symbol: unicode\n",
      "instrument_market: int64\n",
      "corporation_name: unicode\n",
      "specification_code: unicode\n",
      "days_to_settlement: float64\n",
      "trading_currency: unicode\n",
      "open: float64\n",
      "high: float64\n",
      "low: float64\n",
      "average: float64\n",
      "close: float64\n",
      "best_bid: float64\n",
      "best_ask: float64\n",
      "trade_quantity: int64\n",
      "traded_contracts: int64\n",
      "volume: float64\n",
      "strike_price: float64\n",
      "strike_price_adjustment_indicator: unicode\n",
      "maturity_date: datetime\n",
      "allocation_lot_size: float64\n",
      "strike_price_in_points: float64\n",
      "isin: unicode\n",
      "distribution_id: int64\n"
     ]
    }
   ],
   "source": [
    "brasa.describe(\"b3-cotahist\")"
   ]
  },
  {
   "cell_type": "code",
   "execution_count": 7,
   "metadata": {},
   "outputs": [],
   "source": [
    "ch = brasa.get_dataset(\"b3-cotahist\")\\\n",
    "    .filter(pc.field(\"refdate\") >= datetime(2018, 1, 1))\\\n",
    "    .filter(pc.field(\"symbol\") == \"MGLU3\")\\\n",
    "    .scanner(columns=[\"refdate\", \"close\", \"distribution_id\"]).to_table().to_pandas().set_index(\"refdate\")"
   ]
  },
  {
   "cell_type": "code",
   "execution_count": 4,
   "metadata": {},
   "outputs": [],
   "source": [
    "rets = brasa.get_returns(\"MGLU3\")"
   ]
  },
  {
   "cell_type": "code",
   "execution_count": 18,
   "metadata": {},
   "outputs": [],
   "source": [
    "brasa.get_dataset(\"b3-equities-returns\")\\\n",
    "    .filter(pc.field(\"refdate\") >= datetime(2018, 1, 1))\\\n",
    "    .filter(pc.field(\"symbol\") == \"MGLU3\")\\\n",
    "    .scanner(columns=[\"refdate\", \"pct_return\"]).to_table().to_pandas().set_index(\"refdate\").to_clipboard()"
   ]
  },
  {
   "cell_type": "code",
   "execution_count": 9,
   "metadata": {},
   "outputs": [],
   "source": [
    "pd.concat([ch, rets], axis=1).to_excel(\"MGLU3.xlsx\")"
   ]
  },
  {
   "cell_type": "code",
   "execution_count": 14,
   "metadata": {},
   "outputs": [],
   "source": [
    "brasa.get_dataset(\"b3-companies-cash-dividends\")\\\n",
    "    .filter(pc.field(\"symbol\") == \"MGLU3\")\\\n",
    "    .filter(pc.field(\"last_date_prior_ex\") >= datetime(2018, 1, 1))\\\n",
    "    .to_table().to_pandas().to_clipboard()"
   ]
  },
  {
   "cell_type": "code",
   "execution_count": 15,
   "metadata": {},
   "outputs": [],
   "source": [
    "brasa.get_dataset(\"b3-companies-stock-dividends\")\\\n",
    "    .filter(pc.field(\"symbol\") == \"MGLU3\")\\\n",
    "    .filter(pc.field(\"last_date_prior_ex\") >= datetime(2018, 1, 1))\\\n",
    "    .to_table().to_pandas().to_clipboard()"
   ]
  }
 ],
 "metadata": {
  "kernelspec": {
   "display_name": "w310",
   "language": "python",
   "name": "python3"
  },
  "language_info": {
   "codemirror_mode": {
    "name": "ipython",
    "version": 3
   },
   "file_extension": ".py",
   "mimetype": "text/x-python",
   "name": "python",
   "nbconvert_exporter": "python",
   "pygments_lexer": "ipython3",
   "version": "3.10.12"
  }
 },
 "nbformat": 4,
 "nbformat_minor": 2
}
