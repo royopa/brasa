{
 "cells": [
  {
   "cell_type": "code",
   "execution_count": 1,
   "metadata": {},
   "outputs": [],
   "source": [
    "import os\n",
    "os.environ[\"BRASA_DATA_PATH\"] = \"D:\\\\brasa\"\n",
    "\n",
    "import sys\n",
    "sys.path.append('..')\n",
    "\n",
    "from datetime import datetime\n",
    "\n",
    "import numpy as np\n",
    "import pandas as pd\n",
    "\n",
    "import brasa"
   ]
  },
  {
   "cell_type": "code",
   "execution_count": 5,
   "metadata": {},
   "outputs": [
    {
     "data": {
      "text/plain": [
       "[{'stockCapital': '58.177.928.601,85',\n",
       "  'quotedPerSharSince': '01/11/2013',\n",
       "  'commonSharesForm': 'Escritural',\n",
       "  'preferredSharesForm': '',\n",
       "  'hasCommom': 'BRADESCO',\n",
       "  'hasPreferred': '',\n",
       "  'roundLot': '100',\n",
       "  'tradingName': 'AMBEV S/A   ',\n",
       "  'numberCommonShares': '15.753.833.284',\n",
       "  'numberPreferredShares': '0',\n",
       "  'totalNumberShares': '15.753.833.284',\n",
       "  'code': 'ABEV',\n",
       "  'codeCVM': '23264',\n",
       "  'segment': 'BOLSA',\n",
       "  'cashDividends': [{'assetIssued': 'BRABEVACNOR1',\n",
       "    'paymentDate': '28/12/2023',\n",
       "    'rate': '0,73020000000',\n",
       "    'relatedTo': '4º Trimestre/2023',\n",
       "    'approvedOn': '12/12/2023',\n",
       "    'isinCode': 'BRABEVACNOR1',\n",
       "    'label': 'JRS CAP PROPRIO',\n",
       "    'lastDatePrior': '19/12/2023',\n",
       "    'remarks': ''},\n",
       "   {'assetIssued': 'BRABEVACNOR1',\n",
       "    'paymentDate': '30/12/2021',\n",
       "    'rate': '0,13340000000',\n",
       "    'relatedTo': 'Anual/2021',\n",
       "    'approvedOn': '09/12/2021',\n",
       "    'isinCode': 'BRABEVACNOR1',\n",
       "    'label': 'DIVIDENDO',\n",
       "    'lastDatePrior': '17/12/2021',\n",
       "    'remarks': ''}],\n",
       "  'stockDividends': [],\n",
       "  'subscriptions': [{'assetIssued': 'BRABEVACNOR1',\n",
       "    'percentage': '0,13994090200',\n",
       "    'priceUnit': '16,09000000000',\n",
       "    'tradingPeriod': '30/04/2014 a 22/05/2014',\n",
       "    'subscriptionDate': '29/05/2014',\n",
       "    'approvedOn': '28/04/2014',\n",
       "    'isinCode': 'BRABEVACNOR1',\n",
       "    'label': 'SUBSCRICAO',\n",
       "    'lastDatePrior': '28/04/2014',\n",
       "    'remarks': ''}]}]"
      ]
     },
     "execution_count": 5,
     "metadata": {},
     "output_type": "execute_result"
    }
   ],
   "source": [
    "from brasa.downloaders.downloaders import B3URLEncodedDownloader\n",
    "url = \"https://sistemaswebb3-listados.b3.com.br/listedCompaniesProxy/CompanyCall/GetListedSupplementCompany\"\n",
    "kwargs = {\n",
    "    \"issuingCompany\": \"ABEV\",\n",
    "    \"language\": \"pt-br\",\n",
    "}\n",
    "\n",
    "dnd = B3URLEncodedDownloader(url, True, **kwargs)\n",
    "fp = dnd.download()\n",
    "import json\n",
    "\n",
    "fp.seek(0)\n",
    "json.load(fp)"
   ]
  },
  {
   "cell_type": "code",
   "execution_count": 6,
   "metadata": {},
   "outputs": [
    {
     "data": {
      "text/plain": [
       "{'results': [{'segment': '',\n",
       "   'acronym': 'BDAP',\n",
       "   'fundName': 'BB ETF DAP5',\n",
       "   'companyName': 'BB ETF ÍNDICE DAP5 B3 FUNDO DE ÍNDICE',\n",
       "   'cnpj': None},\n",
       "  {'segment': '',\n",
       "   'acronym': 'FIXA',\n",
       "   'fundName': 'BB FIXA11',\n",
       "   'companyName': 'BB ETF RENDA FIXA PRÉ ÍNDICE FUTURO DE TAXAS DE JU',\n",
       "   'cnpj': None},\n",
       "  {'segment': '',\n",
       "   'acronym': 'DEBB',\n",
       "   'fundName': 'BTG DEB DI',\n",
       "   'companyName': 'BTG PACTUAL TEVA DEBÊNTURES DI FUNDO DE ÍNDICE',\n",
       "   'cnpj': None},\n",
       "  {'segment': '',\n",
       "   'acronym': 'IMBB',\n",
       "   'fundName': 'BRAD IMA-B',\n",
       "   'companyName': 'ETF BRADESCO IMA-B FUNDO DE ÍNDICE',\n",
       "   'cnpj': None},\n",
       "  {'segment': '',\n",
       "   'acronym': 'B5MB',\n",
       "   'fundName': 'BRAD IMA-B5M',\n",
       "   'companyName': 'ETF BRADESCO IMA-B5+ FUNDO DE ÍNDICE',\n",
       "   'cnpj': None},\n",
       "  {'segment': '',\n",
       "   'acronym': 'NTNS',\n",
       "   'fundName': 'INVESTO NTNS',\n",
       "   'companyName': 'INVESTO TEVA TESOURO IPCA+ 0 A 4 ANOS ETF FDO IND',\n",
       "   'cnpj': None},\n",
       "  {'segment': '',\n",
       "   'acronym': 'LFTS',\n",
       "   'fundName': 'INVESTO LFTS',\n",
       "   'companyName': 'INVESTO TEVA TESOURO SELIC ETF – FDO INV INDICE',\n",
       "   'cnpj': None},\n",
       "  {'segment': '',\n",
       "   'acronym': 'IMAB',\n",
       "   'fundName': 'IT NOW IMA-B',\n",
       "   'companyName': 'IT NOW ID ETF IMA-B',\n",
       "   'cnpj': None},\n",
       "  {'segment': '',\n",
       "   'acronym': 'B5P2',\n",
       "   'fundName': 'IT NOW B5P2',\n",
       "   'companyName': 'IT NOW IMA-B5 P2 FUNDO DE ÍNDICE',\n",
       "   'cnpj': None},\n",
       "  {'segment': '',\n",
       "   'acronym': 'IB5M',\n",
       "   'fundName': 'IT NOW IB5M',\n",
       "   'companyName': 'IT NOW IMA-B5+ FUNDO DE ÍNDICE',\n",
       "   'cnpj': None},\n",
       "  {'segment': '',\n",
       "   'acronym': 'IRFM',\n",
       "   'fundName': 'IT NOW IRF-M',\n",
       "   'companyName': 'IT NOW IRF-M P2 FUNDO DE ÍNDICE',\n",
       "   'cnpj': None}]}"
      ]
     },
     "execution_count": 6,
     "metadata": {},
     "output_type": "execute_result"
    }
   ],
   "source": [
    "from brasa.downloaders.downloaders import B3PagedURLEncodedDownloader\n",
    "url = \"https://sistemaswebb3-listados.b3.com.br/fundsProxy/fundsCall/GetListedFundsSIG\"\n",
    "kwargs = {\n",
    "    \"typeFund\": 19,\n",
    "    \"pageNumber\": 1,\n",
    "    \"pageSize\": 100,\n",
    "}\n",
    "\n",
    "dnd = B3PagedURLEncodedDownloader(url, True, **kwargs)\n",
    "fp = dnd.download()\n",
    "# print(fp.readlines())\n",
    "import json\n",
    "\n",
    "fp.seek(0)\n",
    "json.load(fp)"
   ]
  }
 ],
 "metadata": {
  "kernelspec": {
   "display_name": "w310",
   "language": "python",
   "name": "python3"
  },
  "language_info": {
   "codemirror_mode": {
    "name": "ipython",
    "version": 3
   },
   "file_extension": ".py",
   "mimetype": "text/x-python",
   "name": "python",
   "nbconvert_exporter": "python",
   "pygments_lexer": "ipython3",
   "version": "3.10.12"
  }
 },
 "nbformat": 4,
 "nbformat_minor": 2
}
