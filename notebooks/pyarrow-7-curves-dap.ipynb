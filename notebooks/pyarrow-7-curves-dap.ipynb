{
 "cells": [
  {
   "cell_type": "code",
   "execution_count": 1,
   "metadata": {},
   "outputs": [],
   "source": [
    "import os\n",
    "\n",
    "os.environ[\"BRASA_DATA_PATH\"] = \"D:\\\\brasa\""
   ]
  },
  {
   "cell_type": "code",
   "execution_count": 2,
   "metadata": {},
   "outputs": [],
   "source": [
    "import sys\n",
    "sys.path.append('..')\n",
    "\n",
    "from datetime import datetime\n",
    "\n",
    "import pandas as pd\n",
    "import pyarrow.dataset as ds\n",
    "import pyarrow.compute as pc\n",
    "import pyarrow\n",
    "from bizdays import Calendar, set_option\n",
    "\n",
    "import brasa\n",
    "\n",
    "man = brasa.CacheManager()"
   ]
  },
  {
   "cell_type": "code",
   "execution_count": 12,
   "metadata": {},
   "outputs": [],
   "source": [
    "import numpy as np\n",
    "def interp_ff(term, rates, terms):\n",
    "    log_pu = np.log((1 + rates)**(terms/252))\n",
    "    pu = np.exp(np.interp(term, terms, log_pu))\n",
    "    return pu ** (252 / term) - 1"
   ]
  },
  {
   "cell_type": "code",
   "execution_count": 28,
   "metadata": {},
   "outputs": [
    {
     "data": {
      "text/html": [
       "<div>\n",
       "<style scoped>\n",
       "    .dataframe tbody tr th:only-of-type {\n",
       "        vertical-align: middle;\n",
       "    }\n",
       "\n",
       "    .dataframe tbody tr th {\n",
       "        vertical-align: top;\n",
       "    }\n",
       "\n",
       "    .dataframe thead th {\n",
       "        text-align: right;\n",
       "    }\n",
       "</style>\n",
       "<table border=\"1\" class=\"dataframe\">\n",
       "  <thead>\n",
       "    <tr style=\"text-align: right;\">\n",
       "      <th></th>\n",
       "      <th>refdate</th>\n",
       "      <th>symbol</th>\n",
       "      <th>maturity_date</th>\n",
       "      <th>business_days</th>\n",
       "      <th>adjusted_tax</th>\n",
       "    </tr>\n",
       "  </thead>\n",
       "  <tbody>\n",
       "    <tr>\n",
       "      <th>0</th>\n",
       "      <td>2010-01-04</td>\n",
       "      <td>DAPQ10</td>\n",
       "      <td>2010-08-15</td>\n",
       "      <td>155</td>\n",
       "      <td>0.04259</td>\n",
       "    </tr>\n",
       "    <tr>\n",
       "      <th>1</th>\n",
       "      <td>2010-01-04</td>\n",
       "      <td>DAPQ12</td>\n",
       "      <td>2012-08-15</td>\n",
       "      <td>659</td>\n",
       "      <td>0.06466</td>\n",
       "    </tr>\n",
       "    <tr>\n",
       "      <th>2</th>\n",
       "      <td>2010-01-04</td>\n",
       "      <td>DAPK15</td>\n",
       "      <td>2015-05-15</td>\n",
       "      <td>1349</td>\n",
       "      <td>0.06675</td>\n",
       "    </tr>\n",
       "    <tr>\n",
       "      <th>3</th>\n",
       "      <td>2010-01-05</td>\n",
       "      <td>DAPQ10</td>\n",
       "      <td>2010-08-15</td>\n",
       "      <td>154</td>\n",
       "      <td>0.04240</td>\n",
       "    </tr>\n",
       "    <tr>\n",
       "      <th>4</th>\n",
       "      <td>2010-01-05</td>\n",
       "      <td>DAPQ12</td>\n",
       "      <td>2012-08-15</td>\n",
       "      <td>658</td>\n",
       "      <td>0.06470</td>\n",
       "    </tr>\n",
       "    <tr>\n",
       "      <th>...</th>\n",
       "      <td>...</td>\n",
       "      <td>...</td>\n",
       "      <td>...</td>\n",
       "      <td>...</td>\n",
       "      <td>...</td>\n",
       "    </tr>\n",
       "    <tr>\n",
       "      <th>35068</th>\n",
       "      <td>2023-11-17</td>\n",
       "      <td>DAPQ40</td>\n",
       "      <td>2040-08-15</td>\n",
       "      <td>4208</td>\n",
       "      <td>0.05533</td>\n",
       "    </tr>\n",
       "    <tr>\n",
       "      <th>35069</th>\n",
       "      <td>2023-11-17</td>\n",
       "      <td>DAPK45</td>\n",
       "      <td>2045-05-15</td>\n",
       "      <td>5399</td>\n",
       "      <td>0.05424</td>\n",
       "    </tr>\n",
       "    <tr>\n",
       "      <th>35070</th>\n",
       "      <td>2023-11-17</td>\n",
       "      <td>DAPQ50</td>\n",
       "      <td>2050-08-15</td>\n",
       "      <td>6718</td>\n",
       "      <td>0.05643</td>\n",
       "    </tr>\n",
       "    <tr>\n",
       "      <th>35071</th>\n",
       "      <td>2023-11-17</td>\n",
       "      <td>DAPK55</td>\n",
       "      <td>2055-05-15</td>\n",
       "      <td>7911</td>\n",
       "      <td>0.05624</td>\n",
       "    </tr>\n",
       "    <tr>\n",
       "      <th>35072</th>\n",
       "      <td>2023-11-17</td>\n",
       "      <td>DAPQ60</td>\n",
       "      <td>2060-08-15</td>\n",
       "      <td>9232</td>\n",
       "      <td>0.05416</td>\n",
       "    </tr>\n",
       "  </tbody>\n",
       "</table>\n",
       "<p>35073 rows × 5 columns</p>\n",
       "</div>"
      ],
      "text/plain": [
       "         refdate  symbol maturity_date  business_days  adjusted_tax\n",
       "0     2010-01-04  DAPQ10    2010-08-15            155       0.04259\n",
       "1     2010-01-04  DAPQ12    2012-08-15            659       0.06466\n",
       "2     2010-01-04  DAPK15    2015-05-15           1349       0.06675\n",
       "3     2010-01-05  DAPQ10    2010-08-15            154       0.04240\n",
       "4     2010-01-05  DAPQ12    2012-08-15            658       0.06470\n",
       "...          ...     ...           ...            ...           ...\n",
       "35068 2023-11-17  DAPQ40    2040-08-15           4208       0.05533\n",
       "35069 2023-11-17  DAPK45    2045-05-15           5399       0.05424\n",
       "35070 2023-11-17  DAPQ50    2050-08-15           6718       0.05643\n",
       "35071 2023-11-17  DAPK55    2055-05-15           7911       0.05624\n",
       "35072 2023-11-17  DAPQ60    2060-08-15           9232       0.05416\n",
       "\n",
       "[35073 rows x 5 columns]"
      ]
     },
     "execution_count": 28,
     "metadata": {},
     "output_type": "execute_result"
    }
   ],
   "source": [
    "ds = brasa.get_dataset(\"b3-curves-dap\")\n",
    "df = ds.to_table().to_pandas()\n",
    "df"
   ]
  },
  {
   "cell_type": "code",
   "execution_count": 29,
   "metadata": {},
   "outputs": [],
   "source": [
    "curve = ds.filter(pc.field(\"refdate\") == datetime(2010, 1, 4)).to_table().to_pandas()"
   ]
  },
  {
   "cell_type": "code",
   "execution_count": 30,
   "metadata": {},
   "outputs": [
    {
     "data": {
      "text/html": [
       "<div>\n",
       "<style scoped>\n",
       "    .dataframe tbody tr th:only-of-type {\n",
       "        vertical-align: middle;\n",
       "    }\n",
       "\n",
       "    .dataframe tbody tr th {\n",
       "        vertical-align: top;\n",
       "    }\n",
       "\n",
       "    .dataframe thead th {\n",
       "        text-align: right;\n",
       "    }\n",
       "</style>\n",
       "<table border=\"1\" class=\"dataframe\">\n",
       "  <thead>\n",
       "    <tr style=\"text-align: right;\">\n",
       "      <th></th>\n",
       "      <th>refdate</th>\n",
       "      <th>symbol</th>\n",
       "      <th>maturity_date</th>\n",
       "      <th>business_days</th>\n",
       "      <th>adjusted_tax</th>\n",
       "    </tr>\n",
       "  </thead>\n",
       "  <tbody>\n",
       "    <tr>\n",
       "      <th>0</th>\n",
       "      <td>2010-01-04</td>\n",
       "      <td>DAPQ10</td>\n",
       "      <td>2010-08-15</td>\n",
       "      <td>155</td>\n",
       "      <td>0.04259</td>\n",
       "    </tr>\n",
       "    <tr>\n",
       "      <th>1</th>\n",
       "      <td>2010-01-04</td>\n",
       "      <td>DAPQ12</td>\n",
       "      <td>2012-08-15</td>\n",
       "      <td>659</td>\n",
       "      <td>0.06466</td>\n",
       "    </tr>\n",
       "    <tr>\n",
       "      <th>2</th>\n",
       "      <td>2010-01-04</td>\n",
       "      <td>DAPK15</td>\n",
       "      <td>2015-05-15</td>\n",
       "      <td>1349</td>\n",
       "      <td>0.06675</td>\n",
       "    </tr>\n",
       "  </tbody>\n",
       "</table>\n",
       "</div>"
      ],
      "text/plain": [
       "     refdate  symbol maturity_date  business_days  adjusted_tax\n",
       "0 2010-01-04  DAPQ10    2010-08-15            155       0.04259\n",
       "1 2010-01-04  DAPQ12    2012-08-15            659       0.06466\n",
       "2 2010-01-04  DAPK15    2015-05-15           1349       0.06675"
      ]
     },
     "execution_count": 30,
     "metadata": {},
     "output_type": "execute_result"
    }
   ],
   "source": [
    "curve"
   ]
  },
  {
   "cell_type": "code",
   "execution_count": 31,
   "metadata": {},
   "outputs": [
    {
     "data": {
      "text/plain": [
       "array([0.36049029, 0.05264656, 0.05364005])"
      ]
     },
     "execution_count": 31,
     "metadata": {},
     "output_type": "execute_result"
    }
   ],
   "source": [
    "interp_ff(np.array([21, 126, 252]), curve[\"adjusted_tax\"], curve[\"business_days\"])"
   ]
  }
 ],
 "metadata": {
  "kernelspec": {
   "display_name": "brasa-iv4UAxlw-py3.10",
   "language": "python",
   "name": "python3"
  },
  "language_info": {
   "codemirror_mode": {
    "name": "ipython",
    "version": 3
   },
   "file_extension": ".py",
   "mimetype": "text/x-python",
   "name": "python",
   "nbconvert_exporter": "python",
   "pygments_lexer": "ipython3",
   "version": "3.10.12"
  },
  "orig_nbformat": 4
 },
 "nbformat": 4,
 "nbformat_minor": 2
}
