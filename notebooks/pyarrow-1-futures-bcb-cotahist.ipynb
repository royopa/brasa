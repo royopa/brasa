{
 "cells": [
  {
   "cell_type": "code",
   "execution_count": 1,
   "metadata": {},
   "outputs": [],
   "source": [
    "import os\n",
    "os.environ[\"BRASA_DATA_PATH\"] = \"D:\\\\brasa\"\n",
    "\n",
    "import sys\n",
    "sys.path.append('..')\n",
    "\n",
    "from datetime import datetime\n",
    "\n",
    "from bcb import sgs\n",
    "from bcb import PTAX\n",
    "import pandas as pd\n",
    "import pyarrow.dataset as ds\n",
    "import pyarrow.compute as pc\n",
    "import pyarrow\n",
    "from bizdays import Calendar\n",
    "\n",
    "from brasa.parsers.b3.futures_settlement_prices import maturity2date\n",
    "import brasa"
   ]
  },
  {
   "cell_type": "code",
   "execution_count": 2,
   "metadata": {},
   "outputs": [],
   "source": [
    "man = brasa.CacheManager()\n",
    "db_folder_path = man.cache_path(man.db_folder())"
   ]
  },
  {
   "cell_type": "code",
   "execution_count": 3,
   "metadata": {},
   "outputs": [],
   "source": [
    "df = brasa.get_dataset(\"b3-futures-settlement-prices\")"
   ]
  },
  {
   "cell_type": "code",
   "execution_count": 4,
   "metadata": {},
   "outputs": [],
   "source": [
    "cal = Calendar.load(\"ANBIMA\")\n",
    "df_contracts = df.to_table().filter(pc.field(\"commodity\") == 'DI1').to_pandas()\n",
    "df_contracts['maturity_date'] = df_contracts['maturity_code'].apply(lambda x: maturity2date(x, cal))\n",
    "df_contracts[\"business_days\"] = cal.bizdays(df_contracts['refdate'], cal.following(df_contracts[\"maturity_date\"]))\n",
    "df_contracts[\"adjusted_tax\"] = (100000 / df_contracts[\"settlement_price\"]) ** (252 / df_contracts[\"business_days\"]) - 1\n",
    "df_contracts.sort_values([\"refdate\", \"maturity_date\"], inplace=True)\n",
    "df_contracts = df_contracts[[\"refdate\", \"symbol\", \"maturity_date\", \"settlement_price\", \"adjusted_tax\", \"business_days\"]]#.query(\"business_days > 0\")\n",
    "\n",
    "tb_contracts = pyarrow.Table.from_pandas(df_contracts)\n",
    "ds.write_dataset(tb_contracts, man.db_path(\"b3-futures-di1\"), format=\"parquet\", existing_data_behavior=\"overwrite_or_ignore\")"
   ]
  },
  {
   "cell_type": "code",
   "execution_count": 5,
   "metadata": {},
   "outputs": [],
   "source": [
    "cal = Calendar.load(\"ANBIMA\")\n",
    "df_contracts = df.filter(pc.field(\"commodity\") == 'DOL').to_table().to_pandas()\n",
    "df_contracts['maturity_date'] = df_contracts['maturity_code'].apply(lambda x: maturity2date(x, cal))\n",
    "df_contracts[\"business_days\"] = cal.bizdays(df_contracts['refdate'], cal.following(df_contracts[\"maturity_date\"]))\n",
    "df_contracts.sort_values([\"refdate\", \"maturity_date\"], inplace=True)\n",
    "df_contracts = df_contracts[[\"refdate\", \"symbol\", \"maturity_date\", \"settlement_price\", \"business_days\"]]\n",
    "\n",
    "tb_contracts = pyarrow.Table.from_pandas(df_contracts)\n",
    "ds.write_dataset(tb_contracts, man.db_path(\"b3-futures-dol\"), format=\"parquet\", existing_data_behavior=\"overwrite_or_ignore\")"
   ]
  },
  {
   "cell_type": "code",
   "execution_count": 6,
   "metadata": {},
   "outputs": [],
   "source": [
    "first = df_contracts.groupby(\"refdate\").nth(0)\n",
    "second = df_contracts.groupby(\"refdate\").nth(1)\n",
    "merged = first.merge(second, on=\"refdate\", how=\"left\")\n",
    "first_contracts = first.copy().reset_index(drop=True)\n",
    "second_contracts = second.copy().reset_index(drop=True)\n",
    "first_contracts.loc[merged[\"business_days_x\"] <= 1, :] = second_contracts.loc[merged[\"business_days_x\"] <= 1, :]\n",
    "first_contracts[\"ref\"] = first_contracts[\"symbol\"]\n",
    "first_contracts[\"symbol\"] = \"DOLT01\"\n",
    "tb_dol_first_contracts = pyarrow.Table.from_pandas(first_contracts)\n",
    "ds.write_dataset(tb_dol_first_contracts, man.db_path(\"b3-futures-dol-first-generic\"), format=\"parquet\", existing_data_behavior=\"overwrite_or_ignore\")"
   ]
  },
  {
   "cell_type": "code",
   "execution_count": 7,
   "metadata": {},
   "outputs": [],
   "source": [
    "cal = Calendar.load(\"ANBIMA\")\n",
    "df_contracts = df.filter(pc.field(\"commodity\") == 'DDI').to_table().to_pandas()\n",
    "df_contracts['maturity_date'] = df_contracts['maturity_code'].apply(lambda x: maturity2date(x, cal))\n",
    "df_contracts[\"business_days\"] = cal.bizdays(df_contracts['refdate'], cal.following(df_contracts[\"maturity_date\"]))\n",
    "df_contracts.sort_values([\"refdate\", \"maturity_date\"], inplace=True)\n",
    "df_contracts = df_contracts[[\"refdate\", \"symbol\", \"maturity_date\", \"settlement_price\", \"business_days\"]]\n",
    "\n",
    "tb_contracts = pyarrow.Table.from_pandas(df_contracts)\n",
    "ds.write_dataset(tb_contracts, man.db_path(\"b3-futures-ddi\"), format=\"parquet\", existing_data_behavior=\"overwrite_or_ignore\")"
   ]
  },
  {
   "cell_type": "code",
   "execution_count": 8,
   "metadata": {},
   "outputs": [],
   "source": [
    "cal = Calendar.load(\"ANBIMA\")\n",
    "df_contracts = df.filter(pc.field(\"commodity\") == 'FRC').to_table().to_pandas()\n",
    "df_contracts['maturity_date'] = df_contracts['maturity_code'].apply(lambda x: maturity2date(x, cal))\n",
    "df_contracts[\"business_days\"] = cal.bizdays(df_contracts['refdate'], cal.following(df_contracts[\"maturity_date\"]))\n",
    "df_contracts.sort_values([\"refdate\", \"maturity_date\"], inplace=True)\n",
    "df_contracts = df_contracts[[\"refdate\", \"symbol\", \"maturity_date\", \"settlement_price\", \"business_days\"]]\n",
    "\n",
    "tb_contracts = pyarrow.Table.from_pandas(df_contracts)\n",
    "ds.write_dataset(tb_contracts, man.db_path(\"b3-futures-frc\"), format=\"parquet\", existing_data_behavior=\"overwrite_or_ignore\")"
   ]
  },
  {
   "cell_type": "code",
   "execution_count": 9,
   "metadata": {},
   "outputs": [],
   "source": [
    "cal = Calendar.load(\"ANBIMA\")\n",
    "df_contracts = df.filter(pc.field(\"commodity\") == 'DAP').to_table().to_pandas()\n",
    "df_contracts['maturity_date'] = df_contracts['maturity_code'].apply(lambda x: maturity2date(x, cal, \"15th day\"))\n",
    "df_contracts[\"business_days\"] = cal.bizdays(df_contracts['refdate'], cal.following(df_contracts[\"maturity_date\"]))\n",
    "df_contracts[\"adjusted_tax\"] = (100000 / df_contracts[\"settlement_price\"]) ** (252 / df_contracts[\"business_days\"]) - 1\n",
    "df_contracts.sort_values([\"refdate\", \"maturity_date\"], inplace=True)\n",
    "df_contracts = df_contracts[[\"refdate\", \"symbol\", \"maturity_date\", \"settlement_price\", \"adjusted_tax\", \"business_days\"]]\n",
    "\n",
    "tb_contracts = pyarrow.Table.from_pandas(df_contracts)\n",
    "ds.write_dataset(tb_contracts, man.db_path(\"b3-futures-dap\"), format=\"parquet\", existing_data_behavior=\"overwrite_or_ignore\")"
   ]
  },
  {
   "cell_type": "code",
   "execution_count": 10,
   "metadata": {},
   "outputs": [],
   "source": [
    "min_bd = df_contracts.groupby(\"refdate\")[\"business_days\"].transform(\"min\")\n",
    "df_dap_first_contracts = df_contracts.loc[df_contracts[\"business_days\"] == min_bd,:]"
   ]
  },
  {
   "cell_type": "code",
   "execution_count": 11,
   "metadata": {},
   "outputs": [],
   "source": [
    "dd = sgs.get({\"CDI\": 4389}, start=datetime(2000, 1, 1))\n",
    "dd_cdi = dd.reset_index()\n",
    "dd_cdi[\"symbol\"] = \"CDI\"\n",
    "dd_cdi.columns = [\"refdate\", \"value\", \"symbol\"]\n",
    "\n",
    "dd = sgs.get({\"SELIC\": 1178}, start=datetime(2000, 1, 1))\n",
    "dd_selic = dd.reset_index()\n",
    "dd_selic[\"symbol\"] = \"SELIC\"\n",
    "dd_selic.columns = [\"refdate\", \"value\", \"symbol\"]\n",
    "\n",
    "dd = sgs.get({\"SETA\": 432}, start=datetime(2000, 1, 1))\n",
    "dd_seta = dd.reset_index()\n",
    "dd_seta[\"symbol\"] = \"SETA\"\n",
    "dd_seta.columns = [\"refdate\", \"value\", \"symbol\"]\n",
    "\n",
    "dd = sgs.get({\"IPCA\": 433}, start=datetime(1980, 1, 1))\n",
    "dd_ipca = dd.reset_index()\n",
    "dd_ipca[\"symbol\"] = \"IPCA\"\n",
    "dd_ipca.columns = [\"refdate\", \"value\", \"symbol\"]\n",
    "\n",
    "dd = sgs.get({\"IGPM\": 189}, start=datetime(1980, 1, 1))\n",
    "dd_igpm = dd.reset_index()\n",
    "dd_igpm[\"symbol\"] = \"IGPM\"\n",
    "dd_igpm.columns = [\"refdate\", \"value\", \"symbol\"]"
   ]
  },
  {
   "cell_type": "code",
   "execution_count": 12,
   "metadata": {},
   "outputs": [],
   "source": [
    "\n",
    "ptax = PTAX()\n",
    "ep = ptax.get_endpoint('CotacaoMoedaPeriodo')\n",
    "dd = (ep.query()\n",
    "   .parameters(moeda='USD', dataInicial='1/1/2000', dataFinalCotacao=datetime.today().strftime(\"%m/%d/%Y\"))\n",
    "   .filter(ep.tipoBoletim == \"Fechamento\")\n",
    "   .select(ep.dataHoraCotacao, ep.cotacaoVenda)\n",
    "   .collect())\n",
    "dd_dol = dd\n",
    "dd_dol[\"symbol\"] = \"BRLUSD\"\n",
    "dd_dol.columns = [\"value\", \"refdate\", \"symbol\"]\n",
    "dd_dol[\"refdate\"] = pd.to_datetime(dd_dol[\"refdate\"])\n",
    "dd_dol = dd_dol.loc[:, [\"refdate\", \"value\", \"symbol\"]]"
   ]
  },
  {
   "cell_type": "code",
   "execution_count": 13,
   "metadata": {},
   "outputs": [
    {
     "data": {
      "text/plain": [
       "refdate    datetime64[ns]\n",
       "value             float64\n",
       "symbol             object\n",
       "dtype: object"
      ]
     },
     "execution_count": 13,
     "metadata": {},
     "output_type": "execute_result"
    }
   ],
   "source": [
    "dd_dol.dtypes"
   ]
  },
  {
   "cell_type": "code",
   "execution_count": 14,
   "metadata": {},
   "outputs": [],
   "source": [
    "tb_cdi = pyarrow.Table.from_pandas(dd_cdi)\n",
    "tb_selic = pyarrow.Table.from_pandas(dd_selic)\n",
    "tb_seta = pyarrow.Table.from_pandas(dd_seta)\n",
    "tb_ipca = pyarrow.Table.from_pandas(dd_ipca)\n",
    "tb_igpm = pyarrow.Table.from_pandas(dd_igpm)\n",
    "tb_dol = pyarrow.Table.from_pandas(dd_dol)\n",
    "\n",
    "tb_bcb = pyarrow.concat_tables([tb_cdi, tb_selic, tb_seta, tb_ipca, tb_igpm, tb_dol])"
   ]
  },
  {
   "cell_type": "code",
   "execution_count": 15,
   "metadata": {},
   "outputs": [],
   "source": [
    "ds.write_dataset(tb_bcb, man.db_path(\"bcb-data\"), format=\"parquet\", existing_data_behavior=\"overwrite_or_ignore\")"
   ]
  },
  {
   "cell_type": "code",
   "execution_count": 16,
   "metadata": {},
   "outputs": [],
   "source": [
    "tb_cotahist_yearly = brasa.get_dataset(\"b3-cotahist-yearly\").to_table()\n",
    "tb_cotahist_daily = brasa.get_dataset(\"b3-cotahist-daily\").to_table()\n",
    "tb_cotahist = pyarrow.concat_tables([tb_cotahist_yearly, tb_cotahist_daily])\n",
    "\n",
    "tb_cotahist.sort_by([(\"refdate\", \"ascending\")])\n",
    "ds.write_dataset(tb_cotahist, man.db_path(\"b3-cotahist\"), format=\"parquet\", existing_data_behavior=\"overwrite_or_ignore\")"
   ]
  },
  {
   "cell_type": "code",
   "execution_count": 17,
   "metadata": {},
   "outputs": [
    {
     "data": {
      "text/plain": [
       "<Axes: xlabel='refdate'>"
      ]
     },
     "execution_count": 17,
     "metadata": {},
     "output_type": "execute_result"
    },
    {
     "data": {
      "image/png": "[encoded data removed]",
      "text/plain": [
       "<Figure size 640x480 with 1 Axes>"
      ]
     },
     "metadata": {},
     "output_type": "display_data"
    }
   ],
   "source": [
    "dd = tb_cotahist.filter(pc.field(\"symbol\") == 'PIBB11').to_pandas()\n",
    "dd.plot(x=\"refdate\", y=\"close\")"
   ]
  }
 ],
 "metadata": {
  "kernelspec": {
   "display_name": "w310",
   "language": "python",
   "name": "python3"
  },
  "language_info": {
   "codemirror_mode": {
    "name": "ipython",
    "version": 3
   },
   "file_extension": ".py",
   "mimetype": "text/x-python",
   "name": "python",
   "nbconvert_exporter": "python",
   "pygments_lexer": "ipython3",
   "version": "3.10.11"
  },
  "orig_nbformat": 4
 },
 "nbformat": 4,
 "nbformat_minor": 2
}
