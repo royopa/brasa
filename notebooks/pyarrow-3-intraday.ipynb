{
 "cells": [
  {
   "cell_type": "code",
   "execution_count": 1,
   "metadata": {},
   "outputs": [],
   "source": [
    "import os\n",
    "\n",
    "os.environ[\"BRASA_DATA_PATH\"] = \"D:\\\\brasa\""
   ]
  },
  {
   "cell_type": "code",
   "execution_count": 2,
   "metadata": {},
   "outputs": [],
   "source": [
    "import sys\n",
    "sys.path.append('..')\n",
    "\n",
    "from datetime import datetime\n",
    "\n",
    "import pandas as pd\n",
    "import pyarrow.dataset as ds\n",
    "import pyarrow.compute as pc\n",
    "import pyarrow\n",
    "from bizdays import Calendar, set_option\n",
    "\n",
    "import brasa\n",
    "\n",
    "man = brasa.CacheManager()"
   ]
  },
  {
   "cell_type": "code",
   "execution_count": 3,
   "metadata": {},
   "outputs": [],
   "source": [
    "ds_intra = brasa.get_dataset(\"b3-trades-intraday\")"
   ]
  },
  {
   "cell_type": "code",
   "execution_count": 4,
   "metadata": {},
   "outputs": [
    {
     "data": {
      "text/plain": [
       "187462030"
      ]
     },
     "execution_count": 4,
     "metadata": {},
     "output_type": "execute_result"
    }
   ],
   "source": [
    "ds_intra.count_rows()"
   ]
  },
  {
   "cell_type": "code",
   "execution_count": 5,
   "metadata": {},
   "outputs": [
    {
     "data": {
      "text/plain": [
       "refdate: timestamp[us]\n",
       "symbol: string\n",
       "update_action: int64\n",
       "traded_price: double\n",
       "traded_quantity: int64\n",
       "trade_time: string\n",
       "trade_id: int64\n",
       "trade_session_id: int64\n",
       "trade_date: timestamp[us]\n",
       "buyer_code: int64\n",
       "seller_code: int64\n",
       "-- schema metadata --\n",
       "pandas: '{\"index_columns\": [{\"kind\": \"range\", \"name\": null, \"start\": 0, \"' + 1673"
      ]
     },
     "execution_count": 5,
     "metadata": {},
     "output_type": "execute_result"
    }
   ],
   "source": [
    "ds_intra.schema"
   ]
  },
  {
   "cell_type": "code",
   "execution_count": 6,
   "metadata": {},
   "outputs": [
    {
     "data": {
      "text/plain": [
       "202607"
      ]
     },
     "execution_count": 6,
     "metadata": {},
     "output_type": "execute_result"
    }
   ],
   "source": [
    "ds_intra.filter(pc.field(\"symbol\") == \"DI1F24\").count_rows()"
   ]
  },
  {
   "cell_type": "code",
   "execution_count": 8,
   "metadata": {},
   "outputs": [],
   "source": [
    "tb_di1f24 = ds_intra.filter(pc.field(\"symbol\") == \"DI1F24\").to_table()"
   ]
  },
  {
   "cell_type": "code",
   "execution_count": 10,
   "metadata": {},
   "outputs": [],
   "source": [
    "df_di1f24 = tb_di1f24.to_pandas()"
   ]
  },
  {
   "cell_type": "code",
   "execution_count": 11,
   "metadata": {},
   "outputs": [
    {
     "data": {
      "text/html": [
       "<div>\n",
       "<style scoped>\n",
       "    .dataframe tbody tr th:only-of-type {\n",
       "        vertical-align: middle;\n",
       "    }\n",
       "\n",
       "    .dataframe tbody tr th {\n",
       "        vertical-align: top;\n",
       "    }\n",
       "\n",
       "    .dataframe thead th {\n",
       "        text-align: right;\n",
       "    }\n",
       "</style>\n",
       "<table border=\"1\" class=\"dataframe\">\n",
       "  <thead>\n",
       "    <tr style=\"text-align: right;\">\n",
       "      <th></th>\n",
       "      <th>refdate</th>\n",
       "      <th>symbol</th>\n",
       "      <th>update_action</th>\n",
       "      <th>traded_price</th>\n",
       "      <th>traded_quantity</th>\n",
       "      <th>trade_time</th>\n",
       "      <th>trade_id</th>\n",
       "      <th>trade_session_id</th>\n",
       "      <th>trade_date</th>\n",
       "      <th>buyer_code</th>\n",
       "      <th>seller_code</th>\n",
       "    </tr>\n",
       "  </thead>\n",
       "  <tbody>\n",
       "    <tr>\n",
       "      <th>0</th>\n",
       "      <td>2023-05-31</td>\n",
       "      <td>DI1F24</td>\n",
       "      <td>0</td>\n",
       "      <td>13.210</td>\n",
       "      <td>10</td>\n",
       "      <td>090048610</td>\n",
       "      <td>10</td>\n",
       "      <td>1</td>\n",
       "      <td>2023-05-31</td>\n",
       "      <td>114</td>\n",
       "      <td>114</td>\n",
       "    </tr>\n",
       "    <tr>\n",
       "      <th>1</th>\n",
       "      <td>2023-05-31</td>\n",
       "      <td>DI1F24</td>\n",
       "      <td>0</td>\n",
       "      <td>13.210</td>\n",
       "      <td>27</td>\n",
       "      <td>090048610</td>\n",
       "      <td>20</td>\n",
       "      <td>1</td>\n",
       "      <td>2023-05-31</td>\n",
       "      <td>1618</td>\n",
       "      <td>114</td>\n",
       "    </tr>\n",
       "    <tr>\n",
       "      <th>2</th>\n",
       "      <td>2023-05-31</td>\n",
       "      <td>DI1F24</td>\n",
       "      <td>0</td>\n",
       "      <td>13.205</td>\n",
       "      <td>4</td>\n",
       "      <td>090054707</td>\n",
       "      <td>30</td>\n",
       "      <td>1</td>\n",
       "      <td>2023-05-31</td>\n",
       "      <td>1618</td>\n",
       "      <td>1618</td>\n",
       "    </tr>\n",
       "    <tr>\n",
       "      <th>3</th>\n",
       "      <td>2023-05-31</td>\n",
       "      <td>DI1F24</td>\n",
       "      <td>0</td>\n",
       "      <td>13.205</td>\n",
       "      <td>6</td>\n",
       "      <td>090100660</td>\n",
       "      <td>40</td>\n",
       "      <td>1</td>\n",
       "      <td>2023-05-31</td>\n",
       "      <td>1618</td>\n",
       "      <td>1618</td>\n",
       "    </tr>\n",
       "    <tr>\n",
       "      <th>4</th>\n",
       "      <td>2023-05-31</td>\n",
       "      <td>DI1F24</td>\n",
       "      <td>0</td>\n",
       "      <td>13.205</td>\n",
       "      <td>6</td>\n",
       "      <td>090100697</td>\n",
       "      <td>50</td>\n",
       "      <td>1</td>\n",
       "      <td>2023-05-31</td>\n",
       "      <td>1618</td>\n",
       "      <td>8</td>\n",
       "    </tr>\n",
       "    <tr>\n",
       "      <th>...</th>\n",
       "      <td>...</td>\n",
       "      <td>...</td>\n",
       "      <td>...</td>\n",
       "      <td>...</td>\n",
       "      <td>...</td>\n",
       "      <td>...</td>\n",
       "      <td>...</td>\n",
       "      <td>...</td>\n",
       "      <td>...</td>\n",
       "      <td>...</td>\n",
       "      <td>...</td>\n",
       "    </tr>\n",
       "    <tr>\n",
       "      <th>202602</th>\n",
       "      <td>2023-06-28</td>\n",
       "      <td>DI1F24</td>\n",
       "      <td>0</td>\n",
       "      <td>12.970</td>\n",
       "      <td>500</td>\n",
       "      <td>175932270</td>\n",
       "      <td>54410</td>\n",
       "      <td>1</td>\n",
       "      <td>2023-06-28</td>\n",
       "      <td>3</td>\n",
       "      <td>3</td>\n",
       "    </tr>\n",
       "    <tr>\n",
       "      <th>202603</th>\n",
       "      <td>2023-06-28</td>\n",
       "      <td>DI1F24</td>\n",
       "      <td>0</td>\n",
       "      <td>12.970</td>\n",
       "      <td>125</td>\n",
       "      <td>175954357</td>\n",
       "      <td>54420</td>\n",
       "      <td>1</td>\n",
       "      <td>2023-06-28</td>\n",
       "      <td>72</td>\n",
       "      <td>72</td>\n",
       "    </tr>\n",
       "    <tr>\n",
       "      <th>202604</th>\n",
       "      <td>2023-06-28</td>\n",
       "      <td>DI1F24</td>\n",
       "      <td>0</td>\n",
       "      <td>12.970</td>\n",
       "      <td>32</td>\n",
       "      <td>175956920</td>\n",
       "      <td>54430</td>\n",
       "      <td>1</td>\n",
       "      <td>2023-06-28</td>\n",
       "      <td>72</td>\n",
       "      <td>72</td>\n",
       "    </tr>\n",
       "    <tr>\n",
       "      <th>202605</th>\n",
       "      <td>2023-06-28</td>\n",
       "      <td>DI1F24</td>\n",
       "      <td>0</td>\n",
       "      <td>12.970</td>\n",
       "      <td>9</td>\n",
       "      <td>175957587</td>\n",
       "      <td>54440</td>\n",
       "      <td>1</td>\n",
       "      <td>2023-06-28</td>\n",
       "      <td>72</td>\n",
       "      <td>72</td>\n",
       "    </tr>\n",
       "    <tr>\n",
       "      <th>202606</th>\n",
       "      <td>2023-06-28</td>\n",
       "      <td>DI1F24</td>\n",
       "      <td>0</td>\n",
       "      <td>12.970</td>\n",
       "      <td>2</td>\n",
       "      <td>175957843</td>\n",
       "      <td>54450</td>\n",
       "      <td>1</td>\n",
       "      <td>2023-06-28</td>\n",
       "      <td>6003</td>\n",
       "      <td>72</td>\n",
       "    </tr>\n",
       "  </tbody>\n",
       "</table>\n",
       "<p>202607 rows × 11 columns</p>\n",
       "</div>"
      ],
      "text/plain": [
       "          refdate  symbol  update_action  traded_price  traded_quantity  \\\n",
       "0      2023-05-31  DI1F24              0        13.210               10   \n",
       "1      2023-05-31  DI1F24              0        13.210               27   \n",
       "2      2023-05-31  DI1F24              0        13.205                4   \n",
       "3      2023-05-31  DI1F24              0        13.205                6   \n",
       "4      2023-05-31  DI1F24              0        13.205                6   \n",
       "...           ...     ...            ...           ...              ...   \n",
       "202602 2023-06-28  DI1F24              0        12.970              500   \n",
       "202603 2023-06-28  DI1F24              0        12.970              125   \n",
       "202604 2023-06-28  DI1F24              0        12.970               32   \n",
       "202605 2023-06-28  DI1F24              0        12.970                9   \n",
       "202606 2023-06-28  DI1F24              0        12.970                2   \n",
       "\n",
       "       trade_time  trade_id  trade_session_id trade_date  buyer_code  \\\n",
       "0       090048610        10                 1 2023-05-31         114   \n",
       "1       090048610        20                 1 2023-05-31        1618   \n",
       "2       090054707        30                 1 2023-05-31        1618   \n",
       "3       090100660        40                 1 2023-05-31        1618   \n",
       "4       090100697        50                 1 2023-05-31        1618   \n",
       "...           ...       ...               ...        ...         ...   \n",
       "202602  175932270     54410                 1 2023-06-28           3   \n",
       "202603  175954357     54420                 1 2023-06-28          72   \n",
       "202604  175956920     54430                 1 2023-06-28          72   \n",
       "202605  175957587     54440                 1 2023-06-28          72   \n",
       "202606  175957843     54450                 1 2023-06-28        6003   \n",
       "\n",
       "        seller_code  \n",
       "0               114  \n",
       "1               114  \n",
       "2              1618  \n",
       "3              1618  \n",
       "4                 8  \n",
       "...             ...  \n",
       "202602            3  \n",
       "202603           72  \n",
       "202604           72  \n",
       "202605           72  \n",
       "202606           72  \n",
       "\n",
       "[202607 rows x 11 columns]"
      ]
     },
     "execution_count": 11,
     "metadata": {},
     "output_type": "execute_result"
    }
   ],
   "source": [
    "df_di1f24"
   ]
  }
 ],
 "metadata": {
  "kernelspec": {
   "display_name": "brasa-iv4UAxlw-py3.10",
   "language": "python",
   "name": "python3"
  },
  "language_info": {
   "codemirror_mode": {
    "name": "ipython",
    "version": 3
   },
   "file_extension": ".py",
   "mimetype": "text/x-python",
   "name": "python",
   "nbconvert_exporter": "python",
   "pygments_lexer": "ipython3",
   "version": "3.10.11"
  },
  "orig_nbformat": 4
 },
 "nbformat": 4,
 "nbformat_minor": 2
}
