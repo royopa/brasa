{
 "cells": [
  {
   "cell_type": "code",
   "execution_count": 2,
   "metadata": {},
   "outputs": [],
   "source": [
    "import base64"
   ]
  },
  {
   "cell_type": "code",
   "execution_count": null,
   "metadata": {},
   "outputs": [],
   "source": [
    "base64.b64decode(\"eyJsYW5ndWFnZSI6InB0LWJyIiwicGFnZU51bWJlciI6MSwicGFnZVNpemUiOjIwLCJ0cmFkaW5nTmFtZSI6IkJSQVNJTCJ9\")"
   ]
  },
  {
   "cell_type": "code",
   "execution_count": 4,
   "metadata": {},
   "outputs": [
    {
     "data": {
      "text/plain": [
       "b'{\"typeFund\":20,\"pageNumber\":1,\"pageSize\":20}'"
      ]
     },
     "execution_count": 4,
     "metadata": {},
     "output_type": "execute_result"
    }
   ],
   "source": [
    "url = \"https://sistemaswebb3-listados.b3.com.br/fundsProxy/fundsCall/GetListedFundsSIG/eyJ0eXBlRnVuZCI6MjAsInBhZ2VOdW1iZXIiOjEsInBhZ2VTaXplIjoyMH0=\"\n",
    "\n",
    "code = \"eyJ0eXBlRnVuZCI6MjAsInBhZ2VOdW1iZXIiOjEsInBhZ2VTaXplIjoyMH0=\"\n",
    "\n",
    "base64.b64decode(code)"
   ]
  },
  {
   "cell_type": "code",
   "execution_count": 3,
   "metadata": {},
   "outputs": [
    {
     "data": {
      "text/plain": [
       "b'{\"typeFund\":7,\"pageNumber\":1,\"pageSize\":20}'"
      ]
     },
     "execution_count": 3,
     "metadata": {},
     "output_type": "execute_result"
    }
   ],
   "source": [
    "\"https://sistemaswebb3-listados.b3.com.br/fundsProxy/fundsCall/GetListedFundsSIG/eyJ0eXBlRnVuZCI6NywicGFnZU51bWJlciI6MSwicGFnZVNpemUiOjIwfQ==\"\n",
    "\n",
    "base64.b64decode(\"eyJ0eXBlRnVuZCI6NywicGFnZU51bWJlciI6MSwicGFnZVNpemUiOjIwfQ==\")"
   ]
  },
  {
   "cell_type": "code",
   "execution_count": 3,
   "metadata": {},
   "outputs": [
    {
     "data": {
      "text/plain": [
       "b'{\"codeCVM\":\"21610\",\"language\":\"pt-br\"}'"
      ]
     },
     "execution_count": 3,
     "metadata": {},
     "output_type": "execute_result"
    }
   ],
   "source": [
    "\"https://sistemaswebb3-listados.b3.com.br/listedCompaniesProxy/CompanyCall/GetListedFinancial/eyJjb2RlQ1ZNIjoiMjE2MTAiLCJsYW5ndWFnZSI6InB0LWJyIn0=\"\n",
    "\n",
    "base64.b64decode(\"eyJjb2RlQ1ZNIjoiMjE2MTAiLCJsYW5ndWFnZSI6InB0LWJyIn0=\")"
   ]
  },
  {
   "cell_type": "code",
   "execution_count": 6,
   "metadata": {},
   "outputs": [
    {
     "data": {
      "text/plain": [
       "b'{\"agency\":\"18\",\"dateInitial\":\"2023-11-30\",\"dateFinal\":\"2023-12-30\",\"issuingCompany\":\"(B3SA\"}'"
      ]
     },
     "execution_count": 6,
     "metadata": {},
     "output_type": "execute_result"
    }
   ],
   "source": [
    "\"https://sistemaswebb3-listados.b3.com.br/listedCompaniesProxy/CompanyCall/GetListFreeFloat/eyJjb2RlQ1ZNIjoiMjE2MTAiLCJsYW5ndWFnZSI6InB0LWJyIn0=\"\n",
    "\n",
    "base64.b64decode(\"eyJjb2RlQ1ZNIjoiMjE2MTAiLCJsYW5ndWFnZSI6InB0LWJyIn0=\")\n",
    "\n",
    "\"https://sistemaswebb3-listados.b3.com.br/listedCompaniesProxy/CompanyCall/GetListFines/eyJjb2RlQ1ZNIjoiMjE2MTAiLCJ5ZWFyIjowLCJsYW5ndWFnZSI6InB0LWJyIn0=\"\n",
    "\n",
    "base64.b64decode(\"eyJjb2RlQ1ZNIjoiMjE2MTAiLCJ5ZWFyIjowLCJsYW5ndWFnZSI6InB0LWJyIn0=\")\n",
    "\n",
    "\"https://sistemaswebb3-listados.b3.com.br/listedCompaniesProxy/CompanyCall/GetListedHeadLines/eyJhZ2VuY3kiOiIxOCIsImRhdGVJbml0aWFsIjoiMjAyMy0xMS0zMCIsImRhdGVGaW5hbCI6IjIwMjMtMTItMzAiLCJpc3N1aW5nQ29tcGFueSI6IihCM1NBIn0=\"\n",
    "\n",
    "base64.b64decode(\"eyJhZ2VuY3kiOiIxOCIsImRhdGVJbml0aWFsIjoiMjAyMy0xMS0zMCIsImRhdGVGaW5hbCI6IjIwMjMtMTItMzAiLCJpc3N1aW5nQ29tcGFueSI6IihCM1NBIn0=\")"
   ]
  }
 ],
 "metadata": {
  "kernelspec": {
   "display_name": "w310",
   "language": "python",
   "name": "python3"
  },
  "language_info": {
   "codemirror_mode": {
    "name": "ipython",
    "version": 3
   },
   "file_extension": ".py",
   "mimetype": "text/x-python",
   "name": "python",
   "nbconvert_exporter": "python",
   "pygments_lexer": "ipython3",
   "version": "3.10.12"
  }
 },
 "nbformat": 4,
 "nbformat_minor": 2
}
