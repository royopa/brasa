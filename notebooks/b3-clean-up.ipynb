{
 "cells": [
  {
   "cell_type": "code",
   "execution_count": 1,
   "metadata": {},
   "outputs": [],
   "source": [
    "import os\n",
    "os.environ[\"BRASA_DATA_PATH\"] = \"D:\\\\brasa\"\n",
    "\n",
    "import sys\n",
    "sys.path.append('..')\n",
    "\n",
    "from datetime import datetime\n",
    "\n",
    "import pyarrow as pa\n",
    "import numpy as np\n",
    "import pandas as pd\n",
    "\n",
    "import brasa\n",
    "\n",
    "import sqlite3"
   ]
  },
  {
   "cell_type": "code",
   "execution_count": 17,
   "metadata": {},
   "outputs": [],
   "source": [
    "man = brasa.engine.CacheManager()\n",
    "\n",
    "conn = sqlite3.connect(database=man.cache_path(man.meta_db_filename))\n",
    "c = conn.cursor()\n",
    "c.execute(\"select id from cache_metadata\")\n",
    "rows = c.fetchall()"
   ]
  },
  {
   "cell_type": "code",
   "execution_count": 18,
   "metadata": {},
   "outputs": [],
   "source": [
    "from logging import warn\n",
    "\n",
    "\n",
    "man = brasa.engine.CacheManager()\n",
    "missing = []\n",
    "for r in rows:\n",
    "    _meta = man._load_meta_dict_by_id(r[0])\n",
    "    meta = brasa.engine.CacheMetadata(_meta[\"template\"])\n",
    "    meta.from_dict(_meta)\n",
    "    for fname in meta.downloaded_files:\n",
    "        has_missing = False\n",
    "        fname = man.cache_path(fname)\n",
    "        if not os.path.exists(fname):\n",
    "            has_missing = True\n",
    "            missing.append(r[0])\n",
    "        if has_missing:\n",
    "            warn((meta.template, meta.id))"
   ]
  },
  {
   "cell_type": "code",
   "execution_count": 19,
   "metadata": {},
   "outputs": [
    {
     "data": {
      "text/plain": [
       "0"
      ]
     },
     "execution_count": 19,
     "metadata": {},
     "output_type": "execute_result"
    }
   ],
   "source": [
    "len(missing)"
   ]
  },
  {
   "cell_type": "code",
   "execution_count": 5,
   "metadata": {},
   "outputs": [
    {
     "name": "stdout",
     "output_type": "stream",
     "text": [
      "Removing meta 49a1ce7c22834b3e66594fa983e73c0c\n"
     ]
    }
   ],
   "source": [
    "for r in set(missing):\n",
    "    _meta = man._load_meta_dict_by_id(r)\n",
    "    meta = brasa.engine.CacheMetadata(_meta[\"template\"])\n",
    "    meta.from_dict(_meta)\n",
    "    man.remove_meta(meta)"
   ]
  },
  {
   "cell_type": "code",
   "execution_count": null,
   "metadata": {},
   "outputs": [],
   "source": []
  }
 ],
 "metadata": {
  "kernelspec": {
   "display_name": "w310",
   "language": "python",
   "name": "python3"
  },
  "language_info": {
   "codemirror_mode": {
    "name": "ipython",
    "version": 3
   },
   "file_extension": ".py",
   "mimetype": "text/x-python",
   "name": "python",
   "nbconvert_exporter": "python",
   "pygments_lexer": "ipython3",
   "version": "3.10.12"
  }
 },
 "nbformat": 4,
 "nbformat_minor": 2
}
